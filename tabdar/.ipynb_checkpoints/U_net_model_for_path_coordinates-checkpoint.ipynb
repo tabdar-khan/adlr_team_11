{
 "cells": [
  {
   "cell_type": "markdown",
   "id": "6fdae782",
   "metadata": {},
   "source": [
    "### Utility Functions"
   ]
  },
  {
   "cell_type": "code",
   "execution_count": 38,
   "id": "730bd1cf",
   "metadata": {},
   "outputs": [],
   "source": [
    "import tensorflow as tf\n",
    "from IPython.display import clear_output\n",
    "import zlib\n",
    "import numpy as np\n",
    "import pandas as pd\n",
    "import sqlite3 as sql\n",
    "from contextlib import contextmanager\n",
    "from tensorflow.keras import layers\n",
    "\n",
    "\n",
    "_CMP = '_cmp'\n",
    "\n",
    "\n",
    "@contextmanager\n",
    "def open_db_connection(*, file, close=True,\n",
    "                       lock=None, check_same_thread=False):\n",
    "    \"\"\"\n",
    "    Safety wrapper for the database call.\n",
    "    \"\"\"\n",
    "\n",
    "    if lock is not None:\n",
    "        lock.acquire()\n",
    "\n",
    "    con = sql.connect(database=file, check_same_thread=check_same_thread)\n",
    "\n",
    "    try:\n",
    "        yield con\n",
    "\n",
    "    finally:\n",
    "        if close:\n",
    "            con.close()\n",
    "        if lock is not None:\n",
    "            lock.release()\n",
    "\n",
    "\n",
    "def get_table_name(file):\n",
    "    with open_db_connection(file=file, close=True) as con:\n",
    "        res = pd.read_sql_query(sql=\"SELECT name FROM sqlite_master WHERE type ='table' AND name NOT LIKE 'sqlite_%'\",\n",
    "                                con=con)\n",
    "        return res['name'].values\n",
    "\n",
    "\n",
    "def rename_table(file, tables):\n",
    "    old_names = get_table_name(file=file)\n",
    "\n",
    "    with open_db_connection(file=file, close=True) as con:\n",
    "        cur = con.cursor()\n",
    "        for old in old_names:\n",
    "            if old in tables:\n",
    "                new = tables['old']\n",
    "                cur.execute(f\"ALTER TABLE `{old}` RENAME TO `{new}`\")\n",
    "\n",
    "\n",
    "def get_values_sql(*, file, table='db', columns=None, rows=-1,\n",
    "                   values_only=False, squeeze_col=True, squeeze_row=True):\n",
    "    \"\"\"\n",
    "    'i_samples' == i_samples_global\n",
    "    \"\"\"\n",
    "\n",
    "    lock = None  # Lock is not necessary fo reading\n",
    "    if columns is None:\n",
    "        columns = '*'\n",
    "    if isinstance(columns, str):\n",
    "        columns = [columns]\n",
    "    columns_str = ', '.join(map(str, columns))\n",
    "\n",
    "    if isinstance(rows, int):\n",
    "        rows = [rows]\n",
    "    rows = np.array(rows)\n",
    "\n",
    "    if rows[0] == -1:  # All samples\n",
    "        with open_db_connection(file=file, close=True, lock=lock) as con:\n",
    "            df = pd.read_sql_query(con=con, sql=f\"SELECT {columns_str} FROM {table}\")  # path_db\n",
    "\n",
    "    else:\n",
    "        rows_str = rows + 1  # Attention! Unlike in Python, SQL indices start at 1\n",
    "        rows_str = ', '.join(map(str, rows_str))\n",
    "        with open_db_connection(file=file, close=True, lock=lock) as con:\n",
    "            df = pd.read_sql_query(sql=f\"SELECT {columns_str} FROM {table} WHERE ROWID in ({rows_str})\",\n",
    "                                   index_col=rows, con=con)\n",
    "\n",
    "    value_list = []\n",
    "    if np.any(columns == ['*']):\n",
    "        columns = df.columns.values\n",
    "\n",
    "    if values_only:\n",
    "        for col in columns:\n",
    "            value = __decompress_values(value=df.loc[:, col].values, col=col)\n",
    "            value_list.append(value)\n",
    "\n",
    "        if len(df) == 1 and squeeze_row:\n",
    "            for i in range(len(columns)):\n",
    "                value_list[i] = value_list[i][0]\n",
    "\n",
    "        if len(value_list) == 1 and squeeze_col:\n",
    "            value_list = value_list[0]\n",
    "\n",
    "        return value_list\n",
    "\n",
    "    # Return pandas.DataFrame\n",
    "    else:\n",
    "        for col in columns:\n",
    "            value = __decompress_values(value=df.loc[:, col].values, col=col)\n",
    "            df.loc[:, col] = numeric2object_array(value)\n",
    "\n",
    "        return df\n",
    "\n",
    "\n",
    "def set_values_sql(*, file, table='db',\n",
    "                   values, columns, rows=-1, lock=None):\n",
    "    \"\"\"\n",
    "    Note: multidimensional numpy arrays have to be saved as flat to SQL otherwise the order is messed up\n",
    "    values = ([...], [...], [...], ...)\n",
    "    \"\"\"\n",
    "\n",
    "    # Handle rows argument\n",
    "    if isinstance(rows, int):\n",
    "        if rows == -1:\n",
    "            rows = np.arange(len(values[0])).tolist()\n",
    "        else:\n",
    "            rows = [rows]\n",
    "\n",
    "    rows_sql = (np.array(rows) + 1).tolist()  # Attention! Unlike in Python, SQL indices start at 1\n",
    "\n",
    "    # Handle columns argument\n",
    "    if isinstance(columns, str):\n",
    "        columns = [columns]\n",
    "\n",
    "    columns_str = '=?, '.join(map(str, columns))\n",
    "    columns_str += '=?'\n",
    "\n",
    "    values_rows_sql = change_tuple_order(values + (rows_sql,))\n",
    "    values_rows_sql = list(values_rows_sql)\n",
    "    query = f\"UPDATE {table} SET {columns_str} WHERE ROWID=?\"\n",
    "\n",
    "    with open_db_connection(file=file, close=True, lock=lock) as con:\n",
    "        cur = con.cursor()\n",
    "        if len(values_rows_sql) == 1:\n",
    "            cur.execute(query, values_rows_sql[0])\n",
    "        else:\n",
    "            cur.executemany(query, values_rows_sql)\n",
    "\n",
    "        con.commit()\n",
    "\n",
    "\n",
    "def df2sql(df, file, table='db', if_exists='fail', lock=None):\n",
    "    \"\"\"\n",
    "    From DataFrame.to_sql():\n",
    "        if_exists : {'fail', 'replace', 'append'}, default 'fail'\n",
    "                   - fail: If table exists, do nothing.\n",
    "                   - replace: If table exists, drop it, recreate it, and insert Measurements.\n",
    "                   - append: If table exists, insert Measurements. Create if does not exist.\n",
    "    \"\"\"\n",
    "    with open_db_connection(file=file, close=True, lock=lock) as con:\n",
    "        df.to_sql(name=table, con=con, if_exists=if_exists, index=False)\n",
    "\n",
    "\n",
    "# Helper\n",
    "# Image Compression <-> Decompression\n",
    "def __decompress_values(value, col):\n",
    "    # SQL saves everything in binary form -> convert back to numeric, expect the columns which are marked as CMP\n",
    "    if isinstance(value[0], bytes) and col[-4:] != _CMP:\n",
    "        if col in ['i_world', 'i_sample', 'n_obstacles']:\n",
    "            value = np.array([np.frombuffer(v, dtype=int) for v in value], dtype=int)\n",
    "        elif col in ['rectangle_pos', 'rectangle_position', 'rectangle_size']:\n",
    "            value = np.array([np.frombuffer(v, dtype=int) for v in value], dtype=object)\n",
    "        else:\n",
    "            value = np.array([np.frombuffer(v, dtype=float) for v in value])\n",
    "        value = np.squeeze(value)\n",
    "\n",
    "    return value\n",
    "\n",
    "\n",
    "def change_tuple_order(tpl):\n",
    "    return tuple(map(lambda *tt: tuple(tt), *tpl))\n",
    "\n",
    "\n",
    "def numeric2object_array(arr):\n",
    "    n = arr.shape[0]\n",
    "    arr_obj = np.zeros(n, dtype=object)\n",
    "    for i in range(n):\n",
    "        arr_obj[i] = arr[i]\n",
    "\n",
    "    return arr_obj\n",
    "\n",
    "\n",
    "def object2numeric_array(arr):\n",
    "    s = np.shape(arr)\n",
    "    arr = np.array([v for v in np.ravel(arr)])\n",
    "    arr = np.reshape(arr, s + np.shape(arr)[1:])\n",
    "    return arr\n",
    "\n",
    "\n",
    "def initialize_array(shape, mode='zeros', dtype=None, order='c'):\n",
    "\n",
    "    if mode == 'zeros':\n",
    "        return np.zeros(shape, dtype=dtype, order=order)\n",
    "    elif mode == 'ones':\n",
    "        return np.ones(shape, dtype=dtype, order=order)\n",
    "    elif mode == 'empty':\n",
    "        return np.empty(shape, dtype=dtype, order=order)\n",
    "    elif mode == 'random':\n",
    "        return np.random.random(shape).astype(dtype=dtype, order=order)\n",
    "    else:\n",
    "        raise ValueError(f\"Unknown initialization method {mode}\")\n",
    "\n",
    "\n",
    "def __dim_voxels(n_voxels, n_dim=None):\n",
    "    if np.size(n_voxels) == 1:\n",
    "        try:\n",
    "            n_voxels = tuple(n_voxels)\n",
    "        except TypeError:\n",
    "            n_voxels = (n_voxels,)\n",
    "        n_voxels *= n_dim\n",
    "    else:\n",
    "        n_voxels = tuple(n_voxels)\n",
    "\n",
    "    return n_voxels\n",
    "\n",
    "\n",
    "def image_array_shape(n_voxels, n_samples=None, n_dim=None, n_channels=None):\n",
    "    \"\"\"\n",
    "    Helper to set the shape for an image array.\n",
    "    n_samples=100,  n_voxels=64,          n_dim=2,    n_channels=None  ->  (100, 64, 64)\n",
    "    n_samples=100,  n_voxels=64,          n_dim=3,    n_channels=2     ->  (100, 64, 64, 64, 2)\n",
    "    n_samples=None, n_voxel=(10, 11, 12), n_dim=None, n_channels=None  ->  (10, 11, 12)\n",
    "    \"\"\"\n",
    "\n",
    "    shape = __dim_voxels(n_voxels=n_voxels, n_dim=n_dim)\n",
    "\n",
    "    if n_samples is not None:\n",
    "        shape = (n_samples,) + shape\n",
    "    if n_channels is not None:\n",
    "        shape = shape + (n_channels,)\n",
    "\n",
    "    return shape\n",
    "\n",
    "\n",
    "def initialize_image_array(n_voxels, n_dim=None, n_samples=None, n_channels=None,\n",
    "                           dtype=bool, initialization='zeros'):\n",
    "    shape = image_array_shape(n_voxels=n_voxels, n_dim=n_dim, n_samples=n_samples, n_channels=n_channels)\n",
    "    return initialize_array(shape=shape, mode=initialization, dtype=dtype)\n",
    "\n",
    "\n",
    "# Image Compression <-> Decompression\n",
    "def img2compressed(img, n_dim=-1, level=9):\n",
    "    \"\"\"\n",
    "    Compress the given image with the zlib routine to a binary string.\n",
    "    Level of compression can be adjusted. A timing with respect to different compression levels for decompression showed\n",
    "    no difference, so the highest level is default, this corresponds to the largest compression.\n",
    "    For compression it is slightly slower but this happens just once and not during keras training, so the smaller\n",
    "    needed memory was favoured.\n",
    "    Alternative:\n",
    "    <-> use numpy sparse for the world images, especially in 3d  -> zlib is more effective and more general\n",
    "    \"\"\"\n",
    "\n",
    "    if n_dim == -1:\n",
    "        return zlib.compress(img.tobytes(), level=level)\n",
    "    else:\n",
    "        shape = img.shape[:-n_dim]\n",
    "        img_cmp = np.empty(shape, dtype=object)\n",
    "        for idx in np.ndindex(*shape):\n",
    "            img_cmp[idx] = zlib.compress(img[idx, ...].tobytes(), level=level)\n",
    "        return img_cmp\n",
    "\n",
    "\n",
    "def compressed2img(img_cmp, n_voxels, n_dim=None, n_channels=None, dtype=bool):\n",
    "    \"\"\"\n",
    "    Decompress the binary string back to an image of given shape\n",
    "    \"\"\"\n",
    "\n",
    "    shape = np.shape(img_cmp)\n",
    "\n",
    "    if shape:\n",
    "        n_samples = np.size(img_cmp)\n",
    "        img_arr = initialize_image_array(n_voxels=n_voxels, n_dim=n_dim, n_samples=n_samples, n_channels=n_channels,\n",
    "                                         dtype=dtype)\n",
    "        for i in range(n_samples):\n",
    "            img_arr[i, ...] = np.fromstring(zlib.decompress(img_cmp[i]), dtype=dtype).reshape(\n",
    "                image_array_shape(n_voxels=n_voxels, n_dim=n_dim, n_channels=n_channels))\n",
    "        return img_arr\n",
    "\n",
    "    else:\n",
    "        return np.fromstring(zlib.decompress(img_cmp), dtype=dtype).reshape(\n",
    "            image_array_shape(n_voxels=n_voxels, n_dim=n_dim, n_channels=n_channels))\n",
    "    \n",
    "\n",
    "\n",
    "\n",
    "\n",
    "\n",
    "\n",
    "class create_dataset(tf.keras.utils.Sequence):\n",
    "    \"\"\"Helper to iterate over the data (as Numpy arrays).\"\"\"\n",
    "\n",
    "    def __init__(self, batch_size, img_size, input_img_paths, target_img_paths):\n",
    "        self.batch_size = batch_size\n",
    "        self.img_size = img_size\n",
    "        self.input_img_paths = input_img_paths\n",
    "        self.target_img_paths = target_img_paths\n",
    "\n",
    "    def __len__(self):\n",
    "        return len(self.target_img_paths) // self.batch_size\n",
    "\n",
    "    def __getitem__(self, idx):\n",
    "        \"\"\"Returns tuple (input, target) correspond to batch #idx.\"\"\"\n",
    "        i = idx * self.batch_size\n",
    "        batch_input_img_paths = self.input_img_paths[i : i + self.batch_size]\n",
    "        batch_target_img_paths = self.target_img_paths[i : i + self.batch_size]\n",
    "        x = np.zeros((self.batch_size,) + self.img_size + (3,), dtype=\"float32\")\n",
    "        for j, path in enumerate(batch_input_img_paths):\n",
    "            img = load_img(path, target_size=self.img_size)\n",
    "            x[j] = img\n",
    "        y = np.zeros((self.batch_size,) + self.img_size + (1,), dtype=\"uint8\")\n",
    "        for j, path in enumerate(batch_target_img_paths):\n",
    "            img = load_img(path, target_size=self.img_size, color_mode=\"grayscale\")\n",
    "            y[j] = np.expand_dims(img, 2)\n",
    "            # Ground truth labels are 1, 2, 3. Subtract one to make them 0, 1, 2:\n",
    "            y[j] -= 1\n",
    "        return x, y"
   ]
  },
  {
   "cell_type": "markdown",
   "id": "28a23508",
   "metadata": {},
   "source": [
    "### Main"
   ]
  },
  {
   "cell_type": "code",
   "execution_count": 58,
   "id": "fcfb5ed6",
   "metadata": {
    "scrolled": false
   },
   "outputs": [
    {
     "name": "stderr",
     "output_type": "stream",
     "text": [
      "/tmp/ipykernel_1333/3336820032.py:279: DeprecationWarning: The binary mode of fromstring is deprecated, as it behaves surprisingly on unicode inputs. Use frombuffer instead\n",
      "  img_arr[i, ...] = np.fromstring(zlib.decompress(img_cmp[i]), dtype=dtype).reshape(\n"
     ]
    },
    {
     "data": {
      "image/png": "[encoded data removed]",
      "text/plain": [
       "<Figure size 432x288 with 1 Axes>"
      ]
     },
     "metadata": {
      "needs_background": "light"
     },
     "output_type": "display_data"
    }
   ],
   "source": [
    "import numpy as np\n",
    "\n",
    "file = '../SingleSphere02.db'\n",
    "# TODO change to you own directory\n",
    "\n",
    "\n",
    "n_voxels = 64\n",
    "voxel_size = 10 / 64     # in m\n",
    "extent = [0, 10, 0, 10]  # in m\n",
    "n_waypoints = 22  # start + 20 inner points + end\n",
    "n_dim = 2\n",
    "n_paths_per_world = 1000\n",
    "n_worlds = 5000\n",
    "\n",
    "\n",
    "worlds = get_values_sql(file=file, table='worlds')\n",
    "obstacle_images = compressed2img(img_cmp=worlds.obst_img_cmp.values, n_voxels=n_voxels, n_dim=n_dim)\n",
    "\n",
    "# always 1000 paths belong to one world\n",
    "# 0...999     -> world 0\n",
    "# 1000...1999 -> world 1\n",
    "# 2000...2999 -> world 2\n",
    "paths = get_values_sql(file=file, table='paths', rows=[0, 1, 2, 1000, 2000])\n",
    "path_images = compressed2img(img_cmp=paths.path_img_cmp.values, n_voxels=n_voxels, n_dim=n_dim)\n",
    "start_images = compressed2img(img_cmp=paths.start_img_cmp.values, n_voxels=n_voxels, n_dim=n_dim)\n",
    "end_images = compressed2img(img_cmp=paths.end_img_cmp.values, n_voxels=n_voxels, n_dim=n_dim)\n",
    "\n",
    "q_paths = object2numeric_array(paths.q_path.values)\n",
    "q_paths = q_paths.reshape(-1, n_waypoints, n_dim)\n",
    "\n",
    "# Plot an example\n",
    "i = 0\n",
    "i_world = paths.i_world[i]\n",
    "\n",
    "import matplotlib.pyplot as plt\n",
    "fig, ax = plt.subplots()\n",
    "\n",
    "ax.imshow(obstacle_images[i_world].T, origin='lower', extent=extent, cmap='binary',)\n",
    "ax.imshow(start_images[i].T, origin='lower', extent=extent, cmap='Greens', alpha=0.4)\n",
    "ax.imshow(end_images[i].T, origin='lower', extent=extent, cmap='Reds', alpha=0.4)\n",
    "ax.imshow(path_images[i].T, origin='lower', extent=extent, cmap='Blues', alpha=0.2)\n",
    "ax.axis('off')\n",
    "ax.plot(*q_paths[0].T, color='k', marker='o')\n",
    "plt.show()"
   ]
  },
  {
   "cell_type": "markdown",
   "id": "22ea6a80",
   "metadata": {},
   "source": [
    "# Creating Input/Output Image datasets"
   ]
  },
  {
   "cell_type": "code",
   "execution_count": 194,
   "id": "fe61c429",
   "metadata": {},
   "outputs": [],
   "source": [
    "def load_images_for_single_world(world_index, file='../SingleSphere02.db', paths_per_world=1000):\n",
    "    \n",
    "    \"\"\" Returns an array of tuples where each tuple contains:\n",
    "        1. Obstacle image of the desired world with different start & end points\n",
    "        2. Above image plus the path from start to end point\n",
    "    \"\"\"\n",
    "    \n",
    "    # Initial Parameters\n",
    "    n_voxels = 64\n",
    "    voxel_size = 10 / 64     # in m\n",
    "    extent = [0, 10, 0, 10]  # in m\n",
    "    n_waypoints = 22  # start + 20 inner points + end\n",
    "    n_dim = 2\n",
    "    n_paths_per_world = 1000\n",
    "    n_worlds = 5000\n",
    "\n",
    "    worlds = get_values_sql(file=file, table='worlds')\n",
    "    obstacle_image = compressed2img(img_cmp=worlds.obst_img_cmp.values, n_voxels=n_voxels, n_dim=n_dim)[world_index]\n",
    "    \n",
    "    # always 1000 paths belong to one world\n",
    "    # 0...999     -> world 0\n",
    "    # 1000...1999 -> world 1\n",
    "    # 2000...2999 -> world 2\n",
    "    path_range_start  = world_index * paths_per_world\n",
    "    path_range_end = world_index * paths_per_world + paths_per_world\n",
    "    n_world_all_paths = [x for x in range(path_range_start, path_range_end)]\n",
    "    \n",
    "    paths = get_values_sql(file=file, table='paths', rows=n_world_all_paths)\n",
    "    \n",
    "    # Decompressing objects to images\n",
    "    path_images = compressed2img(img_cmp=paths.path_img_cmp.values, n_voxels=n_voxels, n_dim=n_dim)\n",
    "    start_images = compressed2img(img_cmp=paths.start_img_cmp.values, n_voxels=n_voxels, n_dim=n_dim)\n",
    "    end_images = compressed2img(img_cmp=paths.end_img_cmp.values, n_voxels=n_voxels, n_dim=n_dim)\n",
    "    \n",
    "    # Coordinates\n",
    "    q_paths = object2numeric_array(paths.q_path.values)\n",
    "    q_paths = q_paths.reshape(-1, n_waypoints, n_dim)\n",
    "\n",
    "    input_images = []\n",
    "    output_images = []\n",
    "    path_coordinates = []\n",
    "    for i in range(len(n_world_all_paths)):\n",
    "        input_images.append(np.concatenate((obstacle_image.T[:,:,np.newaxis], start_images[i].T[:,:,np.newaxis],end_images[i].T[:,:,np.newaxis]), axis=-1))\n",
    "        #input_images.append(obstacle_images[i_world].T + start_images[i].T + end_images[i].T)\n",
    "        output_images.append(np.expand_dims(path_images[i].T, axis=-1))\n",
    "        path_coordinates.append(q_paths[i].T) \n",
    "    return input_images, output_images, path_coordinates"
   ]
  },
  {
   "cell_type": "code",
   "execution_count": 195,
   "id": "f24b8bd6",
   "metadata": {
    "scrolled": true
   },
   "outputs": [
    {
     "name": "stderr",
     "output_type": "stream",
     "text": [
      "/tmp/ipykernel_1333/3336820032.py:279: DeprecationWarning: The binary mode of fromstring is deprecated, as it behaves surprisingly on unicode inputs. Use frombuffer instead\n",
      "  img_arr[i, ...] = np.fromstring(zlib.decompress(img_cmp[i]), dtype=dtype).reshape(\n"
     ]
    }
   ],
   "source": [
    "input_images, output_images, path_coords = load_images_for_single_world(0)"
   ]
  },
  {
   "cell_type": "markdown",
   "id": "9108408f",
   "metadata": {},
   "source": [
    "# Image Pre-processing"
   ]
  },
  {
   "cell_type": "code",
   "execution_count": 43,
   "id": "2a994b19",
   "metadata": {},
   "outputs": [],
   "source": [
    "def list_to_np_arrays(list_of_images):\n",
    "    ''' Returns a singular numpy array from a list of images. \\\n",
    "        It is used to arrange images to be compatible while making tensorflow datasets\n",
    "    '''\n",
    "    \n",
    "    length = list_of_images[0].shape[0]\n",
    "    width  = list_of_images[0].shape[1]\n",
    "    depth  = list_of_images[0].shape[2]\n",
    "    \n",
    "    imgs   = np.empty((0, length, width, depth))\n",
    "    \n",
    "    for img in list_of_images:\n",
    "        imgs = np.append(imgs, np.array(img).reshape((1, length, width, depth)), axis=0)\n",
    "        \n",
    "    return imgs\n",
    "\n"
   ]
  },
  {
   "cell_type": "code",
   "execution_count": 78,
   "id": "50542db5",
   "metadata": {
    "scrolled": true
   },
   "outputs": [
    {
     "name": "stdout",
     "output_type": "stream",
     "text": [
      "Input Images Shape after Reshaping:  (1000, 64, 64, 3)\n",
      "Output Images Shape after Reshaping:  (1000, 64, 64, 1)\n",
      "Output Images Shape after Reshaping:  (1000, 2, 22)\n"
     ]
    }
   ],
   "source": [
    "# Reshaping\n",
    "input_images = np.reshape(input_images, (-1, 64, 64, 3))\n",
    "print(\"Input Images Shape after Reshaping: \",input_images.shape)\n",
    "\n",
    "output_images = np.reshape(output_images, (-1, 64, 64, 1))\n",
    "print(\"Output Images Shape after Reshaping: \",output_images.shape)\n",
    "\n",
    "path_coords = np.reshape(np.array(path_coords), (-1, 2, 22))\n",
    "print(\"Output Images Shape after Reshaping: \", path_coords.shape)"
   ]
  },
  {
   "cell_type": "code",
   "execution_count": 79,
   "id": "d8b4bcf4",
   "metadata": {},
   "outputs": [],
   "source": [
    "# X = list_to_np_arrays(input_images)\n",
    "# y = list_to_np_arrays(output_images)\n",
    "\n",
    "X = input_images\n",
    "y = path_coords\n",
    "\n",
    "from sklearn.model_selection import train_test_split\n",
    "data_train, data_test, labels_train, labels_test = train_test_split(X, y, test_size=0.20, random_state=42)\n",
    "#labels_train = labels_train.astype(np.bool_)\n",
    "#labels_test = labels_test.astype(np.bool_)\n"
   ]
  },
  {
   "cell_type": "code",
   "execution_count": 74,
   "id": "c27508d9",
   "metadata": {},
   "outputs": [
    {
     "data": {
      "text/plain": [
       "numpy.ndarray"
      ]
     },
     "execution_count": 74,
     "metadata": {},
     "output_type": "execute_result"
    }
   ],
   "source": []
  },
  {
   "cell_type": "markdown",
   "id": "260f6530",
   "metadata": {},
   "source": [
    "# Sample Input and Output Data Visuals"
   ]
  },
  {
   "cell_type": "code",
   "execution_count": 110,
   "id": "22341f84",
   "metadata": {},
   "outputs": [
    {
     "data": {
      "image/png": "[encoded data removed]",
      "text/plain": [
       "<Figure size 936x936 with 2 Axes>"
      ]
     },
     "metadata": {
      "needs_background": "light"
     },
     "output_type": "display_data"
    }
   ],
   "source": [
    "idx=11\n",
    "path = labels_test[idx]\n",
    "path = path == 0\n",
    "\n",
    "fig, axs = plt.subplots(1,2, figsize=(13,13))\n",
    "\n",
    "axs[0].imshow((data_test[idx]*255).astype(np.uint8), extent=extent, origin=\"lower\")\n",
    "axs[0].set_title('Sample Input')\n",
    "#axs[0].imshow((path*255).astype(np.uint8), cmap='Blues', alpha=0.2)\n",
    "\n",
    "axs[1].imshow((data_test[idx]*255).astype(np.uint8), extent=extent, origin=\"lower\")\n",
    "axs[1].plot(*labels_test[idx], color='w', marker='o', )\n",
    "#axs[1].imshow((path*255).astype(np.uint8), cmap='Blues', alpha=0.4)\n",
    "axs[1].set_title('Sample Output')\n",
    "\n",
    "axs[0].axis('off')\n",
    "axs[1].axis('off')\n",
    "plt.show()"
   ]
  },
  {
   "cell_type": "markdown",
   "id": "55b48f8e",
   "metadata": {},
   "source": [
    "# Defining Model"
   ]
  },
  {
   "cell_type": "code",
   "execution_count": 130,
   "id": "bbd23028",
   "metadata": {},
   "outputs": [],
   "source": [
    "def get_model(img_size, num_classes):   \n",
    "    inputs = tf.keras.layers.Input(shape=img_size + (3,))\n",
    "    #s = tf.keras.layers.Lambda(lambda x: x / 255)(inputs)\n",
    "\n",
    "    #Contraction path\n",
    "    c1 = tf.keras.layers.Conv2D(16, (3, 3), activation='relu', kernel_initializer='he_normal', padding='same')(inputs)\n",
    "    c1 = tf.keras.layers.Dropout(0.1)(c1)\n",
    "    c1 = tf.keras.layers.Conv2D(16, (3, 3), activation='relu', kernel_initializer='he_normal', padding='same')(c1)\n",
    "    p1 = tf.keras.layers.MaxPooling2D((2, 2))(c1)\n",
    "\n",
    "    c2 = tf.keras.layers.Conv2D(32, (3, 3), activation='relu', kernel_initializer='he_normal', padding='same')(p1)\n",
    "    c2 = tf.keras.layers.Dropout(0.1)(c2)\n",
    "    c2 = tf.keras.layers.Conv2D(32, (3, 3), activation='relu', kernel_initializer='he_normal', padding='same')(c2)\n",
    "    p2 = tf.keras.layers.MaxPooling2D((2, 2))(c2)\n",
    "\n",
    "    c3 = tf.keras.layers.Conv2D(64, (3, 3), activation='relu', kernel_initializer='he_normal', padding='same')(p2)\n",
    "    c3 = tf.keras.layers.Dropout(0.2)(c3)\n",
    "    c3 = tf.keras.layers.Conv2D(64, (3, 3), activation='relu', kernel_initializer='he_normal', padding='same')(c3)\n",
    "    p3 = tf.keras.layers.MaxPooling2D((2, 2))(c3)\n",
    "\n",
    "    c4 = tf.keras.layers.Conv2D(128, (3, 3), activation='relu', kernel_initializer='he_normal', padding='same')(p3)\n",
    "    c4 = tf.keras.layers.Dropout(0.2)(c4)\n",
    "    c4 = tf.keras.layers.Conv2D(128, (3, 3), activation='relu', kernel_initializer='he_normal', padding='same')(c4)\n",
    "    p4 = tf.keras.layers.MaxPooling2D(pool_size=(2, 2))(c4)\n",
    "\n",
    "    c5 = tf.keras.layers.Conv2D(256, (3, 3), activation='relu', kernel_initializer='he_normal', padding='same')(p4)\n",
    "    c5 = tf.keras.layers.Dropout(0.3)(c5)\n",
    "    c5 = tf.keras.layers.Conv2D(256, (3, 3), activation='relu', kernel_initializer='he_normal', padding='same')(c5)\n",
    "\n",
    "    #Expansive path \n",
    "    u6 = tf.keras.layers.Conv2DTranspose(128, (2, 2), strides=(2, 2), padding='same')(c5)\n",
    "    u6 = tf.keras.layers.concatenate([u6, c4])\n",
    "    c6 = tf.keras.layers.Conv2D(128, (3, 3), activation='relu', kernel_initializer='he_normal', padding='same')(u6)\n",
    "    c6 = tf.keras.layers.Dropout(0.2)(c6)\n",
    "    c6 = tf.keras.layers.Conv2D(128, (3, 3), activation='relu', kernel_initializer='he_normal', padding='same')(c6)\n",
    "\n",
    "    u7 = tf.keras.layers.Conv2DTranspose(64, (2, 2), strides=(2, 2), padding='same')(c6)\n",
    "    u7 = tf.keras.layers.concatenate([u7, c3])\n",
    "    c7 = tf.keras.layers.Conv2D(64, (3, 3), activation='relu', kernel_initializer='he_normal', padding='same')(u7)\n",
    "    c7 = tf.keras.layers.Dropout(0.2)(c7)\n",
    "    c7 = tf.keras.layers.Conv2D(64, (3, 3), activation='relu', kernel_initializer='he_normal', padding='same')(c7)\n",
    "\n",
    "    u8 = tf.keras.layers.Conv2DTranspose(32, (2, 2), strides=(2, 2), padding='same')(c7)\n",
    "    u8 = tf.keras.layers.concatenate([u8, c2])\n",
    "    c8 = tf.keras.layers.Conv2D(32, (3, 3), activation='relu', kernel_initializer='he_normal', padding='same')(u8)\n",
    "    c8 = tf.keras.layers.Dropout(0.1)(c8)\n",
    "    c8 = tf.keras.layers.Conv2D(32, (3, 3), activation='relu', kernel_initializer='he_normal', padding='same')(c8)\n",
    "\n",
    "    u9 = tf.keras.layers.Conv2DTranspose(16, (2, 2), strides=(2, 2), padding='same')(c8)\n",
    "    u9 = tf.keras.layers.concatenate([u9, c1], axis=3)\n",
    "    c9 = tf.keras.layers.Conv2D(16, (3, 3), activation='relu', kernel_initializer='he_normal', padding='same')(u9)\n",
    "    c9 = tf.keras.layers.Dropout(0.1)(c9)\n",
    "    c9 = tf.keras.layers.Conv2D(16, (3, 3), activation='relu', kernel_initializer='he_normal', padding='same')(c9)\n",
    "\n",
    "    im_output = tf.keras.layers.Conv2D(1, (1, 1), activation='relu')(c9)\n",
    "\n",
    "    \n",
    "    flat = tf.keras.layers.Flatten()(im_output)\n",
    "    d1 = tf.keras.layers.Dense(1024, activation='relu')(flat)\n",
    "        \n",
    "    d2 = tf.keras.layers.Dense(512, activation='relu')(d1)\n",
    "    d2 = tf.keras.layers.BatchNormalization()(d2)\n",
    "    d2 = tf.keras.layers.Dropout(0.1)(d2)\n",
    "    \n",
    "    d3 = tf.keras.layers.Dense(44)(d2)\n",
    "    \n",
    "    coordinates_output = tf.keras.layers.Reshape((2,22))(d3)\n",
    "    \n",
    "    \n",
    "    model = tf.keras.Model(inputs=[inputs], outputs=[coordinates_output])\n",
    "    return model"
   ]
  },
  {
   "cell_type": "code",
   "execution_count": 29,
   "id": "5e290cbb",
   "metadata": {},
   "outputs": [],
   "source": [
    "# def get_model():\n",
    "#     inputs = Input(shape=(100,100,1))\n",
    "#     x = Conv2D(32, (3,3), activation='relu')(inputs)\n",
    "#     x = MaxPooling2D((3,3))(x)\n",
    "#     x = Conv2D(32, (3,3), activation='relu')(x)\n",
    "#     x = MaxPooling2D((3,3))(x)\n",
    "#     x = Conv2D(64, (3,3), activation='relu')(x)\n",
    "#     x = GlobalAveragePooling2D()(x)\n",
    "#     classifier_head = Dropout(0.3)(x)\n",
    "#     # Notice the name of the layer.\n",
    "#     classifier_head = Dense(10, activation='softmax', name='label')(classifier_head)\n",
    "#     reg_head = Dense(64, activation='relu')(x)\n",
    "#     reg_head = Dense(32, activation='relu')(reg_head)\n",
    "#     # Notice the name of the layer.\n",
    "#     reg_head = Dense(4, activation='sigmoid', name='bbox')(reg_head)\n",
    "#     return Model(inputs=[inputs], outputs=[classifier_head, reg_head])"
   ]
  },
  {
   "cell_type": "markdown",
   "id": "82f0c16f",
   "metadata": {},
   "source": [
    "# Training the model"
   ]
  },
  {
   "cell_type": "code",
   "execution_count": 131,
   "id": "66a5f890",
   "metadata": {},
   "outputs": [
    {
     "name": "stdout",
     "output_type": "stream",
     "text": [
      "Model: \"model_5\"\n",
      "__________________________________________________________________________________________________\n",
      " Layer (type)                   Output Shape         Param #     Connected to                     \n",
      "==================================================================================================\n",
      " input_10 (InputLayer)          [(None, 64, 64, 3)]  0           []                               \n",
      "                                                                                                  \n",
      " conv2d_174 (Conv2D)            (None, 64, 64, 16)   448         ['input_10[0][0]']               \n",
      "                                                                                                  \n",
      " dropout_95 (Dropout)           (None, 64, 64, 16)   0           ['conv2d_174[0][0]']             \n",
      "                                                                                                  \n",
      " conv2d_175 (Conv2D)            (None, 64, 64, 16)   2320        ['dropout_95[0][0]']             \n",
      "                                                                                                  \n",
      " max_pooling2d_36 (MaxPooling2D  (None, 32, 32, 16)  0           ['conv2d_175[0][0]']             \n",
      " )                                                                                                \n",
      "                                                                                                  \n",
      " conv2d_176 (Conv2D)            (None, 32, 32, 32)   4640        ['max_pooling2d_36[0][0]']       \n",
      "                                                                                                  \n",
      " dropout_96 (Dropout)           (None, 32, 32, 32)   0           ['conv2d_176[0][0]']             \n",
      "                                                                                                  \n",
      " conv2d_177 (Conv2D)            (None, 32, 32, 32)   9248        ['dropout_96[0][0]']             \n",
      "                                                                                                  \n",
      " max_pooling2d_37 (MaxPooling2D  (None, 16, 16, 32)  0           ['conv2d_177[0][0]']             \n",
      " )                                                                                                \n",
      "                                                                                                  \n",
      " conv2d_178 (Conv2D)            (None, 16, 16, 64)   18496       ['max_pooling2d_37[0][0]']       \n",
      "                                                                                                  \n",
      " dropout_97 (Dropout)           (None, 16, 16, 64)   0           ['conv2d_178[0][0]']             \n",
      "                                                                                                  \n",
      " conv2d_179 (Conv2D)            (None, 16, 16, 64)   36928       ['dropout_97[0][0]']             \n",
      "                                                                                                  \n",
      " max_pooling2d_38 (MaxPooling2D  (None, 8, 8, 64)    0           ['conv2d_179[0][0]']             \n",
      " )                                                                                                \n",
      "                                                                                                  \n",
      " conv2d_180 (Conv2D)            (None, 8, 8, 128)    73856       ['max_pooling2d_38[0][0]']       \n",
      "                                                                                                  \n",
      " dropout_98 (Dropout)           (None, 8, 8, 128)    0           ['conv2d_180[0][0]']             \n",
      "                                                                                                  \n",
      " conv2d_181 (Conv2D)            (None, 8, 8, 128)    147584      ['dropout_98[0][0]']             \n",
      "                                                                                                  \n",
      " max_pooling2d_39 (MaxPooling2D  (None, 4, 4, 128)   0           ['conv2d_181[0][0]']             \n",
      " )                                                                                                \n",
      "                                                                                                  \n",
      " conv2d_182 (Conv2D)            (None, 4, 4, 256)    295168      ['max_pooling2d_39[0][0]']       \n",
      "                                                                                                  \n",
      " dropout_99 (Dropout)           (None, 4, 4, 256)    0           ['conv2d_182[0][0]']             \n",
      "                                                                                                  \n",
      " conv2d_183 (Conv2D)            (None, 4, 4, 256)    590080      ['dropout_99[0][0]']             \n",
      "                                                                                                  \n",
      " conv2d_transpose_36 (Conv2DTra  (None, 8, 8, 128)   131200      ['conv2d_183[0][0]']             \n",
      " nspose)                                                                                          \n",
      "                                                                                                  \n",
      " concatenate_36 (Concatenate)   (None, 8, 8, 256)    0           ['conv2d_transpose_36[0][0]',    \n",
      "                                                                  'conv2d_181[0][0]']             \n",
      "                                                                                                  \n",
      " conv2d_184 (Conv2D)            (None, 8, 8, 128)    295040      ['concatenate_36[0][0]']         \n",
      "                                                                                                  \n",
      " dropout_100 (Dropout)          (None, 8, 8, 128)    0           ['conv2d_184[0][0]']             \n",
      "                                                                                                  \n",
      " conv2d_185 (Conv2D)            (None, 8, 8, 128)    147584      ['dropout_100[0][0]']            \n",
      "                                                                                                  \n",
      " conv2d_transpose_37 (Conv2DTra  (None, 16, 16, 64)  32832       ['conv2d_185[0][0]']             \n",
      " nspose)                                                                                          \n",
      "                                                                                                  \n",
      " concatenate_37 (Concatenate)   (None, 16, 16, 128)  0           ['conv2d_transpose_37[0][0]',    \n",
      "                                                                  'conv2d_179[0][0]']             \n",
      "                                                                                                  \n",
      " conv2d_186 (Conv2D)            (None, 16, 16, 64)   73792       ['concatenate_37[0][0]']         \n",
      "                                                                                                  \n",
      " dropout_101 (Dropout)          (None, 16, 16, 64)   0           ['conv2d_186[0][0]']             \n",
      "                                                                                                  \n",
      " conv2d_187 (Conv2D)            (None, 16, 16, 64)   36928       ['dropout_101[0][0]']            \n",
      "                                                                                                  \n",
      " conv2d_transpose_38 (Conv2DTra  (None, 32, 32, 32)  8224        ['conv2d_187[0][0]']             \n",
      " nspose)                                                                                          \n",
      "                                                                                                  \n",
      " concatenate_38 (Concatenate)   (None, 32, 32, 64)   0           ['conv2d_transpose_38[0][0]',    \n",
      "                                                                  'conv2d_177[0][0]']             \n",
      "                                                                                                  \n",
      " conv2d_188 (Conv2D)            (None, 32, 32, 32)   18464       ['concatenate_38[0][0]']         \n",
      "                                                                                                  \n",
      " dropout_102 (Dropout)          (None, 32, 32, 32)   0           ['conv2d_188[0][0]']             \n",
      "                                                                                                  \n",
      " conv2d_189 (Conv2D)            (None, 32, 32, 32)   9248        ['dropout_102[0][0]']            \n",
      "                                                                                                  \n",
      " conv2d_transpose_39 (Conv2DTra  (None, 64, 64, 16)  2064        ['conv2d_189[0][0]']             \n",
      " nspose)                                                                                          \n",
      "                                                                                                  \n",
      " concatenate_39 (Concatenate)   (None, 64, 64, 32)   0           ['conv2d_transpose_39[0][0]',    \n",
      "                                                                  'conv2d_175[0][0]']             \n",
      "                                                                                                  \n",
      " conv2d_190 (Conv2D)            (None, 64, 64, 16)   4624        ['concatenate_39[0][0]']         \n",
      "                                                                                                  \n",
      " dropout_103 (Dropout)          (None, 64, 64, 16)   0           ['conv2d_190[0][0]']             \n",
      "                                                                                                  \n",
      " conv2d_191 (Conv2D)            (None, 64, 64, 16)   2320        ['dropout_103[0][0]']            \n",
      "                                                                                                  \n",
      " conv2d_192 (Conv2D)            (None, 64, 64, 1)    17          ['conv2d_191[0][0]']             \n",
      "                                                                                                  \n",
      " flatten_7 (Flatten)            (None, 4096)         0           ['conv2d_192[0][0]']             \n",
      "                                                                                                  \n",
      " dense_18 (Dense)               (None, 1024)         4195328     ['flatten_7[0][0]']              \n",
      "                                                                                                  \n",
      " dense_19 (Dense)               (None, 512)          524800      ['dense_18[0][0]']               \n",
      "                                                                                                  \n",
      " batch_normalization_14 (BatchN  (None, 512)         2048        ['dense_19[0][0]']               \n",
      " ormalization)                                                                                    \n",
      "                                                                                                  \n",
      " dropout_104 (Dropout)          (None, 512)          0           ['batch_normalization_14[0][0]'] \n",
      "                                                                                                  \n",
      " dense_20 (Dense)               (None, 44)           22572       ['dropout_104[0][0]']            \n",
      "                                                                                                  \n",
      " reshape_4 (Reshape)            (None, 2, 22)        0           ['dense_20[0][0]']               \n",
      "                                                                                                  \n",
      "==================================================================================================\n",
      "Total params: 6,685,853\n",
      "Trainable params: 6,684,829\n",
      "Non-trainable params: 1,024\n",
      "__________________________________________________________________________________________________\n"
     ]
    }
   ],
   "source": [
    "img_size = (64,64)\n",
    "model = get_model(img_size, 3)\n",
    "\n",
    "model.compile(optimizer=tf.keras.optimizers.Adam(0.001), loss='mean_absolute_error', metrics=['mean_squared_error'])\n",
    "model.summary()"
   ]
  },
  {
   "cell_type": "code",
   "execution_count": 132,
   "id": "6d0ce640",
   "metadata": {
    "scrolled": true
   },
   "outputs": [
    {
     "name": "stdout",
     "output_type": "stream",
     "text": [
      "Epoch 1/30\n",
      "40/40 [==============================] - 27s 621ms/step - loss: 4.9012 - mean_squared_error: 29.6988\n",
      "Epoch 2/30\n",
      "40/40 [==============================] - 27s 664ms/step - loss: 3.5480 - mean_squared_error: 17.4986\n",
      "Epoch 3/30\n",
      "40/40 [==============================] - 42s 1s/step - loss: 1.7610 - mean_squared_error: 5.0585\n",
      "Epoch 4/30\n",
      "40/40 [==============================] - 44s 1s/step - loss: 1.4239 - mean_squared_error: 3.3418\n",
      "Epoch 5/30\n",
      "40/40 [==============================] - 32s 801ms/step - loss: 1.3629 - mean_squared_error: 3.0789\n",
      "Epoch 6/30\n",
      "40/40 [==============================] - 49s 1s/step - loss: 1.3617 - mean_squared_error: 3.0439\n",
      "Epoch 7/30\n",
      "40/40 [==============================] - 35s 875ms/step - loss: 1.3480 - mean_squared_error: 2.9973\n",
      "Epoch 8/30\n",
      "40/40 [==============================] - 27s 672ms/step - loss: 1.3244 - mean_squared_error: 2.8904\n",
      "Epoch 9/30\n",
      "40/40 [==============================] - 27s 676ms/step - loss: 1.3455 - mean_squared_error: 2.9923\n",
      "Epoch 10/30\n",
      "40/40 [==============================] - 30s 762ms/step - loss: 1.3258 - mean_squared_error: 2.9171\n",
      "Epoch 11/30\n",
      "40/40 [==============================] - 31s 769ms/step - loss: 1.2974 - mean_squared_error: 2.8243\n",
      "Epoch 12/30\n",
      "40/40 [==============================] - 27s 674ms/step - loss: 1.3129 - mean_squared_error: 2.8813\n",
      "Epoch 13/30\n",
      "40/40 [==============================] - 26s 639ms/step - loss: 1.3088 - mean_squared_error: 2.8435\n",
      "Epoch 14/30\n",
      "40/40 [==============================] - 32s 794ms/step - loss: 1.2852 - mean_squared_error: 2.7785\n",
      "Epoch 15/30\n",
      "40/40 [==============================] - 34s 840ms/step - loss: 1.2644 - mean_squared_error: 2.7171\n",
      "Epoch 16/30\n",
      "40/40 [==============================] - 27s 678ms/step - loss: 1.1859 - mean_squared_error: 2.3973\n",
      "Epoch 17/30\n",
      "40/40 [==============================] - 27s 675ms/step - loss: 1.0526 - mean_squared_error: 1.9251\n",
      "Epoch 18/30\n",
      "40/40 [==============================] - 27s 661ms/step - loss: 0.9932 - mean_squared_error: 1.7282\n",
      "Epoch 19/30\n",
      "40/40 [==============================] - 31s 777ms/step - loss: 0.8962 - mean_squared_error: 1.4231\n",
      "Epoch 20/30\n",
      "40/40 [==============================] - 26s 639ms/step - loss: 0.9102 - mean_squared_error: 1.4492\n",
      "Epoch 21/30\n",
      "40/40 [==============================] - 26s 644ms/step - loss: 0.8458 - mean_squared_error: 1.2508\n",
      "Epoch 22/30\n",
      "40/40 [==============================] - 28s 702ms/step - loss: 0.8384 - mean_squared_error: 1.2190\n",
      "Epoch 23/30\n",
      "40/40 [==============================] - 32s 797ms/step - loss: 0.7891 - mean_squared_error: 1.0661\n",
      "Epoch 24/30\n",
      "40/40 [==============================] - 26s 642ms/step - loss: 0.7432 - mean_squared_error: 0.9461\n",
      "Epoch 25/30\n",
      "40/40 [==============================] - 29s 736ms/step - loss: 0.7288 - mean_squared_error: 0.9144\n",
      "Epoch 26/30\n",
      "40/40 [==============================] - 28s 688ms/step - loss: 0.6926 - mean_squared_error: 0.8025\n",
      "Epoch 27/30\n",
      "40/40 [==============================] - 31s 776ms/step - loss: 0.6966 - mean_squared_error: 0.8205\n",
      "Epoch 28/30\n",
      "40/40 [==============================] - 24s 611ms/step - loss: 0.7211 - mean_squared_error: 0.8600\n",
      "Epoch 29/30\n",
      "40/40 [==============================] - 25s 628ms/step - loss: 0.6989 - mean_squared_error: 0.8223\n",
      "Epoch 30/30\n",
      "40/40 [==============================] - 26s 640ms/step - loss: 0.6456 - mean_squared_error: 0.6910\n"
     ]
    }
   ],
   "source": [
    "EPOCHS = 30\n",
    "STEPS_PER_EPOCH=40\n",
    "model_history = model.fit(data_train, labels_train, epochs=EPOCHS,\n",
    "                          steps_per_epoch=STEPS_PER_EPOCH,\n",
    "                          )"
   ]
  },
  {
   "cell_type": "markdown",
   "id": "e7879d84",
   "metadata": {},
   "source": [
    "# Predictions vs Ground Truth"
   ]
  },
  {
   "cell_type": "code",
   "execution_count": 133,
   "id": "696ccb7e",
   "metadata": {
    "scrolled": true
   },
   "outputs": [],
   "source": [
    "y_pred = model.predict(data_test)"
   ]
  },
  {
   "cell_type": "code",
   "execution_count": 134,
   "id": "98e1f57e",
   "metadata": {},
   "outputs": [
    {
     "data": {
      "text/plain": [
       "array([1.28079544, 1.28099647, 1.28105026, 1.28109219, 1.28115979,\n",
       "       1.28118336, 1.2812042 , 1.29548075, 1.29962973, 1.31946116,\n",
       "       1.34304343, 1.35354813, 1.36621883, 1.38910751, 1.41185234,\n",
       "       1.43450196, 1.44157334, 1.45708566, 1.47962555, 1.50213871,\n",
       "       1.50232574, 1.52463922, 1.55996998, 1.58572075, 1.7001616 ,\n",
       "       1.83387991, 1.97663371, 2.12018881, 2.26352366, 2.40687139,\n",
       "       2.55047009, 2.69447982, 2.83899217, 2.98319908, 3.12549317,\n",
       "       3.26836968, 3.41181007, 3.55578048, 3.70021055, 3.84503773,\n",
       "       3.99019321, 4.1356012 , 4.28118057, 4.42684654])"
      ]
     },
     "execution_count": 134,
     "metadata": {},
     "output_type": "execute_result"
    }
   ],
   "source": [
    "np.unique(labels_test[0])"
   ]
  },
  {
   "cell_type": "code",
   "execution_count": 135,
   "id": "779f8b93",
   "metadata": {
    "scrolled": true
   },
   "outputs": [
    {
     "data": {
      "text/plain": [
       "array([1.1434505, 1.2571119, 1.2909245, 1.3413968, 1.3422312, 1.4030409,\n",
       "       1.4548464, 1.5133717, 1.5290263, 1.5301468, 1.5489863, 1.5985323,\n",
       "       1.6476531, 1.7392517, 1.7730258, 1.793779 , 1.795065 , 1.7971026,\n",
       "       1.8003404, 1.8271928, 1.8823812, 1.9572773, 3.652201 , 3.9694605,\n",
       "       4.1066074, 4.1118236, 4.2145486, 4.2877345, 4.2886577, 4.30868  ,\n",
       "       4.331334 , 4.337084 , 4.3560615, 4.405564 , 4.4470487, 4.454294 ,\n",
       "       4.456885 , 4.460194 , 4.572384 , 4.5761967, 4.619116 , 4.664257 ,\n",
       "       4.667172 , 4.6709504], dtype=float32)"
      ]
     },
     "execution_count": 135,
     "metadata": {},
     "output_type": "execute_result"
    }
   ],
   "source": [
    "np.unique(y_pred[0])"
   ]
  },
  {
   "cell_type": "code",
   "execution_count": 178,
   "id": "78611495",
   "metadata": {},
   "outputs": [
    {
     "name": "stdout",
     "output_type": "stream",
     "text": [
      "(2, 22)\n"
     ]
    },
    {
     "ename": "TypeError",
     "evalue": "bar() missing 1 required positional argument: 'height'",
     "output_type": "error",
     "traceback": [
      "\u001b[0;31m---------------------------------------------------------------------------\u001b[0m",
      "\u001b[0;31mTypeError\u001b[0m                                 Traceback (most recent call last)",
      "\u001b[0;32m/tmp/ipykernel_1333/307604615.py\u001b[0m in \u001b[0;36m<module>\u001b[0;34m\u001b[0m\n\u001b[1;32m      3\u001b[0m \u001b[0mfig\u001b[0m \u001b[0;34m=\u001b[0m \u001b[0mplt\u001b[0m\u001b[0;34m.\u001b[0m\u001b[0mplot\u001b[0m\u001b[0;34m(\u001b[0m\u001b[0;34m)\u001b[0m\u001b[0;34m\u001b[0m\u001b[0;34m\u001b[0m\u001b[0m\n\u001b[1;32m      4\u001b[0m \u001b[0;34m\u001b[0m\u001b[0m\n\u001b[0;32m----> 5\u001b[0;31m \u001b[0mplt\u001b[0m\u001b[0;34m.\u001b[0m\u001b[0mbar\u001b[0m\u001b[0;34m(\u001b[0m\u001b[0merror\u001b[0m\u001b[0;34m[\u001b[0m\u001b[0;36m0\u001b[0m\u001b[0;34m]\u001b[0m\u001b[0;34m,\u001b[0m \u001b[0medgecolor\u001b[0m\u001b[0;34m=\u001b[0m\u001b[0;34m\"w\"\u001b[0m\u001b[0;34m)\u001b[0m\u001b[0;34m\u001b[0m\u001b[0;34m\u001b[0m\u001b[0m\n\u001b[0m",
      "\u001b[0;31mTypeError\u001b[0m: bar() missing 1 required positional argument: 'height'"
     ]
    },
    {
     "data": {
      "image/png": "[encoded data removed]",
      "text/plain": [
       "<Figure size 432x288 with 1 Axes>"
      ]
     },
     "metadata": {
      "needs_background": "light"
     },
     "output_type": "display_data"
    }
   ],
   "source": [
    "error = np.abs(labels_test[0] - y_pred[0])\n",
    "print(error.shape)\n",
    "fig = plt.plot()\n",
    "\n",
    "plt.bar(error[0], edgecolor=\"w\")"
   ]
  },
  {
   "cell_type": "code",
   "execution_count": 170,
   "id": "64d25187",
   "metadata": {},
   "outputs": [
    {
     "data": {
      "text/plain": [
       "numpy.ndarray"
      ]
     },
     "execution_count": 170,
     "metadata": {},
     "output_type": "execute_result"
    }
   ],
   "source": []
  },
  {
   "cell_type": "code",
   "execution_count": 161,
   "id": "9293c181",
   "metadata": {
    "scrolled": false
   },
   "outputs": [
    {
     "data": {
      "text/plain": [
       "[4.9011616706848145,\n",
       " 3.5479812622070312,\n",
       " 1.7610337734222412,\n",
       " 1.4239263534545898,\n",
       " 1.362940788269043,\n",
       " 1.3617160320281982,\n",
       " 1.3480002880096436,\n",
       " 1.3243697881698608,\n",
       " 1.345476508140564,\n",
       " 1.3257745504379272,\n",
       " 1.2973865270614624,\n",
       " 1.3128938674926758,\n",
       " 1.3087784051895142,\n",
       " 1.285159945487976,\n",
       " 1.2644193172454834,\n",
       " 1.1859285831451416,\n",
       " 1.052574634552002,\n",
       " 0.9932416677474976,\n",
       " 0.8962301015853882,\n",
       " 0.9101515412330627,\n",
       " 0.8457683324813843,\n",
       " 0.8384224772453308,\n",
       " 0.7890630960464478,\n",
       " 0.7432032823562622,\n",
       " 0.728789210319519,\n",
       " 0.6925818920135498,\n",
       " 0.6966318488121033,\n",
       " 0.7210650444030762,\n",
       " 0.6989076733589172,\n",
       " 0.6455593109130859]"
      ]
     },
     "execution_count": 161,
     "metadata": {},
     "output_type": "execute_result"
    }
   ],
   "source": [
    "model_history.history[\"loss\"]"
   ]
  },
  {
   "cell_type": "code",
   "execution_count": 179,
   "id": "96f1e064",
   "metadata": {},
   "outputs": [
    {
     "name": "stdout",
     "output_type": "stream",
     "text": [
      "(200, 2, 22)\n",
      "(200, 2, 22)\n"
     ]
    }
   ],
   "source": [
    "print(labels_test.shape)\n",
    "print(y_pred.shape)"
   ]
  },
  {
   "cell_type": "code",
   "execution_count": null,
   "id": "f1ee30a2",
   "metadata": {},
   "outputs": [],
   "source": []
  },
  {
   "cell_type": "code",
   "execution_count": 193,
   "id": "792c8ffc",
   "metadata": {},
   "outputs": [
    {
     "data": {
      "image/png": "[encoded data removed]",
      "text/plain": [
       "<Figure size 936x936 with 2 Axes>"
      ]
     },
     "metadata": {
      "needs_background": "light"
     },
     "output_type": "display_data"
    }
   ],
   "source": [
    "idx=6\n",
    "\n",
    "fig, axs = plt.subplots(1,2, figsize=(13,13))\n",
    "\n",
    "axs[0].imshow((data_test[idx]*255).astype(np.uint8), extent=extent, origin=\"lower\")\n",
    "axs[0].plot(*labels_test[idx], color='w', marker='o', )\n",
    "axs[0].set_title('Ground Truth')\n",
    "\n",
    "axs[1].imshow((data_test[idx]*255).astype(np.uint8), extent=extent, origin=\"lower\")\n",
    "axs[1].plot(*y_pred[idx], color='w', marker='o', )\n",
    "axs[1].set_title('Prediction')\n",
    "\n",
    "axs[0].axis('off')\n",
    "axs[1].axis('off')\n",
    "plt.show()"
   ]
  },
  {
   "cell_type": "markdown",
   "id": "8c9de17a",
   "metadata": {},
   "source": [
    "# ---------------------------------------------------"
   ]
  }
 ],
 "metadata": {
  "kernelspec": {
   "display_name": "Python 3 (ipykernel)",
   "language": "python",
   "name": "python3"
  },
  "language_info": {
   "codemirror_mode": {
    "name": "ipython",
    "version": 3
   },
   "file_extension": ".py",
   "mimetype": "text/x-python",
   "name": "python",
   "nbconvert_exporter": "python",
   "pygments_lexer": "ipython3",
   "version": "3.9.9"
  }
 },
 "nbformat": 4,
 "nbformat_minor": 5
}
