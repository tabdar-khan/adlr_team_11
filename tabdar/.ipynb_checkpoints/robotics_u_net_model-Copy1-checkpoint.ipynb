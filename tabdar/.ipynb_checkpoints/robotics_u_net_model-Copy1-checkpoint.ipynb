{
 "cells": [
  {
   "cell_type": "markdown",
   "id": "6fdae782",
   "metadata": {},
   "source": [
    "### Utility Functions"
   ]
  },
  {
   "cell_type": "code",
   "execution_count": 21,
   "id": "68b3e1b7",
   "metadata": {},
   "outputs": [],
   "source": [
    "import tensorflow as tf\n",
    "from IPython.display import clear_output"
   ]
  },
  {
   "cell_type": "code",
   "execution_count": 22,
   "id": "730bd1cf",
   "metadata": {},
   "outputs": [],
   "source": [
    "import zlib\n",
    "import numpy as np\n",
    "import pandas as pd\n",
    "import sqlite3 as sql\n",
    "from contextlib import contextmanager\n",
    "from tensorflow.keras import layers\n",
    "\n",
    "\n",
    "_CMP = '_cmp'\n",
    "\n",
    "\n",
    "@contextmanager\n",
    "def open_db_connection(*, file, close=True,\n",
    "                       lock=None, check_same_thread=False):\n",
    "    \"\"\"\n",
    "    Safety wrapper for the database call.\n",
    "    \"\"\"\n",
    "\n",
    "    if lock is not None:\n",
    "        lock.acquire()\n",
    "\n",
    "    con = sql.connect(database=file, check_same_thread=check_same_thread)\n",
    "\n",
    "    try:\n",
    "        yield con\n",
    "\n",
    "    finally:\n",
    "        if close:\n",
    "            con.close()\n",
    "        if lock is not None:\n",
    "            lock.release()\n",
    "\n",
    "\n",
    "def get_table_name(file):\n",
    "    with open_db_connection(file=file, close=True) as con:\n",
    "        res = pd.read_sql_query(sql=\"SELECT name FROM sqlite_master WHERE type ='table' AND name NOT LIKE 'sqlite_%'\",\n",
    "                                con=con)\n",
    "        return res['name'].values\n",
    "\n",
    "\n",
    "def rename_table(file, tables):\n",
    "    old_names = get_table_name(file=file)\n",
    "\n",
    "    with open_db_connection(file=file, close=True) as con:\n",
    "        cur = con.cursor()\n",
    "        for old in old_names:\n",
    "            if old in tables:\n",
    "                new = tables['old']\n",
    "                cur.execute(f\"ALTER TABLE `{old}` RENAME TO `{new}`\")\n",
    "\n",
    "\n",
    "def get_values_sql(*, file, table='db', columns=None, rows=-1,\n",
    "                   values_only=False, squeeze_col=True, squeeze_row=True):\n",
    "    \"\"\"\n",
    "    'i_samples' == i_samples_global\n",
    "    \"\"\"\n",
    "\n",
    "    lock = None  # Lock is not necessary fo reading\n",
    "    if columns is None:\n",
    "        columns = '*'\n",
    "    if isinstance(columns, str):\n",
    "        columns = [columns]\n",
    "    columns_str = ', '.join(map(str, columns))\n",
    "\n",
    "    if isinstance(rows, int):\n",
    "        rows = [rows]\n",
    "    rows = np.array(rows)\n",
    "\n",
    "    if rows[0] == -1:  # All samples\n",
    "        with open_db_connection(file=file, close=True, lock=lock) as con:\n",
    "            df = pd.read_sql_query(con=con, sql=f\"SELECT {columns_str} FROM {table}\")  # path_db\n",
    "\n",
    "    else:\n",
    "        rows_str = rows + 1  # Attention! Unlike in Python, SQL indices start at 1\n",
    "        rows_str = ', '.join(map(str, rows_str))\n",
    "        with open_db_connection(file=file, close=True, lock=lock) as con:\n",
    "            df = pd.read_sql_query(sql=f\"SELECT {columns_str} FROM {table} WHERE ROWID in ({rows_str})\",\n",
    "                                   index_col=rows, con=con)\n",
    "\n",
    "    value_list = []\n",
    "    if np.any(columns == ['*']):\n",
    "        columns = df.columns.values\n",
    "\n",
    "    if values_only:\n",
    "        for col in columns:\n",
    "            value = __decompress_values(value=df.loc[:, col].values, col=col)\n",
    "            value_list.append(value)\n",
    "\n",
    "        if len(df) == 1 and squeeze_row:\n",
    "            for i in range(len(columns)):\n",
    "                value_list[i] = value_list[i][0]\n",
    "\n",
    "        if len(value_list) == 1 and squeeze_col:\n",
    "            value_list = value_list[0]\n",
    "\n",
    "        return value_list\n",
    "\n",
    "    # Return pandas.DataFrame\n",
    "    else:\n",
    "        for col in columns:\n",
    "            value = __decompress_values(value=df.loc[:, col].values, col=col)\n",
    "            df.loc[:, col] = numeric2object_array(value)\n",
    "\n",
    "        return df\n",
    "\n",
    "\n",
    "def set_values_sql(*, file, table='db',\n",
    "                   values, columns, rows=-1, lock=None):\n",
    "    \"\"\"\n",
    "    Note: multidimensional numpy arrays have to be saved as flat to SQL otherwise the order is messed up\n",
    "    values = ([...], [...], [...], ...)\n",
    "    \"\"\"\n",
    "\n",
    "    # Handle rows argument\n",
    "    if isinstance(rows, int):\n",
    "        if rows == -1:\n",
    "            rows = np.arange(len(values[0])).tolist()\n",
    "        else:\n",
    "            rows = [rows]\n",
    "\n",
    "    rows_sql = (np.array(rows) + 1).tolist()  # Attention! Unlike in Python, SQL indices start at 1\n",
    "\n",
    "    # Handle columns argument\n",
    "    if isinstance(columns, str):\n",
    "        columns = [columns]\n",
    "\n",
    "    columns_str = '=?, '.join(map(str, columns))\n",
    "    columns_str += '=?'\n",
    "\n",
    "    values_rows_sql = change_tuple_order(values + (rows_sql,))\n",
    "    values_rows_sql = list(values_rows_sql)\n",
    "    query = f\"UPDATE {table} SET {columns_str} WHERE ROWID=?\"\n",
    "\n",
    "    with open_db_connection(file=file, close=True, lock=lock) as con:\n",
    "        cur = con.cursor()\n",
    "        if len(values_rows_sql) == 1:\n",
    "            cur.execute(query, values_rows_sql[0])\n",
    "        else:\n",
    "            cur.executemany(query, values_rows_sql)\n",
    "\n",
    "        con.commit()\n",
    "\n",
    "\n",
    "def df2sql(df, file, table='db', if_exists='fail', lock=None):\n",
    "    \"\"\"\n",
    "    From DataFrame.to_sql():\n",
    "        if_exists : {'fail', 'replace', 'append'}, default 'fail'\n",
    "                   - fail: If table exists, do nothing.\n",
    "                   - replace: If table exists, drop it, recreate it, and insert Measurements.\n",
    "                   - append: If table exists, insert Measurements. Create if does not exist.\n",
    "    \"\"\"\n",
    "    with open_db_connection(file=file, close=True, lock=lock) as con:\n",
    "        df.to_sql(name=table, con=con, if_exists=if_exists, index=False)\n",
    "\n",
    "\n",
    "# Helper\n",
    "# Image Compression <-> Decompression\n",
    "def __decompress_values(value, col):\n",
    "    # SQL saves everything in binary form -> convert back to numeric, expect the columns which are marked as CMP\n",
    "    if isinstance(value[0], bytes) and col[-4:] != _CMP:\n",
    "        if col in ['i_world', 'i_sample', 'n_obstacles']:\n",
    "            value = np.array([np.frombuffer(v, dtype=int) for v in value], dtype=int)\n",
    "        elif col in ['rectangle_pos', 'rectangle_position', 'rectangle_size']:\n",
    "            value = np.array([np.frombuffer(v, dtype=int) for v in value], dtype=object)\n",
    "        else:\n",
    "            value = np.array([np.frombuffer(v, dtype=float) for v in value])\n",
    "        value = np.squeeze(value)\n",
    "\n",
    "    return value\n",
    "\n",
    "\n",
    "def change_tuple_order(tpl):\n",
    "    return tuple(map(lambda *tt: tuple(tt), *tpl))\n",
    "\n",
    "\n",
    "def numeric2object_array(arr):\n",
    "    n = arr.shape[0]\n",
    "    arr_obj = np.zeros(n, dtype=object)\n",
    "    for i in range(n):\n",
    "        arr_obj[i] = arr[i]\n",
    "\n",
    "    return arr_obj\n",
    "\n",
    "\n",
    "def object2numeric_array(arr):\n",
    "    s = np.shape(arr)\n",
    "    arr = np.array([v for v in np.ravel(arr)])\n",
    "    arr = np.reshape(arr, s + np.shape(arr)[1:])\n",
    "    return arr\n",
    "\n",
    "\n",
    "def initialize_array(shape, mode='zeros', dtype=None, order='c'):\n",
    "\n",
    "    if mode == 'zeros':\n",
    "        return np.zeros(shape, dtype=dtype, order=order)\n",
    "    elif mode == 'ones':\n",
    "        return np.ones(shape, dtype=dtype, order=order)\n",
    "    elif mode == 'empty':\n",
    "        return np.empty(shape, dtype=dtype, order=order)\n",
    "    elif mode == 'random':\n",
    "        return np.random.random(shape).astype(dtype=dtype, order=order)\n",
    "    else:\n",
    "        raise ValueError(f\"Unknown initialization method {mode}\")\n",
    "\n",
    "\n",
    "def __dim_voxels(n_voxels, n_dim=None):\n",
    "    if np.size(n_voxels) == 1:\n",
    "        try:\n",
    "            n_voxels = tuple(n_voxels)\n",
    "        except TypeError:\n",
    "            n_voxels = (n_voxels,)\n",
    "        n_voxels *= n_dim\n",
    "    else:\n",
    "        n_voxels = tuple(n_voxels)\n",
    "\n",
    "    return n_voxels\n",
    "\n",
    "\n",
    "def image_array_shape(n_voxels, n_samples=None, n_dim=None, n_channels=None):\n",
    "    \"\"\"\n",
    "    Helper to set the shape for an image array.\n",
    "    n_samples=100,  n_voxels=64,          n_dim=2,    n_channels=None  ->  (100, 64, 64)\n",
    "    n_samples=100,  n_voxels=64,          n_dim=3,    n_channels=2     ->  (100, 64, 64, 64, 2)\n",
    "    n_samples=None, n_voxel=(10, 11, 12), n_dim=None, n_channels=None  ->  (10, 11, 12)\n",
    "    \"\"\"\n",
    "\n",
    "    shape = __dim_voxels(n_voxels=n_voxels, n_dim=n_dim)\n",
    "\n",
    "    if n_samples is not None:\n",
    "        shape = (n_samples,) + shape\n",
    "    if n_channels is not None:\n",
    "        shape = shape + (n_channels,)\n",
    "\n",
    "    return shape\n",
    "\n",
    "\n",
    "def initialize_image_array(n_voxels, n_dim=None, n_samples=None, n_channels=None,\n",
    "                           dtype=bool, initialization='zeros'):\n",
    "    shape = image_array_shape(n_voxels=n_voxels, n_dim=n_dim, n_samples=n_samples, n_channels=n_channels)\n",
    "    return initialize_array(shape=shape, mode=initialization, dtype=dtype)\n",
    "\n",
    "\n",
    "# Image Compression <-> Decompression\n",
    "def img2compressed(img, n_dim=-1, level=9):\n",
    "    \"\"\"\n",
    "    Compress the given image with the zlib routine to a binary string.\n",
    "    Level of compression can be adjusted. A timing with respect to different compression levels for decompression showed\n",
    "    no difference, so the highest level is default, this corresponds to the largest compression.\n",
    "    For compression it is slightly slower but this happens just once and not during keras training, so the smaller\n",
    "    needed memory was favoured.\n",
    "    Alternative:\n",
    "    <-> use numpy sparse for the world images, especially in 3d  -> zlib is more effective and more general\n",
    "    \"\"\"\n",
    "\n",
    "    if n_dim == -1:\n",
    "        return zlib.compress(img.tobytes(), level=level)\n",
    "    else:\n",
    "        shape = img.shape[:-n_dim]\n",
    "        img_cmp = np.empty(shape, dtype=object)\n",
    "        for idx in np.ndindex(*shape):\n",
    "            img_cmp[idx] = zlib.compress(img[idx, ...].tobytes(), level=level)\n",
    "        return img_cmp\n",
    "\n",
    "\n",
    "def compressed2img(img_cmp, n_voxels, n_dim=None, n_channels=None, dtype=bool):\n",
    "    \"\"\"\n",
    "    Decompress the binary string back to an image of given shape\n",
    "    \"\"\"\n",
    "\n",
    "    shape = np.shape(img_cmp)\n",
    "\n",
    "    if shape:\n",
    "        n_samples = np.size(img_cmp)\n",
    "        img_arr = initialize_image_array(n_voxels=n_voxels, n_dim=n_dim, n_samples=n_samples, n_channels=n_channels,\n",
    "                                         dtype=dtype)\n",
    "        for i in range(n_samples):\n",
    "            img_arr[i, ...] = np.fromstring(zlib.decompress(img_cmp[i]), dtype=dtype).reshape(\n",
    "                image_array_shape(n_voxels=n_voxels, n_dim=n_dim, n_channels=n_channels))\n",
    "        return img_arr\n",
    "\n",
    "    else:\n",
    "        return np.fromstring(zlib.decompress(img_cmp), dtype=dtype).reshape(\n",
    "            image_array_shape(n_voxels=n_voxels, n_dim=n_dim, n_channels=n_channels))\n",
    "    \n",
    "\n",
    "\n",
    "\n",
    "\n",
    "\n",
    "\n",
    "class create_dataset(tf.keras.utils.Sequence):\n",
    "    \"\"\"Helper to iterate over the data (as Numpy arrays).\"\"\"\n",
    "\n",
    "    def __init__(self, batch_size, img_size, input_img_paths, target_img_paths):\n",
    "        self.batch_size = batch_size\n",
    "        self.img_size = img_size\n",
    "        self.input_img_paths = input_img_paths\n",
    "        self.target_img_paths = target_img_paths\n",
    "\n",
    "    def __len__(self):\n",
    "        return len(self.target_img_paths) // self.batch_size\n",
    "\n",
    "    def __getitem__(self, idx):\n",
    "        \"\"\"Returns tuple (input, target) correspond to batch #idx.\"\"\"\n",
    "        i = idx * self.batch_size\n",
    "        batch_input_img_paths = self.input_img_paths[i : i + self.batch_size]\n",
    "        batch_target_img_paths = self.target_img_paths[i : i + self.batch_size]\n",
    "        x = np.zeros((self.batch_size,) + self.img_size + (3,), dtype=\"float32\")\n",
    "        for j, path in enumerate(batch_input_img_paths):\n",
    "            img = load_img(path, target_size=self.img_size)\n",
    "            x[j] = img\n",
    "        y = np.zeros((self.batch_size,) + self.img_size + (1,), dtype=\"uint8\")\n",
    "        for j, path in enumerate(batch_target_img_paths):\n",
    "            img = load_img(path, target_size=self.img_size, color_mode=\"grayscale\")\n",
    "            y[j] = np.expand_dims(img, 2)\n",
    "            # Ground truth labels are 1, 2, 3. Subtract one to make them 0, 1, 2:\n",
    "            y[j] -= 1\n",
    "        return x, y"
   ]
  },
  {
   "cell_type": "markdown",
   "id": "28a23508",
   "metadata": {},
   "source": [
    "### Main"
   ]
  },
  {
   "cell_type": "code",
   "execution_count": 23,
   "id": "fcfb5ed6",
   "metadata": {
    "scrolled": false
   },
   "outputs": [
    {
     "name": "stderr",
     "output_type": "stream",
     "text": [
      "/tmp/ipykernel_2623/1979238740.py:277: DeprecationWarning: The binary mode of fromstring is deprecated, as it behaves surprisingly on unicode inputs. Use frombuffer instead\n",
      "  img_arr[i, ...] = np.fromstring(zlib.decompress(img_cmp[i]), dtype=dtype).reshape(\n"
     ]
    },
    {
     "data": {
      "image/png": "[encoded data removed]",
      "text/plain": [
       "<Figure size 432x288 with 1 Axes>"
      ]
     },
     "metadata": {
      "needs_background": "light"
     },
     "output_type": "display_data"
    }
   ],
   "source": [
    "import numpy as np\n",
    "\n",
    "file = '../SingleSphere02.db'\n",
    "# TODO change to you own directory\n",
    "\n",
    "\n",
    "n_voxels = 64\n",
    "voxel_size = 10 / 64     # in m\n",
    "extent = [0, 10, 0, 10]  # in m\n",
    "n_waypoints = 22  # start + 20 inner points + end\n",
    "n_dim = 2\n",
    "n_paths_per_world = 1000\n",
    "n_worlds = 5000\n",
    "\n",
    "\n",
    "worlds = get_values_sql(file=file, table='worlds')\n",
    "obstacle_images = compressed2img(img_cmp=worlds.obst_img_cmp.values, n_voxels=n_voxels, n_dim=n_dim)\n",
    "\n",
    "# always 1000 paths belong to one world\n",
    "# 0...999     -> world 0\n",
    "# 1000...1999 -> world 1\n",
    "# 2000...2999 -> world 2\n",
    "paths = get_values_sql(file=file, table='paths', rows=[0, 1, 2, 1000, 2000])\n",
    "path_images = compressed2img(img_cmp=paths.path_img_cmp.values, n_voxels=n_voxels, n_dim=n_dim)\n",
    "start_images = compressed2img(img_cmp=paths.start_img_cmp.values, n_voxels=n_voxels, n_dim=n_dim)\n",
    "end_images = compressed2img(img_cmp=paths.end_img_cmp.values, n_voxels=n_voxels, n_dim=n_dim)\n",
    "\n",
    "q_paths = object2numeric_array(paths.q_path.values)\n",
    "q_paths = q_paths.reshape(-1, n_waypoints, n_dim)\n",
    "\n",
    "# Plot an example\n",
    "i = 0\n",
    "i_world = paths.i_world[i]\n",
    "\n",
    "import matplotlib.pyplot as plt\n",
    "fig, ax = plt.subplots()\n",
    "\n",
    "ax.imshow(obstacle_images[i_world].T, origin='lower', extent=extent, cmap='binary',)\n",
    "ax.imshow(start_images[i].T, origin='lower', extent=extent, cmap='Greens', alpha=0.4)\n",
    "ax.imshow(end_images[i].T, origin='lower', extent=extent, cmap='Reds', alpha=0.4)\n",
    "ax.imshow(path_images[i].T, origin='lower', extent=extent, cmap='Blues', alpha=0.2)\n",
    "ax.axis('off')\n",
    "ax.plot(*q_paths[i].T, color='k', marker='o')\n",
    "plt.show()"
   ]
  },
  {
   "cell_type": "markdown",
   "id": "22ea6a80",
   "metadata": {},
   "source": [
    "# Creating Image datasets"
   ]
  },
  {
   "cell_type": "code",
   "execution_count": 24,
   "id": "fe61c429",
   "metadata": {},
   "outputs": [],
   "source": [
    "def load_images_for_single_world(world_index, file='../SingleSphere02.db', paths_per_world=1000):\n",
    "    \n",
    "    \"\"\" Returns an array of tuples where each tuple contains:\n",
    "        1. Obstacle image of the desired world with different start & end points\n",
    "        2. Above image plus the path from start to end point\n",
    "    \"\"\"\n",
    "    \n",
    "    # Initial Parameters\n",
    "    n_voxels = 64\n",
    "    voxel_size = 10 / 64     # in m\n",
    "    extent = [0, 10, 0, 10]  # in m\n",
    "    n_waypoints = 22  # start + 20 inner points + end\n",
    "    n_dim = 2\n",
    "    n_paths_per_world = 1000\n",
    "    n_worlds = 5000\n",
    "\n",
    "    worlds = get_values_sql(file=file, table='worlds')\n",
    "    obstacle_image = compressed2img(img_cmp=worlds.obst_img_cmp.values, n_voxels=n_voxels, n_dim=n_dim)[world_index]\n",
    "    \n",
    "    # always 1000 paths belong to one world\n",
    "    # 0...999     -> world 0\n",
    "    # 1000...1999 -> world 1\n",
    "    # 2000...2999 -> world 2\n",
    "    path_range_start  = world_index * paths_per_world\n",
    "    path_range_end = world_index * paths_per_world + paths_per_world\n",
    "    n_world_all_paths = [x for x in range(path_range_start, path_range_end)]\n",
    "    \n",
    "    paths = get_values_sql(file=file, table='paths', rows=n_world_all_paths)\n",
    "    \n",
    "    # Decompressing objects to images\n",
    "    path_images = compressed2img(img_cmp=paths.path_img_cmp.values, n_voxels=n_voxels, n_dim=n_dim)\n",
    "    start_images = compressed2img(img_cmp=paths.start_img_cmp.values, n_voxels=n_voxels, n_dim=n_dim)\n",
    "    end_images = compressed2img(img_cmp=paths.end_img_cmp.values, n_voxels=n_voxels, n_dim=n_dim)\n",
    "\n",
    "    input_images = []\n",
    "    output_images = []\n",
    "    for i in n_world_all_paths:\n",
    "        input_images.append(np.concatenate((obstacle_images[i_world].T[:,:,np.newaxis], start_images[i].T[:,:,np.newaxis],end_images[i].T[:,:,np.newaxis]), axis=-1))\n",
    "        #input_images.append(obstacle_images[i_world].T + start_images[i].T + end_images[i].T)\n",
    "        output_images.append(np.stack((path_images[i].T,)*3, axis=2))\n",
    "    return input_images, output_images"
   ]
  },
  {
   "cell_type": "code",
   "execution_count": 25,
   "id": "f24b8bd6",
   "metadata": {},
   "outputs": [
    {
     "name": "stderr",
     "output_type": "stream",
     "text": [
      "/tmp/ipykernel_2623/1979238740.py:277: DeprecationWarning: The binary mode of fromstring is deprecated, as it behaves surprisingly on unicode inputs. Use frombuffer instead\n",
      "  img_arr[i, ...] = np.fromstring(zlib.decompress(img_cmp[i]), dtype=dtype).reshape(\n"
     ]
    }
   ],
   "source": [
    "input_images, output_images = load_images_for_single_world(0)"
   ]
  },
  {
   "cell_type": "code",
   "execution_count": 26,
   "id": "c2ca5da6",
   "metadata": {},
   "outputs": [],
   "source": [
    "# Display Images\n",
    "def plot_image(image_array):\n",
    "    ''' Displays numpy arrays'''\n",
    "    return tf.keras.utils.array_to_img(tf.image.resize(image_array.astype('uint8'), (256, 256)))"
   ]
  },
  {
   "cell_type": "code",
   "execution_count": 27,
   "id": "0a90a2b7",
   "metadata": {
    "scrolled": true
   },
   "outputs": [
    {
     "name": "stdout",
     "output_type": "stream",
     "text": [
      "(64, 64, 3)\n"
     ]
    },
    {
     "data": {
      "image/png": "[encoded data removed]",
      "text/plain": [
       "<PIL.Image.Image image mode=RGB size=256x256 at 0x7F02AA652D60>"
      ]
     },
     "execution_count": 27,
     "metadata": {},
     "output_type": "execute_result"
    }
   ],
   "source": [
    "print(input_images[0].shape)\n",
    "plot_image(input_images[0])"
   ]
  },
  {
   "cell_type": "markdown",
   "id": "9108408f",
   "metadata": {},
   "source": [
    "# Creating tensorflow Datasets"
   ]
  },
  {
   "cell_type": "code",
   "execution_count": 28,
   "id": "2a994b19",
   "metadata": {},
   "outputs": [],
   "source": [
    "def list_to_np_arrays(list_of_images):\n",
    "    ''' Returns a singular numpy array from a list of images. \\\n",
    "        It is used to arrange images to be compatible while making tensorflow datasets\n",
    "    '''\n",
    "    \n",
    "    length = list_of_images[0].shape[0]\n",
    "    width  = list_of_images[0].shape[1]\n",
    "    depth  = list_of_images[0].shape[2]\n",
    "    \n",
    "    imgs   = np.empty((0, length, width, depth))\n",
    "    \n",
    "    for img in list_of_images:\n",
    "        imgs = np.append(imgs, np.array(img).reshape((1, length, width, depth)), axis=0)\n",
    "        \n",
    "    return imgs\n",
    "\n"
   ]
  },
  {
   "cell_type": "code",
   "execution_count": 29,
   "id": "50542db5",
   "metadata": {
    "scrolled": true
   },
   "outputs": [
    {
     "name": "stdout",
     "output_type": "stream",
     "text": [
      "Input Images Shape after Reshaping:  (1000, 64, 64, 3)\n",
      "Output Images Shape after Reshaping:  (1000, 64, 64, 3)\n"
     ]
    }
   ],
   "source": [
    "# Reshaping\n",
    "input_images = np.reshape(input_images, (-1, 64, 64, 3))\n",
    "print(\"Input Images Shape after Reshaping: \",input_images.shape)\n",
    "\n",
    "output_images = np.reshape(output_images, (-1, 64, 64, 3))\n",
    "print(\"Output Images Shape after Reshaping: \",output_images.shape)"
   ]
  },
  {
   "cell_type": "code",
   "execution_count": 30,
   "id": "c1d6c4cd",
   "metadata": {},
   "outputs": [
    {
     "data": {
      "image/png": "[encoded data removed]",
      "text/plain": [
       "<PIL.Image.Image image mode=RGB size=256x256 at 0x7F02A9AF02B0>"
      ]
     },
     "execution_count": 30,
     "metadata": {},
     "output_type": "execute_result"
    }
   ],
   "source": [
    "plot_image(output_images[0])"
   ]
  },
  {
   "cell_type": "code",
   "execution_count": 31,
   "id": "d8b4bcf4",
   "metadata": {},
   "outputs": [],
   "source": [
    "X = list_to_np_arrays(input_images)\n",
    "y = list_to_np_arrays(output_images)\n",
    "\n",
    "from sklearn.model_selection import train_test_split\n",
    "data_train, data_test, labels_train, labels_test = train_test_split(X, y, test_size=0.20, random_state=42)"
   ]
  },
  {
   "cell_type": "code",
   "execution_count": 36,
   "id": "dcf824d7",
   "metadata": {},
   "outputs": [],
   "source": [
    "# Converting numpy arrays to tf Dataset\n",
    "train_images_ds = tf.data.Dataset.from_tensor_slices((\n",
    "            tf.cast(data_train, tf.float32),\n",
    "            tf.cast(labels_train, tf.float32)\n",
    "        ))\n",
    "\n",
    "test_images_ds = tf.data.Dataset.from_tensor_slices((\n",
    "            tf.cast(data_test, tf.float32),\n",
    "            tf.cast(labels_test, tf.float32)\n",
    "        ))"
   ]
  },
  {
   "cell_type": "code",
   "execution_count": 35,
   "id": "34a6ad4b",
   "metadata": {},
   "outputs": [],
   "source": [
    "\n",
    "#plot_image(a[0])"
   ]
  },
  {
   "cell_type": "code",
   "execution_count": 40,
   "id": "6707af57",
   "metadata": {},
   "outputs": [
    {
     "name": "stdout",
     "output_type": "stream",
     "text": [
      " (64, 64, 3)\n"
     ]
    },
    {
     "name": "stderr",
     "output_type": "stream",
     "text": [
      "2021-12-13 00:31:36.571765: W tensorflow/core/data/root_dataset.cc:163] Optimization loop failed: CANCELLED: Operation was cancelled\n"
     ]
    },
    {
     "data": {
      "image/png": "[encoded data removed]",
      "text/plain": [
       "<PIL.Image.Image image mode=RGB size=256x256 at 0x7F02B27D2E50>"
      ]
     },
     "execution_count": 40,
     "metadata": {},
     "output_type": "execute_result"
    }
   ],
   "source": [
    "a,b = train_images_ds.take(2)\n",
    "print(\"\",a[0].shape)\n",
    "a,b = train_images_ds.take(2)\n",
    "tf.keras.utils.array_to_img(tf.image.resize(b[1], (256, 256)))\n",
    "#plot_image(a[0])"
   ]
  },
  {
   "cell_type": "markdown",
   "id": "55b48f8e",
   "metadata": {},
   "source": [
    "# Defining Model"
   ]
  },
  {
   "cell_type": "code",
   "execution_count": 38,
   "id": "bbd23028",
   "metadata": {},
   "outputs": [],
   "source": [
    "def get_model(img_size, num_classes):\n",
    "    inputs = tf.keras.Input(shape=img_size + (3,))\n",
    "\n",
    "    ### [First half of the network: downsampling inputs] ###\n",
    "\n",
    "    # Entry block\n",
    "    x = layers.Conv2D(32, 3, strides=2, padding=\"same\")(inputs)\n",
    "    x = layers.BatchNormalization()(x)\n",
    "    x = layers.Activation(\"relu\")(x)\n",
    "\n",
    "    previous_block_activation = x  # Set aside residual\n",
    "\n",
    "    # Blocks 1, 2, 3 are identical apart from the feature depth.\n",
    "    for filters in [64, 128, 256]:\n",
    "        x = layers.Activation(\"relu\")(x)\n",
    "        x = layers.SeparableConv2D(filters, 3, padding=\"same\")(x)\n",
    "        x = layers.BatchNormalization()(x)\n",
    "\n",
    "        x = layers.Activation(\"relu\")(x)\n",
    "        x = layers.SeparableConv2D(filters, 3, padding=\"same\")(x)\n",
    "        x = layers.BatchNormalization()(x)\n",
    "\n",
    "        x = layers.MaxPooling2D(3, strides=2, padding=\"same\")(x)\n",
    "\n",
    "        # Project residual\n",
    "        residual = layers.Conv2D(filters, 1, strides=2, padding=\"same\")(\n",
    "            previous_block_activation\n",
    "        )\n",
    "        x = layers.add([x, residual])  # Add back residual\n",
    "        previous_block_activation = x  # Set aside next residual\n",
    "\n",
    "    ### [Second half of the network: upsampling inputs] ###\n",
    "\n",
    "    for filters in [256, 128, 64, 32]:\n",
    "        x = layers.Activation(\"relu\")(x)\n",
    "        x = layers.Conv2DTranspose(filters, 3, padding=\"same\")(x)\n",
    "        x = layers.BatchNormalization()(x)\n",
    "\n",
    "        x = layers.Activation(\"relu\")(x)\n",
    "        x = layers.Conv2DTranspose(filters, 3, padding=\"same\")(x)\n",
    "        x = layers.BatchNormalization()(x)\n",
    "\n",
    "        x = layers.UpSampling2D(2)(x)\n",
    "\n",
    "        # Project residual\n",
    "        residual = layers.UpSampling2D(2)(previous_block_activation)\n",
    "        residual = layers.Conv2D(filters, 1, padding=\"same\")(residual)\n",
    "        x = layers.add([x, residual])  # Add back residual\n",
    "        previous_block_activation = x  # Set aside next residual\n",
    "\n",
    "    # Add a per-pixel classification layer\n",
    "    outputs = layers.Conv2D(3, 3, activation=\"softmax\", padding=\"same\")(x)\n",
    "    #outputs = layers.Reshape((64, 64, 1))(outputs)\n",
    "    \n",
    "    # Define the model\n",
    "    model = tf.keras.Model(inputs, outputs)\n",
    "    return model"
   ]
  },
  {
   "cell_type": "code",
   "execution_count": 41,
   "id": "501018d5",
   "metadata": {},
   "outputs": [],
   "source": [
    "# Defining parameters for the loader\n",
    "TRAIN_LENGTH = data_train.shape[0]\n",
    "BATCH_SIZE = 32\n",
    "BUFFER_SIZE = 1000\n",
    "STEPS_PER_EPOCH = TRAIN_LENGTH // BATCH_SIZE\n",
    "img_size = (64,64)\n",
    "\n",
    "#train_images_ds = train_images_ds.map(resize, num_parallel_calls=tf.data.AUTOTUNE)\n",
    "\n",
    "# Building input pipeline\n",
    "train_batches = (\n",
    "    train_images_ds\n",
    "    .cache()\n",
    "    .shuffle(BUFFER_SIZE)\n",
    "    .batch(BATCH_SIZE)\n",
    "    .repeat()\n",
    "    .prefetch(buffer_size=tf.data.AUTOTUNE))\n",
    "\n",
    "test_batches = test_images_ds.batch(BATCH_SIZE)"
   ]
  },
  {
   "cell_type": "code",
   "execution_count": 63,
   "id": "66a5f890",
   "metadata": {},
   "outputs": [
    {
     "name": "stdout",
     "output_type": "stream",
     "text": [
      "Model: \"model_5\"\n",
      "__________________________________________________________________________________________________\n",
      " Layer (type)                   Output Shape         Param #     Connected to                     \n",
      "==================================================================================================\n",
      " input_6 (InputLayer)           [(None, 64, 64, 3)]  0           []                               \n",
      "                                                                                                  \n",
      " conv2d_45 (Conv2D)             (None, 32, 32, 32)   896         ['input_6[0][0]']                \n",
      "                                                                                                  \n",
      " batch_normalization_75 (BatchN  (None, 32, 32, 32)  128         ['conv2d_45[0][0]']              \n",
      " ormalization)                                                                                    \n",
      "                                                                                                  \n",
      " activation_75 (Activation)     (None, 32, 32, 32)   0           ['batch_normalization_75[0][0]'] \n",
      "                                                                                                  \n",
      " activation_76 (Activation)     (None, 32, 32, 32)   0           ['activation_75[0][0]']          \n",
      "                                                                                                  \n",
      " separable_conv2d_30 (Separable  (None, 32, 32, 64)  2400        ['activation_76[0][0]']          \n",
      " Conv2D)                                                                                          \n",
      "                                                                                                  \n",
      " batch_normalization_76 (BatchN  (None, 32, 32, 64)  256         ['separable_conv2d_30[0][0]']    \n",
      " ormalization)                                                                                    \n",
      "                                                                                                  \n",
      " activation_77 (Activation)     (None, 32, 32, 64)   0           ['batch_normalization_76[0][0]'] \n",
      "                                                                                                  \n",
      " separable_conv2d_31 (Separable  (None, 32, 32, 64)  4736        ['activation_77[0][0]']          \n",
      " Conv2D)                                                                                          \n",
      "                                                                                                  \n",
      " batch_normalization_77 (BatchN  (None, 32, 32, 64)  256         ['separable_conv2d_31[0][0]']    \n",
      " ormalization)                                                                                    \n",
      "                                                                                                  \n",
      " max_pooling2d_15 (MaxPooling2D  (None, 16, 16, 64)  0           ['batch_normalization_77[0][0]'] \n",
      " )                                                                                                \n",
      "                                                                                                  \n",
      " conv2d_46 (Conv2D)             (None, 16, 16, 64)   2112        ['activation_75[0][0]']          \n",
      "                                                                                                  \n",
      " add_35 (Add)                   (None, 16, 16, 64)   0           ['max_pooling2d_15[0][0]',       \n",
      "                                                                  'conv2d_46[0][0]']              \n",
      "                                                                                                  \n",
      " activation_78 (Activation)     (None, 16, 16, 64)   0           ['add_35[0][0]']                 \n",
      "                                                                                                  \n",
      " separable_conv2d_32 (Separable  (None, 16, 16, 128)  8896       ['activation_78[0][0]']          \n",
      " Conv2D)                                                                                          \n",
      "                                                                                                  \n",
      " batch_normalization_78 (BatchN  (None, 16, 16, 128)  512        ['separable_conv2d_32[0][0]']    \n",
      " ormalization)                                                                                    \n",
      "                                                                                                  \n",
      " activation_79 (Activation)     (None, 16, 16, 128)  0           ['batch_normalization_78[0][0]'] \n",
      "                                                                                                  \n",
      " separable_conv2d_33 (Separable  (None, 16, 16, 128)  17664      ['activation_79[0][0]']          \n",
      " Conv2D)                                                                                          \n",
      "                                                                                                  \n",
      " batch_normalization_79 (BatchN  (None, 16, 16, 128)  512        ['separable_conv2d_33[0][0]']    \n",
      " ormalization)                                                                                    \n",
      "                                                                                                  \n",
      " max_pooling2d_16 (MaxPooling2D  (None, 8, 8, 128)   0           ['batch_normalization_79[0][0]'] \n",
      " )                                                                                                \n",
      "                                                                                                  \n",
      " conv2d_47 (Conv2D)             (None, 8, 8, 128)    8320        ['add_35[0][0]']                 \n",
      "                                                                                                  \n",
      " add_36 (Add)                   (None, 8, 8, 128)    0           ['max_pooling2d_16[0][0]',       \n",
      "                                                                  'conv2d_47[0][0]']              \n",
      "                                                                                                  \n",
      " activation_80 (Activation)     (None, 8, 8, 128)    0           ['add_36[0][0]']                 \n",
      "                                                                                                  \n",
      " separable_conv2d_34 (Separable  (None, 8, 8, 256)   34176       ['activation_80[0][0]']          \n",
      " Conv2D)                                                                                          \n",
      "                                                                                                  \n",
      " batch_normalization_80 (BatchN  (None, 8, 8, 256)   1024        ['separable_conv2d_34[0][0]']    \n",
      " ormalization)                                                                                    \n",
      "                                                                                                  \n",
      " activation_81 (Activation)     (None, 8, 8, 256)    0           ['batch_normalization_80[0][0]'] \n",
      "                                                                                                  \n",
      " separable_conv2d_35 (Separable  (None, 8, 8, 256)   68096       ['activation_81[0][0]']          \n",
      " Conv2D)                                                                                          \n",
      "                                                                                                  \n",
      " batch_normalization_81 (BatchN  (None, 8, 8, 256)   1024        ['separable_conv2d_35[0][0]']    \n",
      " ormalization)                                                                                    \n",
      "                                                                                                  \n",
      " max_pooling2d_17 (MaxPooling2D  (None, 4, 4, 256)   0           ['batch_normalization_81[0][0]'] \n",
      " )                                                                                                \n",
      "                                                                                                  \n",
      " conv2d_48 (Conv2D)             (None, 4, 4, 256)    33024       ['add_36[0][0]']                 \n",
      "                                                                                                  \n",
      " add_37 (Add)                   (None, 4, 4, 256)    0           ['max_pooling2d_17[0][0]',       \n",
      "                                                                  'conv2d_48[0][0]']              \n",
      "                                                                                                  \n",
      " activation_82 (Activation)     (None, 4, 4, 256)    0           ['add_37[0][0]']                 \n",
      "                                                                                                  \n",
      " conv2d_transpose_40 (Conv2DTra  (None, 4, 4, 256)   590080      ['activation_82[0][0]']          \n",
      " nspose)                                                                                          \n",
      "                                                                                                  \n",
      " batch_normalization_82 (BatchN  (None, 4, 4, 256)   1024        ['conv2d_transpose_40[0][0]']    \n",
      " ormalization)                                                                                    \n",
      "                                                                                                  \n",
      " activation_83 (Activation)     (None, 4, 4, 256)    0           ['batch_normalization_82[0][0]'] \n",
      "                                                                                                  \n",
      " conv2d_transpose_41 (Conv2DTra  (None, 4, 4, 256)   590080      ['activation_83[0][0]']          \n",
      " nspose)                                                                                          \n",
      "                                                                                                  \n",
      " batch_normalization_83 (BatchN  (None, 4, 4, 256)   1024        ['conv2d_transpose_41[0][0]']    \n",
      " ormalization)                                                                                    \n",
      "                                                                                                  \n",
      " up_sampling2d_41 (UpSampling2D  (None, 8, 8, 256)   0           ['add_37[0][0]']                 \n",
      " )                                                                                                \n",
      "                                                                                                  \n",
      " up_sampling2d_40 (UpSampling2D  (None, 8, 8, 256)   0           ['batch_normalization_83[0][0]'] \n",
      " )                                                                                                \n",
      "                                                                                                  \n",
      " conv2d_49 (Conv2D)             (None, 8, 8, 256)    65792       ['up_sampling2d_41[0][0]']       \n",
      "                                                                                                  \n",
      " add_38 (Add)                   (None, 8, 8, 256)    0           ['up_sampling2d_40[0][0]',       \n",
      "                                                                  'conv2d_49[0][0]']              \n",
      "                                                                                                  \n",
      " activation_84 (Activation)     (None, 8, 8, 256)    0           ['add_38[0][0]']                 \n",
      "                                                                                                  \n",
      " conv2d_transpose_42 (Conv2DTra  (None, 8, 8, 128)   295040      ['activation_84[0][0]']          \n",
      " nspose)                                                                                          \n",
      "                                                                                                  \n",
      " batch_normalization_84 (BatchN  (None, 8, 8, 128)   512         ['conv2d_transpose_42[0][0]']    \n",
      " ormalization)                                                                                    \n",
      "                                                                                                  \n",
      " activation_85 (Activation)     (None, 8, 8, 128)    0           ['batch_normalization_84[0][0]'] \n",
      "                                                                                                  \n",
      " conv2d_transpose_43 (Conv2DTra  (None, 8, 8, 128)   147584      ['activation_85[0][0]']          \n",
      " nspose)                                                                                          \n",
      "                                                                                                  \n",
      " batch_normalization_85 (BatchN  (None, 8, 8, 128)   512         ['conv2d_transpose_43[0][0]']    \n",
      " ormalization)                                                                                    \n",
      "                                                                                                  \n",
      " up_sampling2d_43 (UpSampling2D  (None, 16, 16, 256)  0          ['add_38[0][0]']                 \n",
      " )                                                                                                \n",
      "                                                                                                  \n",
      " up_sampling2d_42 (UpSampling2D  (None, 16, 16, 128)  0          ['batch_normalization_85[0][0]'] \n",
      " )                                                                                                \n",
      "                                                                                                  \n",
      " conv2d_50 (Conv2D)             (None, 16, 16, 128)  32896       ['up_sampling2d_43[0][0]']       \n",
      "                                                                                                  \n",
      " add_39 (Add)                   (None, 16, 16, 128)  0           ['up_sampling2d_42[0][0]',       \n",
      "                                                                  'conv2d_50[0][0]']              \n",
      "                                                                                                  \n",
      " activation_86 (Activation)     (None, 16, 16, 128)  0           ['add_39[0][0]']                 \n",
      "                                                                                                  \n",
      " conv2d_transpose_44 (Conv2DTra  (None, 16, 16, 64)  73792       ['activation_86[0][0]']          \n",
      " nspose)                                                                                          \n",
      "                                                                                                  \n",
      " batch_normalization_86 (BatchN  (None, 16, 16, 64)  256         ['conv2d_transpose_44[0][0]']    \n",
      " ormalization)                                                                                    \n",
      "                                                                                                  \n",
      " activation_87 (Activation)     (None, 16, 16, 64)   0           ['batch_normalization_86[0][0]'] \n",
      "                                                                                                  \n",
      " conv2d_transpose_45 (Conv2DTra  (None, 16, 16, 64)  36928       ['activation_87[0][0]']          \n",
      " nspose)                                                                                          \n",
      "                                                                                                  \n",
      " batch_normalization_87 (BatchN  (None, 16, 16, 64)  256         ['conv2d_transpose_45[0][0]']    \n",
      " ormalization)                                                                                    \n",
      "                                                                                                  \n",
      " up_sampling2d_45 (UpSampling2D  (None, 32, 32, 128)  0          ['add_39[0][0]']                 \n",
      " )                                                                                                \n",
      "                                                                                                  \n",
      " up_sampling2d_44 (UpSampling2D  (None, 32, 32, 64)  0           ['batch_normalization_87[0][0]'] \n",
      " )                                                                                                \n",
      "                                                                                                  \n",
      " conv2d_51 (Conv2D)             (None, 32, 32, 64)   8256        ['up_sampling2d_45[0][0]']       \n",
      "                                                                                                  \n",
      " add_40 (Add)                   (None, 32, 32, 64)   0           ['up_sampling2d_44[0][0]',       \n",
      "                                                                  'conv2d_51[0][0]']              \n",
      "                                                                                                  \n",
      " activation_88 (Activation)     (None, 32, 32, 64)   0           ['add_40[0][0]']                 \n",
      "                                                                                                  \n",
      " conv2d_transpose_46 (Conv2DTra  (None, 32, 32, 32)  18464       ['activation_88[0][0]']          \n",
      " nspose)                                                                                          \n",
      "                                                                                                  \n",
      " batch_normalization_88 (BatchN  (None, 32, 32, 32)  128         ['conv2d_transpose_46[0][0]']    \n",
      " ormalization)                                                                                    \n",
      "                                                                                                  \n",
      " activation_89 (Activation)     (None, 32, 32, 32)   0           ['batch_normalization_88[0][0]'] \n",
      "                                                                                                  \n",
      " conv2d_transpose_47 (Conv2DTra  (None, 32, 32, 32)  9248        ['activation_89[0][0]']          \n",
      " nspose)                                                                                          \n",
      "                                                                                                  \n",
      " batch_normalization_89 (BatchN  (None, 32, 32, 32)  128         ['conv2d_transpose_47[0][0]']    \n",
      " ormalization)                                                                                    \n",
      "                                                                                                  \n",
      " up_sampling2d_47 (UpSampling2D  (None, 64, 64, 64)  0           ['add_40[0][0]']                 \n",
      " )                                                                                                \n",
      "                                                                                                  \n",
      " up_sampling2d_46 (UpSampling2D  (None, 64, 64, 32)  0           ['batch_normalization_89[0][0]'] \n",
      " )                                                                                                \n",
      "                                                                                                  \n",
      " conv2d_52 (Conv2D)             (None, 64, 64, 32)   2080        ['up_sampling2d_47[0][0]']       \n",
      "                                                                                                  \n",
      " add_41 (Add)                   (None, 64, 64, 32)   0           ['up_sampling2d_46[0][0]',       \n",
      "                                                                  'conv2d_52[0][0]']              \n",
      "                                                                                                  \n",
      " conv2d_53 (Conv2D)             (None, 64, 64, 3)    867         ['add_41[0][0]']                 \n",
      "                                                                                                  \n",
      "==================================================================================================\n",
      "Total params: 2,058,979\n",
      "Trainable params: 2,055,203\n",
      "Non-trainable params: 3,776\n",
      "__________________________________________________________________________________________________\n"
     ]
    }
   ],
   "source": [
    "# lr = 0.001\n",
    "# loss_fn = tf.reduce_mean(tf.square(ae_outputs - ae_target))\n",
    "# train_op = tf.train.AdamOptimizer(learning_rate = lr).minimize(loss_fn)\n",
    "\n",
    "model = get_model(img_size, 3)\n",
    "\n",
    "model.compile(optimizer=\"adam\", loss=tf.keras.losses.mean_squared_error)\n",
    "model.summary()"
   ]
  },
  {
   "cell_type": "code",
   "execution_count": 64,
   "id": "6d0ce640",
   "metadata": {
    "scrolled": true
   },
   "outputs": [
    {
     "name": "stdout",
     "output_type": "stream",
     "text": [
      "Epoch 1/60\n",
      "25/25 [==============================] - 24s 846ms/step - loss: 0.3250 - val_loss: 0.2037\n",
      "Epoch 2/60\n",
      "25/25 [==============================] - 28s 1s/step - loss: 0.2066 - val_loss: 0.1712\n",
      "Epoch 3/60\n",
      "25/25 [==============================] - 25s 986ms/step - loss: 0.1423 - val_loss: 0.1370\n",
      "Epoch 4/60\n",
      "25/25 [==============================] - 23s 926ms/step - loss: 0.1325 - val_loss: 0.1340\n",
      "Epoch 5/60\n",
      "25/25 [==============================] - 24s 976ms/step - loss: 0.1313 - val_loss: 0.1332\n",
      "Epoch 6/60\n",
      "25/25 [==============================] - 23s 925ms/step - loss: 0.1311 - val_loss: 0.1328\n",
      "Epoch 7/60\n",
      "25/25 [==============================] - 23s 925ms/step - loss: 0.1309 - val_loss: 0.1325\n",
      "Epoch 8/60\n",
      "25/25 [==============================] - 21s 847ms/step - loss: 0.1308 - val_loss: 0.1322\n",
      "Epoch 9/60\n",
      "25/25 [==============================] - 21s 853ms/step - loss: 0.1308 - val_loss: 0.1321\n",
      "Epoch 10/60\n",
      "25/25 [==============================] - 23s 921ms/step - loss: 0.1309 - val_loss: 0.1319\n",
      "Epoch 11/60\n",
      "25/25 [==============================] - 22s 865ms/step - loss: 0.1307 - val_loss: 0.1318\n",
      "Epoch 12/60\n",
      "25/25 [==============================] - 21s 850ms/step - loss: 0.1306 - val_loss: 0.1316\n",
      "Epoch 13/60\n",
      "25/25 [==============================] - 22s 901ms/step - loss: 0.1306 - val_loss: 0.1315\n",
      "Epoch 14/60\n",
      "25/25 [==============================] - 22s 888ms/step - loss: 0.1306 - val_loss: 0.1314\n",
      "Epoch 15/60\n",
      "25/25 [==============================] - 24s 949ms/step - loss: 0.1306 - val_loss: 0.1313\n",
      "Epoch 16/60\n",
      "25/25 [==============================] - 23s 925ms/step - loss: 0.1306 - val_loss: 0.1312\n",
      "Epoch 17/60\n",
      "25/25 [==============================] - 23s 912ms/step - loss: 0.1305 - val_loss: 0.1311\n",
      "Epoch 18/60\n",
      "25/25 [==============================] - 22s 876ms/step - loss: 0.1305 - val_loss: 0.1310\n",
      "Epoch 19/60\n",
      "25/25 [==============================] - 21s 828ms/step - loss: 0.1305 - val_loss: 0.1309\n",
      "Epoch 20/60\n",
      "25/25 [==============================] - 21s 829ms/step - loss: 0.1305 - val_loss: 0.1309\n",
      "Epoch 21/60\n",
      "25/25 [==============================] - 21s 826ms/step - loss: 0.1305 - val_loss: 0.1308\n",
      "Epoch 22/60\n",
      "25/25 [==============================] - 21s 830ms/step - loss: 0.1305 - val_loss: 0.1307\n",
      "Epoch 23/60\n",
      "25/25 [==============================] - 21s 826ms/step - loss: 0.1305 - val_loss: 0.1307\n",
      "Epoch 24/60\n",
      "25/25 [==============================] - 21s 843ms/step - loss: 0.1305 - val_loss: 0.1307\n",
      "Epoch 25/60\n",
      "25/25 [==============================] - 22s 882ms/step - loss: 0.1305 - val_loss: 0.1306\n",
      "Epoch 26/60\n",
      "25/25 [==============================] - 22s 865ms/step - loss: 0.1305 - val_loss: 0.1306\n",
      "Epoch 27/60\n",
      "25/25 [==============================] - 21s 848ms/step - loss: 0.1305 - val_loss: 0.1306\n",
      "Epoch 28/60\n",
      "25/25 [==============================] - 22s 904ms/step - loss: 0.1305 - val_loss: 0.1306\n",
      "Epoch 29/60\n",
      "25/25 [==============================] - 27s 1s/step - loss: 0.1305 - val_loss: 0.1306\n",
      "Epoch 30/60\n",
      "25/25 [==============================] - 28s 1s/step - loss: 0.1305 - val_loss: 0.1306\n",
      "Epoch 31/60\n",
      "25/25 [==============================] - 22s 900ms/step - loss: 0.1305 - val_loss: 0.1306\n",
      "Epoch 32/60\n",
      "25/25 [==============================] - 51s 2s/step - loss: 0.1305 - val_loss: 0.1306\n",
      "Epoch 33/60\n",
      "25/25 [==============================] - 39s 2s/step - loss: 0.1305 - val_loss: 0.1306\n",
      "Epoch 34/60\n",
      "25/25 [==============================] - 32s 1s/step - loss: 0.1305 - val_loss: 0.1306\n",
      "Epoch 35/60\n",
      "25/25 [==============================] - 26s 1s/step - loss: 0.1305 - val_loss: 0.1305\n",
      "Epoch 36/60\n",
      "25/25 [==============================] - 23s 903ms/step - loss: 0.1305 - val_loss: 0.1305\n",
      "Epoch 37/60\n",
      "25/25 [==============================] - 23s 898ms/step - loss: 0.1305 - val_loss: 0.1306\n",
      "Epoch 38/60\n",
      "25/25 [==============================] - 23s 901ms/step - loss: 0.1305 - val_loss: 0.1305\n",
      "Epoch 39/60\n",
      "25/25 [==============================] - 23s 922ms/step - loss: 0.1305 - val_loss: 0.1306\n",
      "Epoch 40/60\n",
      "25/25 [==============================] - 28s 1s/step - loss: 0.1305 - val_loss: 0.1305\n",
      "Epoch 41/60\n",
      "25/25 [==============================] - 22s 868ms/step - loss: 0.1305 - val_loss: 0.1306\n",
      "Epoch 42/60\n",
      "25/25 [==============================] - 22s 899ms/step - loss: 0.1305 - val_loss: 0.1305\n",
      "Epoch 43/60\n",
      "25/25 [==============================] - 23s 929ms/step - loss: 0.1305 - val_loss: 0.1305\n",
      "Epoch 44/60\n",
      "25/25 [==============================] - 26s 1s/step - loss: 0.1305 - val_loss: 0.1306\n",
      "Epoch 45/60\n",
      "25/25 [==============================] - 26s 1s/step - loss: 0.1305 - val_loss: 0.1305\n",
      "Epoch 46/60\n",
      "25/25 [==============================] - 28s 1s/step - loss: 0.1304 - val_loss: 0.1305\n",
      "Epoch 47/60\n",
      "25/25 [==============================] - 46s 2s/step - loss: 0.1305 - val_loss: 0.1306\n",
      "Epoch 48/60\n",
      "25/25 [==============================] - 28s 1s/step - loss: 0.1304 - val_loss: 0.1305\n",
      "Epoch 49/60\n",
      "25/25 [==============================] - 26s 1s/step - loss: 0.1305 - val_loss: 0.1306\n",
      "Epoch 50/60\n",
      "25/25 [==============================] - 23s 931ms/step - loss: 0.1305 - val_loss: 0.1305\n",
      "Epoch 51/60\n",
      "25/25 [==============================] - 26s 1s/step - loss: 0.1305 - val_loss: 0.1305\n",
      "Epoch 52/60\n",
      "25/25 [==============================] - 31s 1s/step - loss: 0.1304 - val_loss: 0.1305\n",
      "Epoch 53/60\n",
      "25/25 [==============================] - 23s 919ms/step - loss: 0.1304 - val_loss: 0.1306\n",
      "Epoch 54/60\n",
      "25/25 [==============================] - 23s 932ms/step - loss: 0.1305 - val_loss: 0.1305\n",
      "Epoch 55/60\n",
      "25/25 [==============================] - 24s 979ms/step - loss: 0.1304 - val_loss: 0.1306\n",
      "Epoch 56/60\n",
      "25/25 [==============================] - 27s 1s/step - loss: 0.1304 - val_loss: 0.1305\n",
      "Epoch 57/60\n",
      "25/25 [==============================] - 24s 959ms/step - loss: 0.1304 - val_loss: 0.1305\n",
      "Epoch 58/60\n",
      "25/25 [==============================] - 23s 918ms/step - loss: 0.1304 - val_loss: 0.1306\n",
      "Epoch 59/60\n",
      "25/25 [==============================] - 28s 1s/step - loss: 0.1304 - val_loss: 0.1305\n",
      "Epoch 60/60\n",
      "25/25 [==============================] - 25s 1s/step - loss: 0.1304 - val_loss: 0.1305\n"
     ]
    }
   ],
   "source": [
    "EPOCHS = 18\n",
    "VAL_SUBSPLITS = 5\n",
    "VALIDATION_STEPS = data_test.shape[0]//BATCH_SIZE//VAL_SUBSPLITS\n",
    "\n",
    "model_history = model.fit(train_batches, epochs=EPOCHS,\n",
    "                          #steps_per_epoch=1,\n",
    "                          steps_per_epoch=STEPS_PER_EPOCH,\n",
    "                          validation_steps=VALIDATION_STEPS,\n",
    "                          validation_data=test_batches,\n",
    "                          )"
   ]
  },
  {
   "cell_type": "code",
   "execution_count": 67,
   "id": "74cbc543",
   "metadata": {},
   "outputs": [],
   "source": [
    "y_pred = model.predict(test_batches)"
   ]
  },
  {
   "cell_type": "code",
   "execution_count": 52,
   "id": "696ccb7e",
   "metadata": {},
   "outputs": [],
   "source": [
    "y_pred = model.predict(data_test)"
   ]
  },
  {
   "cell_type": "code",
   "execution_count": 68,
   "id": "bd0dc165",
   "metadata": {},
   "outputs": [
    {
     "data": {
      "text/plain": [
       "(64, 64, 3)"
      ]
     },
     "execution_count": 68,
     "metadata": {},
     "output_type": "execute_result"
    }
   ],
   "source": [
    "y_pred[4].shape"
   ]
  },
  {
   "cell_type": "code",
   "execution_count": 69,
   "id": "3e5f8d23",
   "metadata": {
    "scrolled": true
   },
   "outputs": [
    {
     "data": {
      "image/png": "[encoded data removed]",
      "text/plain": [
       "<PIL.Image.Image image mode=RGB size=256x256 at 0x7F025FEE2130>"
      ]
     },
     "execution_count": 69,
     "metadata": {},
     "output_type": "execute_result"
    }
   ],
   "source": [
    "plot_image(y_pred[4])"
   ]
  },
  {
   "cell_type": "code",
   "execution_count": 72,
   "id": "6e495c23",
   "metadata": {},
   "outputs": [
    {
     "data": {
      "image/png": "[encoded data removed]",
      "text/plain": [
       "<PIL.Image.Image image mode=RGB size=256x256 at 0x7F025FEE25B0>"
      ]
     },
     "execution_count": 72,
     "metadata": {},
     "output_type": "execute_result"
    }
   ],
   "source": [
    "tf.keras.utils.array_to_img(tf.image.resize(y_pred[4].astype('float64'), (256, 256)))"
   ]
  },
  {
   "cell_type": "code",
   "execution_count": 61,
   "id": "1c3cbb12",
   "metadata": {},
   "outputs": [
    {
     "data": {
      "image/png": "[encoded data removed]",
      "text/plain": [
       "<PIL.Image.Image image mode=RGB size=256x256 at 0x7F02B09EB700>"
      ]
     },
     "execution_count": 61,
     "metadata": {},
     "output_type": "execute_result"
    }
   ],
   "source": [
    "plot_image(labels_test[4])"
   ]
  },
  {
   "cell_type": "markdown",
   "id": "5552239c",
   "metadata": {},
   "source": [
    "# -------------------------------------------------------------------------------"
   ]
  },
  {
   "cell_type": "code",
   "execution_count": 334,
   "id": "f294c0b0",
   "metadata": {},
   "outputs": [
    {
     "ename": "RuntimeError",
     "evalue": "tf.placeholder() is not compatible with eager execution.",
     "output_type": "error",
     "traceback": [
      "\u001b[0;31m---------------------------------------------------------------------------\u001b[0m",
      "\u001b[0;31mRuntimeError\u001b[0m                              Traceback (most recent call last)",
      "\u001b[0;32m/tmp/ipykernel_122/322676113.py\u001b[0m in \u001b[0;36m<module>\u001b[0;34m\u001b[0m\n\u001b[1;32m      1\u001b[0m \u001b[0minput_shape\u001b[0m \u001b[0;34m=\u001b[0m \u001b[0;34m(\u001b[0m\u001b[0;36m64\u001b[0m\u001b[0;34m,\u001b[0m \u001b[0;36m64\u001b[0m\u001b[0;34m,\u001b[0m \u001b[0;36m3\u001b[0m\u001b[0;34m)\u001b[0m\u001b[0;34m\u001b[0m\u001b[0;34m\u001b[0m\u001b[0m\n\u001b[0;32m----> 2\u001b[0;31m \u001b[0mae_inputs\u001b[0m \u001b[0;34m=\u001b[0m \u001b[0mtf\u001b[0m\u001b[0;34m.\u001b[0m\u001b[0mcompat\u001b[0m\u001b[0;34m.\u001b[0m\u001b[0mv1\u001b[0m\u001b[0;34m.\u001b[0m\u001b[0mplaceholder\u001b[0m\u001b[0;34m(\u001b[0m\u001b[0mtf\u001b[0m\u001b[0;34m.\u001b[0m\u001b[0mfloat32\u001b[0m\u001b[0;34m,\u001b[0m \u001b[0;34m(\u001b[0m\u001b[0;32mNone\u001b[0m\u001b[0;34m,\u001b[0m \u001b[0;36m64\u001b[0m\u001b[0;34m,\u001b[0m \u001b[0;36m64\u001b[0m\u001b[0;34m,\u001b[0m \u001b[0;36m3\u001b[0m\u001b[0;34m)\u001b[0m\u001b[0;34m,\u001b[0m \u001b[0mname\u001b[0m \u001b[0;34m=\u001b[0m \u001b[0;34m'inputToAuto'\u001b[0m\u001b[0;34m)\u001b[0m\u001b[0;34m\u001b[0m\u001b[0;34m\u001b[0m\u001b[0m\n\u001b[0m\u001b[1;32m      3\u001b[0m \u001b[0mae_target\u001b[0m \u001b[0;34m=\u001b[0m \u001b[0mtf\u001b[0m\u001b[0;34m.\u001b[0m\u001b[0mcompat\u001b[0m\u001b[0;34m.\u001b[0m\u001b[0mv1\u001b[0m\u001b[0;34m.\u001b[0m\u001b[0mplaceholder\u001b[0m\u001b[0;34m(\u001b[0m\u001b[0mtf\u001b[0m\u001b[0;34m.\u001b[0m\u001b[0mfloat32\u001b[0m\u001b[0;34m,\u001b[0m \u001b[0;34m(\u001b[0m\u001b[0;32mNone\u001b[0m\u001b[0;34m,\u001b[0m \u001b[0;36m64\u001b[0m\u001b[0;34m,\u001b[0m \u001b[0;36m64\u001b[0m\u001b[0;34m,\u001b[0m \u001b[0;36m1\u001b[0m\u001b[0;34m)\u001b[0m\u001b[0;34m)\u001b[0m\u001b[0;34m\u001b[0m\u001b[0;34m\u001b[0m\u001b[0m\n\u001b[1;32m      4\u001b[0m \u001b[0;34m\u001b[0m\u001b[0m\n\u001b[1;32m      5\u001b[0m \u001b[0mx\u001b[0m \u001b[0;34m=\u001b[0m \u001b[0mnp\u001b[0m\u001b[0;34m.\u001b[0m\u001b[0mreshape\u001b[0m\u001b[0;34m(\u001b[0m\u001b[0mdata_test\u001b[0m\u001b[0;34m[\u001b[0m\u001b[0;36m4\u001b[0m\u001b[0;34m]\u001b[0m\u001b[0;34m,\u001b[0m \u001b[0;34m(\u001b[0m\u001b[0;34m-\u001b[0m\u001b[0;36m1\u001b[0m\u001b[0;34m,\u001b[0m \u001b[0;36m64\u001b[0m\u001b[0;34m,\u001b[0m \u001b[0;36m64\u001b[0m\u001b[0;34m,\u001b[0m \u001b[0;36m3\u001b[0m\u001b[0;34m)\u001b[0m\u001b[0;34m)\u001b[0m\u001b[0;34m\u001b[0m\u001b[0;34m\u001b[0m\u001b[0m\n",
      "\u001b[0;32m/usr/local/lib/python3.9/site-packages/tensorflow/python/ops/array_ops.py\u001b[0m in \u001b[0;36mplaceholder\u001b[0;34m(dtype, shape, name)\u001b[0m\n\u001b[1;32m   3284\u001b[0m   \"\"\"\n\u001b[1;32m   3285\u001b[0m   \u001b[0;32mif\u001b[0m \u001b[0mcontext\u001b[0m\u001b[0;34m.\u001b[0m\u001b[0mexecuting_eagerly\u001b[0m\u001b[0;34m(\u001b[0m\u001b[0;34m)\u001b[0m\u001b[0;34m:\u001b[0m\u001b[0;34m\u001b[0m\u001b[0;34m\u001b[0m\u001b[0m\n\u001b[0;32m-> 3286\u001b[0;31m     raise RuntimeError(\"tf.placeholder() is not compatible with \"\n\u001b[0m\u001b[1;32m   3287\u001b[0m                        \"eager execution.\")\n\u001b[1;32m   3288\u001b[0m \u001b[0;34m\u001b[0m\u001b[0m\n",
      "\u001b[0;31mRuntimeError\u001b[0m: tf.placeholder() is not compatible with eager execution."
     ]
    }
   ],
   "source": [
    "input_shape = (64, 64, 3)\n",
    "\n",
    "x = np.reshape(data_test[4], (-1, 64, 64, 3))\n",
    "print(x.shape)\n",
    "net = tf.keras.layers.Conv2D(64, 2, input_shape=x[1:], activation = tf.nn.relu)\n",
    "print(\"After conv2d: \", net.shape)\n",
    "net = tf.keras.layers.MaxPooling2D(net, 2, 2, padding = 'same')\n",
    "\n",
    "print(net.shape)"
   ]
  },
  {
   "cell_type": "code",
   "execution_count": 313,
   "id": "a272d557",
   "metadata": {
    "scrolled": true
   },
   "outputs": [
    {
     "name": "stdout",
     "output_type": "stream",
     "text": [
      "(64, 64, 3)\n"
     ]
    },
    {
     "data": {
      "image/png": "[encoded data removed]",
      "text/plain": [
       "<PIL.Image.Image image mode=RGB size=256x256 at 0x7FA248932E50>"
      ]
     },
     "execution_count": 313,
     "metadata": {},
     "output_type": "execute_result"
    }
   ],
   "source": [
    "input_shape = (64, 64, 3)\n",
    "x = data_test[4]\n",
    "y = tf.keras.layers.Conv1D(\n",
    "                3, 1, activation='relu', input_shape=input_shape[1:])(x)\n",
    "\n",
    "print((y).shape)\n",
    "tf.keras.utils.array_to_img(tf.image.resize(y-1, (256, 256)))"
   ]
  },
  {
   "cell_type": "code",
   "execution_count": null,
   "id": "d6a8b67d",
   "metadata": {},
   "outputs": [],
   "source": [
    "batch_size = 32\n",
    "\n",
    "X_train = np.array(X[800:])\n",
    "X_test = np.array(X[:800])\n",
    "y_train = np.array(y[800:])\n",
    "y_test = np.array(y[:800])\n",
    "\n",
    "train_gen = OxfordPets(\n",
    "    batch_size, img_size, X_train, y_train\n",
    ")\n",
    "train_gen"
   ]
  },
  {
   "cell_type": "markdown",
   "id": "66ee6f3e",
   "metadata": {},
   "source": [
    "# Testing"
   ]
  },
  {
   "cell_type": "code",
   "execution_count": 65,
   "id": "c79e51f5",
   "metadata": {},
   "outputs": [
    {
     "name": "stdout",
     "output_type": "stream",
     "text": [
      "Model: \"model\"\n",
      "__________________________________________________________________________________________________\n",
      " Layer (type)                   Output Shape         Param #     Connected to                     \n",
      "==================================================================================================\n",
      " input_1 (InputLayer)           [(None, 64, 64, 3)]  0           []                               \n",
      "                                                                                                  \n",
      " conv2d (Conv2D)                (None, 32, 32, 32)   896         ['input_1[0][0]']                \n",
      "                                                                                                  \n",
      " batch_normalization (BatchNorm  (None, 32, 32, 32)  128         ['conv2d[0][0]']                 \n",
      " alization)                                                                                       \n",
      "                                                                                                  \n",
      " activation (Activation)        (None, 32, 32, 32)   0           ['batch_normalization[0][0]']    \n",
      "                                                                                                  \n",
      " activation_1 (Activation)      (None, 32, 32, 32)   0           ['activation[0][0]']             \n",
      "                                                                                                  \n",
      " separable_conv2d (SeparableCon  (None, 32, 32, 64)  2400        ['activation_1[0][0]']           \n",
      " v2D)                                                                                             \n",
      "                                                                                                  \n",
      " batch_normalization_1 (BatchNo  (None, 32, 32, 64)  256         ['separable_conv2d[0][0]']       \n",
      " rmalization)                                                                                     \n",
      "                                                                                                  \n",
      " activation_2 (Activation)      (None, 32, 32, 64)   0           ['batch_normalization_1[0][0]']  \n",
      "                                                                                                  \n",
      " separable_conv2d_1 (SeparableC  (None, 32, 32, 64)  4736        ['activation_2[0][0]']           \n",
      " onv2D)                                                                                           \n",
      "                                                                                                  \n",
      " batch_normalization_2 (BatchNo  (None, 32, 32, 64)  256         ['separable_conv2d_1[0][0]']     \n",
      " rmalization)                                                                                     \n",
      "                                                                                                  \n",
      " max_pooling2d (MaxPooling2D)   (None, 16, 16, 64)   0           ['batch_normalization_2[0][0]']  \n",
      "                                                                                                  \n",
      " conv2d_1 (Conv2D)              (None, 16, 16, 64)   2112        ['activation[0][0]']             \n",
      "                                                                                                  \n",
      " add (Add)                      (None, 16, 16, 64)   0           ['max_pooling2d[0][0]',          \n",
      "                                                                  'conv2d_1[0][0]']               \n",
      "                                                                                                  \n",
      " activation_3 (Activation)      (None, 16, 16, 64)   0           ['add[0][0]']                    \n",
      "                                                                                                  \n",
      " separable_conv2d_2 (SeparableC  (None, 16, 16, 128)  8896       ['activation_3[0][0]']           \n",
      " onv2D)                                                                                           \n",
      "                                                                                                  \n",
      " batch_normalization_3 (BatchNo  (None, 16, 16, 128)  512        ['separable_conv2d_2[0][0]']     \n",
      " rmalization)                                                                                     \n",
      "                                                                                                  \n",
      " activation_4 (Activation)      (None, 16, 16, 128)  0           ['batch_normalization_3[0][0]']  \n",
      "                                                                                                  \n",
      " separable_conv2d_3 (SeparableC  (None, 16, 16, 128)  17664      ['activation_4[0][0]']           \n",
      " onv2D)                                                                                           \n",
      "                                                                                                  \n",
      " batch_normalization_4 (BatchNo  (None, 16, 16, 128)  512        ['separable_conv2d_3[0][0]']     \n",
      " rmalization)                                                                                     \n",
      "                                                                                                  \n",
      " max_pooling2d_1 (MaxPooling2D)  (None, 8, 8, 128)   0           ['batch_normalization_4[0][0]']  \n",
      "                                                                                                  \n",
      " conv2d_2 (Conv2D)              (None, 8, 8, 128)    8320        ['add[0][0]']                    \n",
      "                                                                                                  \n",
      " add_1 (Add)                    (None, 8, 8, 128)    0           ['max_pooling2d_1[0][0]',        \n",
      "                                                                  'conv2d_2[0][0]']               \n",
      "                                                                                                  \n",
      " activation_5 (Activation)      (None, 8, 8, 128)    0           ['add_1[0][0]']                  \n",
      "                                                                                                  \n",
      " separable_conv2d_4 (SeparableC  (None, 8, 8, 256)   34176       ['activation_5[0][0]']           \n",
      " onv2D)                                                                                           \n",
      "                                                                                                  \n",
      " batch_normalization_5 (BatchNo  (None, 8, 8, 256)   1024        ['separable_conv2d_4[0][0]']     \n",
      " rmalization)                                                                                     \n",
      "                                                                                                  \n",
      " activation_6 (Activation)      (None, 8, 8, 256)    0           ['batch_normalization_5[0][0]']  \n",
      "                                                                                                  \n",
      " separable_conv2d_5 (SeparableC  (None, 8, 8, 256)   68096       ['activation_6[0][0]']           \n",
      " onv2D)                                                                                           \n",
      "                                                                                                  \n",
      " batch_normalization_6 (BatchNo  (None, 8, 8, 256)   1024        ['separable_conv2d_5[0][0]']     \n",
      " rmalization)                                                                                     \n",
      "                                                                                                  \n",
      " max_pooling2d_2 (MaxPooling2D)  (None, 4, 4, 256)   0           ['batch_normalization_6[0][0]']  \n",
      "                                                                                                  \n",
      " conv2d_3 (Conv2D)              (None, 4, 4, 256)    33024       ['add_1[0][0]']                  \n",
      "                                                                                                  \n",
      " add_2 (Add)                    (None, 4, 4, 256)    0           ['max_pooling2d_2[0][0]',        \n",
      "                                                                  'conv2d_3[0][0]']               \n",
      "                                                                                                  \n",
      " activation_7 (Activation)      (None, 4, 4, 256)    0           ['add_2[0][0]']                  \n",
      "                                                                                                  \n",
      " conv2d_transpose (Conv2DTransp  (None, 4, 4, 256)   590080      ['activation_7[0][0]']           \n",
      " ose)                                                                                             \n",
      "                                                                                                  \n",
      " batch_normalization_7 (BatchNo  (None, 4, 4, 256)   1024        ['conv2d_transpose[0][0]']       \n",
      " rmalization)                                                                                     \n",
      "                                                                                                  \n",
      " activation_8 (Activation)      (None, 4, 4, 256)    0           ['batch_normalization_7[0][0]']  \n",
      "                                                                                                  \n",
      " conv2d_transpose_1 (Conv2DTran  (None, 4, 4, 256)   590080      ['activation_8[0][0]']           \n",
      " spose)                                                                                           \n",
      "                                                                                                  \n",
      " batch_normalization_8 (BatchNo  (None, 4, 4, 256)   1024        ['conv2d_transpose_1[0][0]']     \n",
      " rmalization)                                                                                     \n",
      "                                                                                                  \n",
      " up_sampling2d_1 (UpSampling2D)  (None, 8, 8, 256)   0           ['add_2[0][0]']                  \n",
      "                                                                                                  \n",
      " up_sampling2d (UpSampling2D)   (None, 8, 8, 256)    0           ['batch_normalization_8[0][0]']  \n",
      "                                                                                                  \n",
      " conv2d_4 (Conv2D)              (None, 8, 8, 256)    65792       ['up_sampling2d_1[0][0]']        \n",
      "                                                                                                  \n",
      " add_3 (Add)                    (None, 8, 8, 256)    0           ['up_sampling2d[0][0]',          \n",
      "                                                                  'conv2d_4[0][0]']               \n",
      "                                                                                                  \n",
      " activation_9 (Activation)      (None, 8, 8, 256)    0           ['add_3[0][0]']                  \n",
      "                                                                                                  \n",
      " conv2d_transpose_2 (Conv2DTran  (None, 8, 8, 128)   295040      ['activation_9[0][0]']           \n",
      " spose)                                                                                           \n",
      "                                                                                                  \n",
      " batch_normalization_9 (BatchNo  (None, 8, 8, 128)   512         ['conv2d_transpose_2[0][0]']     \n",
      " rmalization)                                                                                     \n",
      "                                                                                                  \n",
      " activation_10 (Activation)     (None, 8, 8, 128)    0           ['batch_normalization_9[0][0]']  \n",
      "                                                                                                  \n",
      " conv2d_transpose_3 (Conv2DTran  (None, 8, 8, 128)   147584      ['activation_10[0][0]']          \n",
      " spose)                                                                                           \n",
      "                                                                                                  \n",
      " batch_normalization_10 (BatchN  (None, 8, 8, 128)   512         ['conv2d_transpose_3[0][0]']     \n",
      " ormalization)                                                                                    \n",
      "                                                                                                  \n",
      " up_sampling2d_3 (UpSampling2D)  (None, 16, 16, 256)  0          ['add_3[0][0]']                  \n",
      "                                                                                                  \n",
      " up_sampling2d_2 (UpSampling2D)  (None, 16, 16, 128)  0          ['batch_normalization_10[0][0]'] \n",
      "                                                                                                  \n",
      " conv2d_5 (Conv2D)              (None, 16, 16, 128)  32896       ['up_sampling2d_3[0][0]']        \n",
      "                                                                                                  \n",
      " add_4 (Add)                    (None, 16, 16, 128)  0           ['up_sampling2d_2[0][0]',        \n",
      "                                                                  'conv2d_5[0][0]']               \n",
      "                                                                                                  \n",
      " activation_11 (Activation)     (None, 16, 16, 128)  0           ['add_4[0][0]']                  \n",
      "                                                                                                  \n",
      " conv2d_transpose_4 (Conv2DTran  (None, 16, 16, 64)  73792       ['activation_11[0][0]']          \n",
      " spose)                                                                                           \n",
      "                                                                                                  \n",
      " batch_normalization_11 (BatchN  (None, 16, 16, 64)  256         ['conv2d_transpose_4[0][0]']     \n",
      " ormalization)                                                                                    \n",
      "                                                                                                  \n",
      " activation_12 (Activation)     (None, 16, 16, 64)   0           ['batch_normalization_11[0][0]'] \n",
      "                                                                                                  \n",
      " conv2d_transpose_5 (Conv2DTran  (None, 16, 16, 64)  36928       ['activation_12[0][0]']          \n",
      " spose)                                                                                           \n",
      "                                                                                                  \n",
      " batch_normalization_12 (BatchN  (None, 16, 16, 64)  256         ['conv2d_transpose_5[0][0]']     \n",
      " ormalization)                                                                                    \n",
      "                                                                                                  \n",
      " up_sampling2d_5 (UpSampling2D)  (None, 32, 32, 128)  0          ['add_4[0][0]']                  \n",
      "                                                                                                  \n",
      " up_sampling2d_4 (UpSampling2D)  (None, 32, 32, 64)  0           ['batch_normalization_12[0][0]'] \n",
      "                                                                                                  \n",
      " conv2d_6 (Conv2D)              (None, 32, 32, 64)   8256        ['up_sampling2d_5[0][0]']        \n",
      "                                                                                                  \n",
      " add_5 (Add)                    (None, 32, 32, 64)   0           ['up_sampling2d_4[0][0]',        \n",
      "                                                                  'conv2d_6[0][0]']               \n",
      "                                                                                                  \n",
      " activation_13 (Activation)     (None, 32, 32, 64)   0           ['add_5[0][0]']                  \n",
      "                                                                                                  \n",
      " conv2d_transpose_6 (Conv2DTran  (None, 32, 32, 32)  18464       ['activation_13[0][0]']          \n",
      " spose)                                                                                           \n",
      "                                                                                                  \n",
      " batch_normalization_13 (BatchN  (None, 32, 32, 32)  128         ['conv2d_transpose_6[0][0]']     \n",
      " ormalization)                                                                                    \n",
      "                                                                                                  \n",
      " activation_14 (Activation)     (None, 32, 32, 32)   0           ['batch_normalization_13[0][0]'] \n",
      "                                                                                                  \n",
      " conv2d_transpose_7 (Conv2DTran  (None, 32, 32, 32)  9248        ['activation_14[0][0]']          \n",
      " spose)                                                                                           \n",
      "                                                                                                  \n",
      " batch_normalization_14 (BatchN  (None, 32, 32, 32)  128         ['conv2d_transpose_7[0][0]']     \n",
      " ormalization)                                                                                    \n",
      "                                                                                                  \n",
      " up_sampling2d_7 (UpSampling2D)  (None, 64, 64, 64)  0           ['add_5[0][0]']                  \n",
      "                                                                                                  \n",
      " up_sampling2d_6 (UpSampling2D)  (None, 64, 64, 32)  0           ['batch_normalization_14[0][0]'] \n",
      "                                                                                                  \n",
      " conv2d_7 (Conv2D)              (None, 64, 64, 32)   2080        ['up_sampling2d_7[0][0]']        \n",
      "                                                                                                  \n",
      " add_6 (Add)                    (None, 64, 64, 32)   0           ['up_sampling2d_6[0][0]',        \n",
      "                                                                  'conv2d_7[0][0]']               \n",
      "                                                                                                  \n",
      " conv2d_8 (Conv2D)              (None, 64, 64, 1)    289         ['add_6[0][0]']                  \n",
      "                                                                                                  \n",
      "==================================================================================================\n",
      "Total params: 2,058,401\n",
      "Trainable params: 2,054,625\n",
      "Non-trainable params: 3,776\n",
      "__________________________________________________________________________________________________\n"
     ]
    }
   ],
   "source": [
    "# Free up RAM in case the model definition cells were run multiple times\n",
    "img_size = (64,64)\n",
    "num_classes = 3 \n",
    "\n",
    "tf.keras.backend.clear_session()\n",
    "\n",
    "# Build model\n",
    "model = get_model(img_size, num_classes)\n",
    "model.compile(optimizer=\"rmsprop\", loss=\"sparse_categorical_crossentropy\")\n",
    "model.summary()"
   ]
  },
  {
   "cell_type": "code",
   "execution_count": null,
   "id": "2492f468",
   "metadata": {},
   "outputs": [],
   "source": [
    "# Train the model, doing validation at the end of each epoch.\n",
    "epochs = 15\n",
    "model.fit(train_gen, epochs=epochs, validation_data=val_gen, callbacks=callbacks)"
   ]
  },
  {
   "cell_type": "code",
   "execution_count": 37,
   "id": "e9168cf3",
   "metadata": {},
   "outputs": [],
   "source": [
    "input_shape = (64,64,1)\n",
    "\n",
    "def gen_model():\n",
    "    model = tf.keras.models.Sequential([\n",
    "    tf.keras.layers.Flatten(),\n",
    "    #tf.keras.layers.Flatten(activation='relu')\n",
    "    tf.keras.layers.Dense(4096,activation='relu'),\n",
    "    tf.keras.layers.Dense(4096, activation='relu'),\n",
    "    tf.keras.layers.Dense(4096, activation='relu'),\n",
    "    tf.keras.layers.Dense(64*64, activation='relu'),\n",
    "    tf.keras.layers.Reshape((64, 64))\n",
    "        \n",
    "     ])\n",
    "\n",
    "    model.compile(optimizer=tf.keras.optimizers.Adam(),\n",
    "                  loss=tf.keras.losses.mean_squared_error,\n",
    "                  metrics=[tf.keras.metrics.RootMeanSquaredError()])\n",
    "\n",
    "    return model\n",
    "\n"
   ]
  },
  {
   "cell_type": "code",
   "execution_count": 31,
   "id": "96382c16",
   "metadata": {},
   "outputs": [],
   "source": [
    "model = gen_model()"
   ]
  },
  {
   "cell_type": "code",
   "execution_count": 32,
   "id": "87abccf4",
   "metadata": {
    "scrolled": true
   },
   "outputs": [
    {
     "name": "stdout",
     "output_type": "stream",
     "text": [
      "Epoch 1/10\n",
      "5/5 [==============================] - 3s 424ms/step - loss: 0.1132 - root_mean_squared_error: 0.3365\n",
      "Epoch 2/10\n",
      "5/5 [==============================] - 2s 387ms/step - loss: 0.0617 - root_mean_squared_error: 0.2483\n",
      "Epoch 3/10\n",
      "5/5 [==============================] - 2s 386ms/step - loss: 0.0619 - root_mean_squared_error: 0.2487\n",
      "Epoch 4/10\n",
      "5/5 [==============================] - 2s 347ms/step - loss: 0.0620 - root_mean_squared_error: 0.2491\n",
      "Epoch 5/10\n",
      "5/5 [==============================] - 2s 385ms/step - loss: 0.0621 - root_mean_squared_error: 0.2492\n",
      "Epoch 6/10\n",
      "5/5 [==============================] - 2s 379ms/step - loss: 0.0623 - root_mean_squared_error: 0.2496\n",
      "Epoch 7/10\n",
      "5/5 [==============================] - 2s 348ms/step - loss: 0.0623 - root_mean_squared_error: 0.2497\n",
      "Epoch 8/10\n",
      "5/5 [==============================] - 2s 366ms/step - loss: 0.0623 - root_mean_squared_error: 0.2497\n",
      "Epoch 9/10\n",
      "5/5 [==============================] - 2s 346ms/step - loss: 0.0623 - root_mean_squared_error: 0.2497\n",
      "Epoch 10/10\n",
      "5/5 [==============================] - 2s 365ms/step - loss: 0.0623 - root_mean_squared_error: 0.2497\n"
     ]
    },
    {
     "data": {
      "text/plain": [
       "<keras.callbacks.History at 0x7faf6020bfa0>"
      ]
     },
     "execution_count": 32,
     "metadata": {},
     "output_type": "execute_result"
    }
   ],
   "source": [
    "EPOCHS = 10\n",
    "model.fit(X_train, y_train, epochs=EPOCHS, steps_per_epoch=5)"
   ]
  },
  {
   "cell_type": "code",
   "execution_count": 15,
   "id": "1d922008",
   "metadata": {
    "scrolled": false
   },
   "outputs": [
    {
     "name": "stdout",
     "output_type": "stream",
     "text": [
      "Model: \"sequential_1\"\n",
      "_________________________________________________________________\n",
      " Layer (type)                Output Shape              Param #   \n",
      "=================================================================\n",
      " flatten_1 (Flatten)         (40, 4096)                0         \n",
      "                                                                 \n",
      " dense_4 (Dense)             (40, 4096)                16781312  \n",
      "                                                                 \n",
      " dense_5 (Dense)             (40, 4096)                16781312  \n",
      "                                                                 \n",
      " dense_6 (Dense)             (40, 4096)                16781312  \n",
      "                                                                 \n",
      " dense_7 (Dense)             (40, 4096)                16781312  \n",
      "                                                                 \n",
      " reshape_1 (Reshape)         (40, 64, 64)              0         \n",
      "                                                                 \n",
      "=================================================================\n",
      "Total params: 67,125,248\n",
      "Trainable params: 67,125,248\n",
      "Non-trainable params: 0\n",
      "_________________________________________________________________\n"
     ]
    }
   ],
   "source": [
    "model.summary()"
   ]
  },
  {
   "cell_type": "code",
   "execution_count": 33,
   "id": "b3141054",
   "metadata": {},
   "outputs": [],
   "source": [
    "y_pred = model.predict(X_test)"
   ]
  },
  {
   "cell_type": "code",
   "execution_count": 36,
   "id": "0451054b",
   "metadata": {
    "scrolled": true
   },
   "outputs": [
    {
     "name": "stdout",
     "output_type": "stream",
     "text": [
      "Predicted Path Image\n"
     ]
    },
    {
     "data": {
      "image/png": "[encoded data removed]",
      "text/plain": [
       "<Figure size 432x288 with 1 Axes>"
      ]
     },
     "metadata": {
      "needs_background": "light"
     },
     "output_type": "display_data"
    }
   ],
   "source": [
    "print(\"Predicted Path Image\")\n",
    "plot_image(y_pred[4])"
   ]
  },
  {
   "cell_type": "code",
   "execution_count": 35,
   "id": "8b873124",
   "metadata": {
    "scrolled": true
   },
   "outputs": [
    {
     "name": "stdout",
     "output_type": "stream",
     "text": [
      "Real Path Image\n"
     ]
    },
    {
     "data": {
      "image/png": "[encoded data removed]",
      "text/plain": [
       "<Figure size 432x288 with 1 Axes>"
      ]
     },
     "metadata": {
      "needs_background": "light"
     },
     "output_type": "display_data"
    }
   ],
   "source": [
    "print(\"Real Path Image\")\n",
    "plot_image(y_test[5])"
   ]
  },
  {
   "cell_type": "markdown",
   "id": "8c9de17a",
   "metadata": {},
   "source": [
    "# ---------------------------------------------------"
   ]
  }
 ],
 "metadata": {
  "kernelspec": {
   "display_name": "Python 3 (ipykernel)",
   "language": "python",
   "name": "python3"
  },
  "language_info": {
   "codemirror_mode": {
    "name": "ipython",
    "version": 3
   },
   "file_extension": ".py",
   "mimetype": "text/x-python",
   "name": "python",
   "nbconvert_exporter": "python",
   "pygments_lexer": "ipython3",
   "version": "3.9.9"
  }
 },
 "nbformat": 4,
 "nbformat_minor": 5
}
