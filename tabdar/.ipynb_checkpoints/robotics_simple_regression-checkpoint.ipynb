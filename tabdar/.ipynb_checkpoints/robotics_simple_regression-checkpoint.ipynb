{
 "cells": [
  {
   "cell_type": "markdown",
   "id": "6fdae782",
   "metadata": {},
   "source": [
    "### Utility Functions"
   ]
  },
  {
   "cell_type": "code",
   "execution_count": 2,
   "id": "68b3e1b7",
   "metadata": {},
   "outputs": [
    {
     "name": "stderr",
     "output_type": "stream",
     "text": [
      "2021-12-15 23:05:46.901471: W tensorflow/stream_executor/platform/default/dso_loader.cc:64] Could not load dynamic library 'libcudart.so.11.0'; dlerror: libcudart.so.11.0: cannot open shared object file: No such file or directory\n",
      "2021-12-15 23:05:46.901604: I tensorflow/stream_executor/cuda/cudart_stub.cc:29] Ignore above cudart dlerror if you do not have a GPU set up on your machine.\n"
     ]
    }
   ],
   "source": [
    "import tensorflow as tf\n",
    "from IPython.display import clear_output"
   ]
  },
  {
   "cell_type": "code",
   "execution_count": 3,
   "id": "730bd1cf",
   "metadata": {},
   "outputs": [],
   "source": [
    "import zlib\n",
    "import numpy as np\n",
    "import pandas as pd\n",
    "import sqlite3 as sql\n",
    "from contextlib import contextmanager\n",
    "\n",
    "\n",
    "_CMP = '_cmp'\n",
    "\n",
    "\n",
    "@contextmanager\n",
    "def open_db_connection(*, file, close=True,\n",
    "                       lock=None, check_same_thread=False):\n",
    "    \"\"\"\n",
    "    Safety wrapper for the database call.\n",
    "    \"\"\"\n",
    "\n",
    "    if lock is not None:\n",
    "        lock.acquire()\n",
    "\n",
    "    con = sql.connect(database=file, check_same_thread=check_same_thread)\n",
    "\n",
    "    try:\n",
    "        yield con\n",
    "\n",
    "    finally:\n",
    "        if close:\n",
    "            con.close()\n",
    "        if lock is not None:\n",
    "            lock.release()\n",
    "\n",
    "\n",
    "def get_table_name(file):\n",
    "    with open_db_connection(file=file, close=True) as con:\n",
    "        res = pd.read_sql_query(sql=\"SELECT name FROM sqlite_master WHERE type ='table' AND name NOT LIKE 'sqlite_%'\",\n",
    "                                con=con)\n",
    "        return res['name'].values\n",
    "\n",
    "\n",
    "def rename_table(file, tables):\n",
    "    old_names = get_table_name(file=file)\n",
    "\n",
    "    with open_db_connection(file=file, close=True) as con:\n",
    "        cur = con.cursor()\n",
    "        for old in old_names:\n",
    "            if old in tables:\n",
    "                new = tables['old']\n",
    "                cur.execute(f\"ALTER TABLE `{old}` RENAME TO `{new}`\")\n",
    "\n",
    "\n",
    "def get_values_sql(*, file, table='db', columns=None, rows=-1,\n",
    "                   values_only=False, squeeze_col=True, squeeze_row=True):\n",
    "    \"\"\"\n",
    "    'i_samples' == i_samples_global\n",
    "    \"\"\"\n",
    "\n",
    "    lock = None  # Lock is not necessary fo reading\n",
    "    if columns is None:\n",
    "        columns = '*'\n",
    "    if isinstance(columns, str):\n",
    "        columns = [columns]\n",
    "    columns_str = ', '.join(map(str, columns))\n",
    "\n",
    "    if isinstance(rows, int):\n",
    "        rows = [rows]\n",
    "    rows = np.array(rows)\n",
    "\n",
    "    if rows[0] == -1:  # All samples\n",
    "        with open_db_connection(file=file, close=True, lock=lock) as con:\n",
    "            df = pd.read_sql_query(con=con, sql=f\"SELECT {columns_str} FROM {table}\")  # path_db\n",
    "\n",
    "    else:\n",
    "        rows_str = rows + 1  # Attention! Unlike in Python, SQL indices start at 1\n",
    "        rows_str = ', '.join(map(str, rows_str))\n",
    "        with open_db_connection(file=file, close=True, lock=lock) as con:\n",
    "            df = pd.read_sql_query(sql=f\"SELECT {columns_str} FROM {table} WHERE ROWID in ({rows_str})\",\n",
    "                                   index_col=rows, con=con)\n",
    "\n",
    "    value_list = []\n",
    "    if np.any(columns == ['*']):\n",
    "        columns = df.columns.values\n",
    "\n",
    "    if values_only:\n",
    "        for col in columns:\n",
    "            value = __decompress_values(value=df.loc[:, col].values, col=col)\n",
    "            value_list.append(value)\n",
    "\n",
    "        if len(df) == 1 and squeeze_row:\n",
    "            for i in range(len(columns)):\n",
    "                value_list[i] = value_list[i][0]\n",
    "\n",
    "        if len(value_list) == 1 and squeeze_col:\n",
    "            value_list = value_list[0]\n",
    "\n",
    "        return value_list\n",
    "\n",
    "    # Return pandas.DataFrame\n",
    "    else:\n",
    "        for col in columns:\n",
    "            value = __decompress_values(value=df.loc[:, col].values, col=col)\n",
    "            df.loc[:, col] = numeric2object_array(value)\n",
    "\n",
    "        return df\n",
    "\n",
    "\n",
    "def set_values_sql(*, file, table='db',\n",
    "                   values, columns, rows=-1, lock=None):\n",
    "    \"\"\"\n",
    "    Note: multidimensional numpy arrays have to be saved as flat to SQL otherwise the order is messed up\n",
    "    values = ([...], [...], [...], ...)\n",
    "    \"\"\"\n",
    "\n",
    "    # Handle rows argument\n",
    "    if isinstance(rows, int):\n",
    "        if rows == -1:\n",
    "            rows = np.arange(len(values[0])).tolist()\n",
    "        else:\n",
    "            rows = [rows]\n",
    "\n",
    "    rows_sql = (np.array(rows) + 1).tolist()  # Attention! Unlike in Python, SQL indices start at 1\n",
    "\n",
    "    # Handle columns argument\n",
    "    if isinstance(columns, str):\n",
    "        columns = [columns]\n",
    "\n",
    "    columns_str = '=?, '.join(map(str, columns))\n",
    "    columns_str += '=?'\n",
    "\n",
    "    values_rows_sql = change_tuple_order(values + (rows_sql,))\n",
    "    values_rows_sql = list(values_rows_sql)\n",
    "    query = f\"UPDATE {table} SET {columns_str} WHERE ROWID=?\"\n",
    "\n",
    "    with open_db_connection(file=file, close=True, lock=lock) as con:\n",
    "        cur = con.cursor()\n",
    "        if len(values_rows_sql) == 1:\n",
    "            cur.execute(query, values_rows_sql[0])\n",
    "        else:\n",
    "            cur.executemany(query, values_rows_sql)\n",
    "\n",
    "        con.commit()\n",
    "\n",
    "\n",
    "def df2sql(df, file, table='db', if_exists='fail', lock=None):\n",
    "    \"\"\"\n",
    "    From DataFrame.to_sql():\n",
    "        if_exists : {'fail', 'replace', 'append'}, default 'fail'\n",
    "                   - fail: If table exists, do nothing.\n",
    "                   - replace: If table exists, drop it, recreate it, and insert Measurements.\n",
    "                   - append: If table exists, insert Measurements. Create if does not exist.\n",
    "    \"\"\"\n",
    "    with open_db_connection(file=file, close=True, lock=lock) as con:\n",
    "        df.to_sql(name=table, con=con, if_exists=if_exists, index=False)\n",
    "\n",
    "\n",
    "# Helper\n",
    "# Image Compression <-> Decompression\n",
    "def __decompress_values(value, col):\n",
    "    # SQL saves everything in binary form -> convert back to numeric, expect the columns which are marked as CMP\n",
    "    if isinstance(value[0], bytes) and col[-4:] != _CMP:\n",
    "        if col in ['i_world', 'i_sample', 'n_obstacles']:\n",
    "            value = np.array([np.frombuffer(v, dtype=int) for v in value], dtype=int)\n",
    "        elif col in ['rectangle_pos', 'rectangle_position', 'rectangle_size']:\n",
    "            value = np.array([np.frombuffer(v, dtype=int) for v in value], dtype=object)\n",
    "        else:\n",
    "            value = np.array([np.frombuffer(v, dtype=float) for v in value])\n",
    "        value = np.squeeze(value)\n",
    "\n",
    "    return value\n",
    "\n",
    "\n",
    "def change_tuple_order(tpl):\n",
    "    return tuple(map(lambda *tt: tuple(tt), *tpl))\n",
    "\n",
    "\n",
    "def numeric2object_array(arr):\n",
    "    n = arr.shape[0]\n",
    "    arr_obj = np.zeros(n, dtype=object)\n",
    "    for i in range(n):\n",
    "        arr_obj[i] = arr[i]\n",
    "\n",
    "    return arr_obj\n",
    "\n",
    "\n",
    "def object2numeric_array(arr):\n",
    "    s = np.shape(arr)\n",
    "    arr = np.array([v for v in np.ravel(arr)])\n",
    "    arr = np.reshape(arr, s + np.shape(arr)[1:])\n",
    "    return arr\n",
    "\n",
    "\n",
    "def initialize_array(shape, mode='zeros', dtype=None, order='c'):\n",
    "\n",
    "    if mode == 'zeros':\n",
    "        return np.zeros(shape, dtype=dtype, order=order)\n",
    "    elif mode == 'ones':\n",
    "        return np.ones(shape, dtype=dtype, order=order)\n",
    "    elif mode == 'empty':\n",
    "        return np.empty(shape, dtype=dtype, order=order)\n",
    "    elif mode == 'random':\n",
    "        return np.random.random(shape).astype(dtype=dtype, order=order)\n",
    "    else:\n",
    "        raise ValueError(f\"Unknown initialization method {mode}\")\n",
    "\n",
    "\n",
    "def __dim_voxels(n_voxels, n_dim=None):\n",
    "    if np.size(n_voxels) == 1:\n",
    "        try:\n",
    "            n_voxels = tuple(n_voxels)\n",
    "        except TypeError:\n",
    "            n_voxels = (n_voxels,)\n",
    "        n_voxels *= n_dim\n",
    "    else:\n",
    "        n_voxels = tuple(n_voxels)\n",
    "\n",
    "    return n_voxels\n",
    "\n",
    "\n",
    "def image_array_shape(n_voxels, n_samples=None, n_dim=None, n_channels=None):\n",
    "    \"\"\"\n",
    "    Helper to set the shape for an image array.\n",
    "    n_samples=100,  n_voxels=64,          n_dim=2,    n_channels=None  ->  (100, 64, 64)\n",
    "    n_samples=100,  n_voxels=64,          n_dim=3,    n_channels=2     ->  (100, 64, 64, 64, 2)\n",
    "    n_samples=None, n_voxel=(10, 11, 12), n_dim=None, n_channels=None  ->  (10, 11, 12)\n",
    "    \"\"\"\n",
    "\n",
    "    shape = __dim_voxels(n_voxels=n_voxels, n_dim=n_dim)\n",
    "\n",
    "    if n_samples is not None:\n",
    "        shape = (n_samples,) + shape\n",
    "    if n_channels is not None:\n",
    "        shape = shape + (n_channels,)\n",
    "\n",
    "    return shape\n",
    "\n",
    "\n",
    "def initialize_image_array(n_voxels, n_dim=None, n_samples=None, n_channels=None,\n",
    "                           dtype=bool, initialization='zeros'):\n",
    "    shape = image_array_shape(n_voxels=n_voxels, n_dim=n_dim, n_samples=n_samples, n_channels=n_channels)\n",
    "    return initialize_array(shape=shape, mode=initialization, dtype=dtype)\n",
    "\n",
    "\n",
    "# Image Compression <-> Decompression\n",
    "def img2compressed(img, n_dim=-1, level=9):\n",
    "    \"\"\"\n",
    "    Compress the given image with the zlib routine to a binary string.\n",
    "    Level of compression can be adjusted. A timing with respect to different compression levels for decompression showed\n",
    "    no difference, so the highest level is default, this corresponds to the largest compression.\n",
    "    For compression it is slightly slower but this happens just once and not during keras training, so the smaller\n",
    "    needed memory was favoured.\n",
    "    Alternative:\n",
    "    <-> use numpy sparse for the world images, especially in 3d  -> zlib is more effective and more general\n",
    "    \"\"\"\n",
    "\n",
    "    if n_dim == -1:\n",
    "        return zlib.compress(img.tobytes(), level=level)\n",
    "    else:\n",
    "        shape = img.shape[:-n_dim]\n",
    "        img_cmp = np.empty(shape, dtype=object)\n",
    "        for idx in np.ndindex(*shape):\n",
    "            img_cmp[idx] = zlib.compress(img[idx, ...].tobytes(), level=level)\n",
    "        return img_cmp\n",
    "\n",
    "\n",
    "def compressed2img(img_cmp, n_voxels, n_dim=None, n_channels=None, dtype=bool):\n",
    "    \"\"\"\n",
    "    Decompress the binary string back to an image of given shape\n",
    "    \"\"\"\n",
    "\n",
    "    shape = np.shape(img_cmp)\n",
    "\n",
    "    if shape:\n",
    "        n_samples = np.size(img_cmp)\n",
    "        img_arr = initialize_image_array(n_voxels=n_voxels, n_dim=n_dim, n_samples=n_samples, n_channels=n_channels,\n",
    "                                         dtype=dtype)\n",
    "        for i in range(n_samples):\n",
    "            img_arr[i, ...] = np.fromstring(zlib.decompress(img_cmp[i]), dtype=dtype).reshape(\n",
    "                image_array_shape(n_voxels=n_voxels, n_dim=n_dim, n_channels=n_channels))\n",
    "        return img_arr\n",
    "\n",
    "    else:\n",
    "        return np.fromstring(zlib.decompress(img_cmp), dtype=dtype).reshape(\n",
    "            image_array_shape(n_voxels=n_voxels, n_dim=n_dim, n_channels=n_channels))"
   ]
  },
  {
   "cell_type": "markdown",
   "id": "28a23508",
   "metadata": {},
   "source": [
    "### Main"
   ]
  },
  {
   "cell_type": "code",
   "execution_count": 4,
   "id": "fcfb5ed6",
   "metadata": {
    "scrolled": false
   },
   "outputs": [
    {
     "name": "stderr",
     "output_type": "stream",
     "text": [
      "/tmp/ipykernel_1393/1467519210.py:276: DeprecationWarning: The binary mode of fromstring is deprecated, as it behaves surprisingly on unicode inputs. Use frombuffer instead\n",
      "  img_arr[i, ...] = np.fromstring(zlib.decompress(img_cmp[i]), dtype=dtype).reshape(\n"
     ]
    },
    {
     "data": {
      "image/png": "[encoded data removed]",
      "text/plain": [
       "<Figure size 432x288 with 1 Axes>"
      ]
     },
     "metadata": {
      "needs_background": "light"
     },
     "output_type": "display_data"
    }
   ],
   "source": [
    "import numpy as np\n",
    "\n",
    "file = '../SingleSphere02.db'\n",
    "# TODO change to you own directory\n",
    "\n",
    "\n",
    "n_voxels = 64\n",
    "voxel_size = 10 / 64     # in m\n",
    "extent = [0, 10, 0, 10]  # in m\n",
    "n_waypoints = 22  # start + 20 inner points + end\n",
    "n_dim = 2\n",
    "n_paths_per_world = 1000\n",
    "n_worlds = 5000\n",
    "\n",
    "\n",
    "worlds = get_values_sql(file=file, table='worlds')\n",
    "obstacle_images = compressed2img(img_cmp=worlds.obst_img_cmp.values, n_voxels=n_voxels, n_dim=n_dim)\n",
    "\n",
    "# always 1000 paths belong to one world\n",
    "# 0...999     -> world 0\n",
    "# 1000...1999 -> world 1\n",
    "# 2000...2999 -> world 2\n",
    "paths = get_values_sql(file=file, table='paths', rows=[0, 1, 2, 1000, 2000])\n",
    "path_images = compressed2img(img_cmp=paths.path_img_cmp.values, n_voxels=n_voxels, n_dim=n_dim)\n",
    "start_images = compressed2img(img_cmp=paths.start_img_cmp.values, n_voxels=n_voxels, n_dim=n_dim)\n",
    "end_images = compressed2img(img_cmp=paths.end_img_cmp.values, n_voxels=n_voxels, n_dim=n_dim)\n",
    "\n",
    "q_paths = object2numeric_array(paths.q_path.values)\n",
    "q_paths = q_paths.reshape(-1, n_waypoints, n_dim)\n",
    "\n",
    "# Plot an example\n",
    "i = 0\n",
    "i_world = paths.i_world[i]\n",
    "\n",
    "import matplotlib.pyplot as plt\n",
    "fig, ax = plt.subplots()\n",
    "\n",
    "ax.imshow(obstacle_images[i_world].T, origin='lower', extent=extent, cmap='binary',)\n",
    "ax.imshow(start_images[i].T, origin='lower', extent=extent, cmap='Greens', alpha=0.4)\n",
    "ax.imshow(end_images[i].T, origin='lower', extent=extent, cmap='Reds', alpha=0.4)\n",
    "ax.imshow(path_images[i].T, origin='lower', extent=extent, cmap='Blues', alpha=0.2)\n",
    "ax.axis('off')\n",
    "ax.plot(*q_paths[i].T, color='k', marker='o')\n",
    "plt.show()"
   ]
  },
  {
   "cell_type": "markdown",
   "id": "22ea6a80",
   "metadata": {},
   "source": [
    "# Creating Image datasets"
   ]
  },
  {
   "cell_type": "code",
   "execution_count": 5,
   "id": "fe61c429",
   "metadata": {},
   "outputs": [],
   "source": [
    "def load_images_for_single_world(world_index, file='../SingleSphere02.db', paths_per_world=1000):\n",
    "    \n",
    "    \"\"\" Returns an array of tuples where each tuple contains:\n",
    "        1. Obstacle image of the desired world with different start & end points\n",
    "        2. Above image plus the path from start to end point\n",
    "    \"\"\"\n",
    "    \n",
    "    # Initial Parameters\n",
    "    n_voxels = 64\n",
    "    voxel_size = 10 / 64     # in m\n",
    "    extent = [0, 10, 0, 10]  # in m\n",
    "    n_waypoints = 22  # start + 20 inner points + end\n",
    "    n_dim = 2\n",
    "    n_paths_per_world = 1000\n",
    "    n_worlds = 5000\n",
    "\n",
    "    worlds = get_values_sql(file=file, table='worlds')\n",
    "    obstacle_image = compressed2img(img_cmp=worlds.obst_img_cmp.values, n_voxels=n_voxels, n_dim=n_dim)[world_index]\n",
    "    \n",
    "    # always 1000 paths belong to one world\n",
    "    # 0...999     -> world 0\n",
    "    # 1000...1999 -> world 1\n",
    "    # 2000...2999 -> world 2\n",
    "    path_range_start  = world_index * paths_per_world\n",
    "    path_range_end = world_index * paths_per_world + paths_per_world\n",
    "    n_world_all_paths = [x for x in range(path_range_start, path_range_end)]\n",
    "    \n",
    "    paths = get_values_sql(file=file, table='paths', rows=n_world_all_paths)\n",
    "    \n",
    "    # Decompressing objects to images\n",
    "    path_images = compressed2img(img_cmp=paths.path_img_cmp.values, n_voxels=n_voxels, n_dim=n_dim)\n",
    "    start_images = compressed2img(img_cmp=paths.start_img_cmp.values, n_voxels=n_voxels, n_dim=n_dim)\n",
    "    end_images = compressed2img(img_cmp=paths.end_img_cmp.values, n_voxels=n_voxels, n_dim=n_dim)\n",
    "\n",
    "    input_images = []\n",
    "    output_images = []\n",
    "    for i in n_world_all_paths:\n",
    "        input_images.append(obstacle_images[i_world].T + start_images[i].T + end_images[i].T)\n",
    "        output_images.append(path_images[i].T)\n",
    "    return input_images, output_images"
   ]
  },
  {
   "cell_type": "code",
   "execution_count": 6,
   "id": "f24b8bd6",
   "metadata": {},
   "outputs": [
    {
     "name": "stderr",
     "output_type": "stream",
     "text": [
      "/tmp/ipykernel_1393/1467519210.py:276: DeprecationWarning: The binary mode of fromstring is deprecated, as it behaves surprisingly on unicode inputs. Use frombuffer instead\n",
      "  img_arr[i, ...] = np.fromstring(zlib.decompress(img_cmp[i]), dtype=dtype).reshape(\n"
     ]
    }
   ],
   "source": [
    "input_images, output_images = load_images_for_single_world(0)"
   ]
  },
  {
   "cell_type": "code",
   "execution_count": 7,
   "id": "c2ca5da6",
   "metadata": {},
   "outputs": [],
   "source": [
    "# Display Images\n",
    "def plot_image(image_array):\n",
    "    ''' Displays numpy arrays'''\n",
    "    fig, ax = plt.subplots()\n",
    "    ax.imshow(image_array, origin='lower', extent=extent, cmap='binary',)\n",
    "    plt.show()"
   ]
  },
  {
   "cell_type": "markdown",
   "id": "66ee6f3e",
   "metadata": {},
   "source": [
    "# Testing"
   ]
  },
  {
   "cell_type": "code",
   "execution_count": 8,
   "id": "c5a8a8a7",
   "metadata": {},
   "outputs": [],
   "source": [
    "# Expanding dimension (64,64) -> (64,64,1)\n",
    "X = [np.expand_dims(i, axis=2) for i in input_images]\n",
    "y = [np.expand_dims(i, axis=2) for i in output_images]\n",
    "\n",
    "# Splitting into test and train\n",
    "X_train = np.array(X[800:])\n",
    "X_test = np.array(X[:800])\n",
    "y_train = np.array(y[800:])\n",
    "y_test = np.array(y[:800])"
   ]
  },
  {
   "cell_type": "code",
   "execution_count": null,
   "id": "c79e51f5",
   "metadata": {},
   "outputs": [],
   "source": []
  },
  {
   "cell_type": "code",
   "execution_count": 9,
   "id": "e9168cf3",
   "metadata": {},
   "outputs": [],
   "source": [
    "input_shape = (64,64,1)\n",
    "\n",
    "def gen_model():\n",
    "    model = tf.keras.models.Sequential([\n",
    "    tf.keras.layers.Flatten(),\n",
    "    #tf.keras.layers.Flatten(activation='relu')\n",
    "    tf.keras.layers.Dense(4096,activation='relu'),\n",
    "    tf.keras.layers.Dense(4096, activation='relu'),\n",
    "    tf.keras.layers.Dense(4096, activation='relu'),\n",
    "    tf.keras.layers.Dense(64*64, activation='relu'),\n",
    "    tf.keras.layers.Reshape((64, 64))\n",
    "        \n",
    "     ])\n",
    "\n",
    "    model.compile(optimizer=tf.keras.optimizers.Adam(),\n",
    "                  loss=tf.keras.losses.mean_squared_error,\n",
    "                  metrics=[tf.keras.metrics.RootMeanSquaredError()])\n",
    "\n",
    "    return model\n",
    "\n"
   ]
  },
  {
   "cell_type": "code",
   "execution_count": 10,
   "id": "96382c16",
   "metadata": {},
   "outputs": [
    {
     "name": "stderr",
     "output_type": "stream",
     "text": [
      "2021-12-15 23:05:53.327264: W tensorflow/stream_executor/platform/default/dso_loader.cc:64] Could not load dynamic library 'libcuda.so.1'; dlerror: libcuda.so.1: cannot open shared object file: No such file or directory\n",
      "2021-12-15 23:05:53.328136: W tensorflow/stream_executor/cuda/cuda_driver.cc:269] failed call to cuInit: UNKNOWN ERROR (303)\n",
      "2021-12-15 23:05:53.328555: I tensorflow/stream_executor/cuda/cuda_diagnostics.cc:156] kernel driver does not appear to be running on this host (2cc49966f54a): /proc/driver/nvidia/version does not exist\n",
      "2021-12-15 23:05:53.331679: I tensorflow/core/platform/cpu_feature_guard.cc:151] This TensorFlow binary is optimized with oneAPI Deep Neural Network Library (oneDNN) to use the following CPU instructions in performance-critical operations:  AVX2 FMA\n",
      "To enable them in other operations, rebuild TensorFlow with the appropriate compiler flags.\n"
     ]
    }
   ],
   "source": [
    "model = gen_model()"
   ]
  },
  {
   "cell_type": "code",
   "execution_count": 11,
   "id": "87abccf4",
   "metadata": {
    "scrolled": true
   },
   "outputs": [
    {
     "name": "stdout",
     "output_type": "stream",
     "text": [
      "Epoch 1/15\n",
      "20/20 [==============================] - 8s 346ms/step - loss: 0.0565 - root_mean_squared_error: 0.2378\n",
      "Epoch 2/15\n",
      "20/20 [==============================] - 8s 408ms/step - loss: 0.0534 - root_mean_squared_error: 0.2311\n",
      "Epoch 3/15\n",
      "20/20 [==============================] - 8s 407ms/step - loss: 0.0508 - root_mean_squared_error: 0.2253\n",
      "Epoch 4/15\n",
      "20/20 [==============================] - 8s 382ms/step - loss: 0.0491 - root_mean_squared_error: 0.2216\n",
      "Epoch 5/15\n",
      "20/20 [==============================] - 8s 390ms/step - loss: 0.0478 - root_mean_squared_error: 0.2186\n",
      "Epoch 6/15\n",
      "20/20 [==============================] - 8s 376ms/step - loss: 0.0465 - root_mean_squared_error: 0.2157\n",
      "Epoch 7/15\n",
      "20/20 [==============================] - 7s 378ms/step - loss: 0.0446 - root_mean_squared_error: 0.2112\n",
      "Epoch 8/15\n",
      "20/20 [==============================] - 8s 374ms/step - loss: 0.0418 - root_mean_squared_error: 0.2045\n",
      "Epoch 9/15\n",
      "20/20 [==============================] - 7s 372ms/step - loss: 0.0396 - root_mean_squared_error: 0.1989\n",
      "Epoch 10/15\n",
      "20/20 [==============================] - 10s 483ms/step - loss: 0.0385 - root_mean_squared_error: 0.1961\n",
      "Epoch 11/15\n",
      "20/20 [==============================] - 8s 424ms/step - loss: 0.0364 - root_mean_squared_error: 0.1907\n",
      "Epoch 12/15\n",
      "20/20 [==============================] - 7s 367ms/step - loss: 0.0349 - root_mean_squared_error: 0.1867\n",
      "Epoch 13/15\n",
      "20/20 [==============================] - 8s 420ms/step - loss: 0.0346 - root_mean_squared_error: 0.1860\n",
      "Epoch 14/15\n",
      "20/20 [==============================] - 8s 415ms/step - loss: 0.0328 - root_mean_squared_error: 0.1811\n",
      "Epoch 15/15\n",
      "20/20 [==============================] - 8s 399ms/step - loss: 0.0311 - root_mean_squared_error: 0.1764\n"
     ]
    },
    {
     "data": {
      "text/plain": [
       "<keras.callbacks.History at 0x7f2ee0a2b5e0>"
      ]
     },
     "execution_count": 11,
     "metadata": {},
     "output_type": "execute_result"
    }
   ],
   "source": [
    "EPOCHS = 15\n",
    "model.fit(X_train, y_train, epochs=EPOCHS, steps_per_epoch=20)"
   ]
  },
  {
   "cell_type": "code",
   "execution_count": 12,
   "id": "1d922008",
   "metadata": {
    "scrolled": false
   },
   "outputs": [
    {
     "name": "stdout",
     "output_type": "stream",
     "text": [
      "Model: \"sequential\"\n",
      "_________________________________________________________________\n",
      " Layer (type)                Output Shape              Param #   \n",
      "=================================================================\n",
      " flatten (Flatten)           (10, 4096)                0         \n",
      "                                                                 \n",
      " dense (Dense)               (10, 4096)                16781312  \n",
      "                                                                 \n",
      " dense_1 (Dense)             (10, 4096)                16781312  \n",
      "                                                                 \n",
      " dense_2 (Dense)             (10, 4096)                16781312  \n",
      "                                                                 \n",
      " dense_3 (Dense)             (10, 4096)                16781312  \n",
      "                                                                 \n",
      " reshape (Reshape)           (10, 64, 64)              0         \n",
      "                                                                 \n",
      "=================================================================\n",
      "Total params: 67,125,248\n",
      "Trainable params: 67,125,248\n",
      "Non-trainable params: 0\n",
      "_________________________________________________________________\n"
     ]
    }
   ],
   "source": [
    "model.summary()"
   ]
  },
  {
   "cell_type": "code",
   "execution_count": 13,
   "id": "b3141054",
   "metadata": {},
   "outputs": [],
   "source": [
    "y_pred = model.predict(X_test)"
   ]
  },
  {
   "cell_type": "code",
   "execution_count": 36,
   "id": "4a8f0d79",
   "metadata": {},
   "outputs": [
    {
     "data": {
      "text/plain": [
       "array([0.        , 0.00029759, 0.00053354, 0.00056277, 0.00095479,\n",
       "       0.00099681, 0.00105018, 0.00223878, 0.00340486, 0.00372789,\n",
       "       0.00387905, 0.0048456 , 0.00494931, 0.0053089 , 0.00699315,\n",
       "       0.00718932, 0.0071935 , 0.00725514, 0.00759399, 0.00767374,\n",
       "       0.00775723, 0.00788157, 0.00842114, 0.00843318, 0.00848921,\n",
       "       0.00886075, 0.00918791, 0.00949448, 0.00963724, 0.01098016,\n",
       "       0.01128814, 0.01179437, 0.01203854, 0.01206759, 0.01227817,\n",
       "       0.01248019, 0.01349783, 0.01401956, 0.01407052, 0.01433723,\n",
       "       0.01456423, 0.01460603, 0.01468557, 0.01490582, 0.01490783,\n",
       "       0.01577019, 0.01587677, 0.01701806, 0.01734603, 0.01779795,\n",
       "       0.01794115, 0.01819801, 0.01948269, 0.01960651, 0.01970584,\n",
       "       0.01995811, 0.02112224, 0.02118867, 0.02159552, 0.02211498,\n",
       "       0.02225675, 0.02296924, 0.02389458, 0.02452987, 0.02467721,\n",
       "       0.02629627, 0.02770908, 0.02795662, 0.02797479, 0.02807511,\n",
       "       0.02850078, 0.02876838, 0.02915339, 0.02933613, 0.02945327,\n",
       "       0.02979832, 0.02988335, 0.03057664, 0.03136279, 0.03138947,\n",
       "       0.03142397, 0.03208687, 0.03240701, 0.03261747, 0.03287404,\n",
       "       0.03330047, 0.03360988, 0.03393726, 0.03405891, 0.03441067,\n",
       "       0.03447873, 0.0367594 , 0.03708664, 0.03719225, 0.03776428,\n",
       "       0.03790838, 0.03805408, 0.03809579, 0.03851083, 0.04127389,\n",
       "       0.04140612, 0.04269842, 0.04323986, 0.04387245, 0.04401386,\n",
       "       0.04426939, 0.04430111, 0.04455362, 0.04456975, 0.04490326,\n",
       "       0.04515953, 0.0453134 , 0.04574258, 0.04621083, 0.04633144,\n",
       "       0.04738459, 0.0476883 , 0.04840557, 0.04912417, 0.04984707,\n",
       "       0.04996075, 0.05048305, 0.0504863 , 0.05075411, 0.05081682,\n",
       "       0.05086412, 0.05114985, 0.05138683, 0.05152273, 0.05240769,\n",
       "       0.05251352, 0.0529144 , 0.05295665, 0.05414625, 0.05476992,\n",
       "       0.05486915, 0.05510633, 0.05513498, 0.055318  , 0.05573291,\n",
       "       0.05610471, 0.05629165, 0.05642405, 0.05721818, 0.05738005,\n",
       "       0.05780837, 0.05823284, 0.05929168, 0.05935475, 0.05963501,\n",
       "       0.06022527, 0.06112789, 0.0615192 , 0.06380833, 0.06484588,\n",
       "       0.06529938, 0.06558499, 0.06565136, 0.06570636, 0.06607669,\n",
       "       0.06767797, 0.06800504, 0.0684264 , 0.06858373, 0.06897383,\n",
       "       0.06942337, 0.07001571, 0.07107514, 0.07125582, 0.07164976,\n",
       "       0.07169203, 0.07236533, 0.07386667, 0.07387578, 0.07430433,\n",
       "       0.07463736, 0.07486612, 0.07498193, 0.07599497, 0.07681725,\n",
       "       0.07697747, 0.07712341, 0.07712524, 0.0772227 , 0.07810068,\n",
       "       0.07813397, 0.07844164, 0.07853454, 0.07905541, 0.07906152,\n",
       "       0.07927508, 0.07929777, 0.08000129, 0.08083069, 0.08089183,\n",
       "       0.0811891 , 0.08136118, 0.08171295, 0.08211594, 0.08247346,\n",
       "       0.0826621 , 0.08271502, 0.08297515, 0.08305755, 0.08378426,\n",
       "       0.08470391, 0.08479689, 0.08481727, 0.08505838, 0.08555818,\n",
       "       0.0857445 , 0.08696052, 0.08737586, 0.08787701, 0.08817193,\n",
       "       0.08828287, 0.08843285, 0.08858112, 0.08910528, 0.08911449,\n",
       "       0.08975973, 0.08994479, 0.08996264, 0.09041768, 0.09048293,\n",
       "       0.09058178, 0.09132975, 0.09135219, 0.09155537, 0.09201525,\n",
       "       0.09204321, 0.09222872, 0.09249293, 0.09271881, 0.09288926,\n",
       "       0.0929146 , 0.09303564, 0.09320065, 0.09388335, 0.09398581,\n",
       "       0.09426394, 0.09439778, 0.09453975, 0.0953749 , 0.09565634,\n",
       "       0.09569031, 0.09634082, 0.09643451, 0.09814224, 0.09862026,\n",
       "       0.09926225, 0.09931624, 0.09945304, 0.09946337, 0.10049062,\n",
       "       0.10143431, 0.10172368, 0.10322504, 0.10338005, 0.103589  ,\n",
       "       0.10364691, 0.10374109, 0.10398817, 0.10452342, 0.10455798,\n",
       "       0.10484391, 0.10550882, 0.10563606, 0.10610597, 0.10611814,\n",
       "       0.10674774, 0.10746317, 0.1075704 , 0.10848857, 0.10861588,\n",
       "       0.10869694, 0.10872978, 0.10877287, 0.10913039, 0.10914373,\n",
       "       0.10934245, 0.10971784, 0.10993943, 0.1100973 , 0.11121533,\n",
       "       0.11185195, 0.11196817, 0.11270161, 0.11271234, 0.11283745,\n",
       "       0.11311863, 0.11316475, 0.11318691, 0.11359867, 0.11387845,\n",
       "       0.11436964, 0.1146962 , 0.11614679, 0.11640252, 0.1165299 ,\n",
       "       0.11653239, 0.1168111 , 0.11686908, 0.11757091, 0.11767154,\n",
       "       0.11796297, 0.11849269, 0.11966644, 0.12057069, 0.12113185,\n",
       "       0.12170456, 0.12189671, 0.12204748, 0.12209865, 0.12298538,\n",
       "       0.1236522 , 0.12477717, 0.12582651, 0.12640445, 0.12669134,\n",
       "       0.12765747, 0.12901351, 0.12917788, 0.12963748, 0.13035189,\n",
       "       0.13085225, 0.1310545 , 0.13160633, 0.13194126, 0.13233887,\n",
       "       0.13324709, 0.1332505 , 0.13329467, 0.13357058, 0.1335724 ,\n",
       "       0.13360211, 0.13369901, 0.13373855, 0.1353017 , 0.13615604,\n",
       "       0.13648263, 0.1380691 , 0.13816346, 0.1385811 , 0.13941382,\n",
       "       0.13980079, 0.14266634, 0.14270905, 0.14382438, 0.14434876,\n",
       "       0.14526892, 0.14536634, 0.14585118, 0.14598118, 0.1461369 ,\n",
       "       0.14615057, 0.14693545, 0.14708695, 0.14829555, 0.15010977,\n",
       "       0.15014108, 0.15023878, 0.15053643, 0.15135027, 0.15249479,\n",
       "       0.15278727, 0.15346186, 0.15422559, 0.15430552, 0.1549794 ,\n",
       "       0.15612803, 0.15723132, 0.15859722, 0.15864317, 0.15949202,\n",
       "       0.15972933, 0.16049755, 0.16058122, 0.16295625, 0.16307504,\n",
       "       0.1658569 , 0.16627337, 0.1665322 , 0.16661128, 0.16759275,\n",
       "       0.16904384, 0.16957015, 0.17069986, 0.17101355, 0.17180899,\n",
       "       0.17226909, 0.1736039 , 0.17508623, 0.1772935 , 0.17735294,\n",
       "       0.18020098, 0.18034023, 0.1814948 , 0.18196505, 0.18278417,\n",
       "       0.18499933, 0.18694073, 0.18707849, 0.1872288 , 0.18748984,\n",
       "       0.18778987, 0.1895901 , 0.18967369, 0.19006793, 0.19096223,\n",
       "       0.19123486, 0.1913077 , 0.19246337, 0.19253343, 0.19441348,\n",
       "       0.19569321, 0.19576177, 0.19740032, 0.19771746, 0.1987316 ,\n",
       "       0.19888744, 0.20040129, 0.20047893, 0.20100251, 0.2016009 ,\n",
       "       0.20217216, 0.2030174 , 0.2032485 , 0.20340014, 0.20392586,\n",
       "       0.20393908, 0.20451322, 0.2051857 , 0.20523754, 0.20548187,\n",
       "       0.2055394 , 0.20681256, 0.20749499, 0.20768787, 0.20768823,\n",
       "       0.20783801, 0.2078628 , 0.20809354, 0.20822841, 0.20829064,\n",
       "       0.20863423, 0.2089602 , 0.2089782 , 0.20957065, 0.20977199,\n",
       "       0.211352  , 0.21254908, 0.21258993, 0.21320581, 0.21390599,\n",
       "       0.21405779, 0.214239  , 0.21466625, 0.21492967, 0.21575603,\n",
       "       0.21581188, 0.21603276, 0.21628422, 0.2163222 , 0.2165355 ,\n",
       "       0.21665828, 0.21708667, 0.21722859, 0.21725741, 0.21809568,\n",
       "       0.21853554, 0.21879448, 0.21893284, 0.21931593, 0.21960022,\n",
       "       0.21989267, 0.2202394 , 0.22040305, 0.22048655, 0.22056   ,\n",
       "       0.22083868, 0.22093773, 0.22094679, 0.2212235 , 0.22123325,\n",
       "       0.2218481 , 0.22188766, 0.2219469 , 0.22228867, 0.22239453,\n",
       "       0.22260205, 0.22273241, 0.22294968, 0.22301622, 0.22326247,\n",
       "       0.22335929, 0.22350864, 0.22353543, 0.22365761, 0.22388273,\n",
       "       0.22425501, 0.2242663 , 0.22443852, 0.22465649, 0.22496752,\n",
       "       0.22529985, 0.22539647, 0.22556415, 0.225626  , 0.22566351,\n",
       "       0.2260313 , 0.22666524, 0.22670965, 0.22701782, 0.22733074,\n",
       "       0.22840075, 0.2285062 , 0.2288272 , 0.22900797, 0.22931224,\n",
       "       0.22970241, 0.22991076, 0.23013516, 0.23042648, 0.23090608,\n",
       "       0.23111372, 0.23122409, 0.23123488, 0.23133186, 0.23133616,\n",
       "       0.23160668, 0.23161048, 0.23180065, 0.23208056, 0.2328294 ,\n",
       "       0.23340818, 0.233417  , 0.23345225, 0.23399588, 0.23401928,\n",
       "       0.23423503, 0.23550501, 0.23580039, 0.23597965, 0.23599815,\n",
       "       0.23609105, 0.23610052, 0.23619625, 0.23652297, 0.23657253,\n",
       "       0.23703264, 0.23783012, 0.23795529, 0.23841597, 0.23878676,\n",
       "       0.23902327, 0.23932189, 0.23967293, 0.23973235, 0.23984662,\n",
       "       0.24074592, 0.24123721, 0.24160667, 0.24184433, 0.2420335 ,\n",
       "       0.24213466, 0.24232197, 0.24238089, 0.24349508, 0.24362285,\n",
       "       0.24389756, 0.24442036, 0.24453738, 0.24466783, 0.24503015,\n",
       "       0.24619478, 0.24632531, 0.24730067, 0.24772687, 0.24828129,\n",
       "       0.24987093, 0.25004205, 0.25186133, 0.25320384, 0.25323078,\n",
       "       0.25422543, 0.2551599 , 0.25603268, 0.25610617, 0.25639686,\n",
       "       0.25912222, 0.2600908 , 0.26470184, 0.26634228, 0.27055812,\n",
       "       0.27903926], dtype=float32)"
      ]
     },
     "execution_count": 36,
     "metadata": {},
     "output_type": "execute_result"
    }
   ],
   "source": [
    "np.unique(y_pred[10])"
   ]
  },
  {
   "cell_type": "code",
   "execution_count": 58,
   "id": "93431cd5",
   "metadata": {},
   "outputs": [
    {
     "data": {
      "text/plain": [
       "Text(0.5, 1.0, 'Predicted Image')"
      ]
     },
     "execution_count": 58,
     "metadata": {},
     "output_type": "execute_result"
    },
    {
     "data": {
      "image/png": "[encoded data removed]",
      "text/plain": [
       "<Figure size 936x936 with 2 Axes>"
      ]
     },
     "metadata": {
      "needs_background": "light"
     },
     "output_type": "display_data"
    }
   ],
   "source": [
    "idx = 100\n",
    "y_pred_processed = (y_pred > 0.3 ).astype(np.uint8)\n",
    "\n",
    "fig, axs = plt.subplots(1,2,figsize=(13,13))\n",
    "\n",
    "\n",
    "# Plotting the Ground Truth Image\n",
    "path = X_test[idx]\n",
    "path = path == 0\n",
    "\n",
    "axs[0].imshow((X_test[idx]*255).astype(np.uint8), origin=\"lower\",)\n",
    "axs[0].imshow((y_test[idx]*255).astype(np.uint8), origin=\"lower\", cmap='Blues', alpha=0.4)\n",
    "axs[0].set_title(\"Ground Truth Image\")\n",
    "\n",
    "\n",
    "# Plotting the Predicted Image\n",
    "axs[1].imshow((X_test[idx]*255).astype(np.uint8),)\n",
    "axs[1].imshow((y_pred_processed[idx]*255).astype(np.uint8), origin=\"lower\", cmap='Blues', alpha=0.4)\n",
    "axs[1].set_title(\"Predicted Image\")"
   ]
  },
  {
   "cell_type": "code",
   "execution_count": 14,
   "id": "0451054b",
   "metadata": {
    "scrolled": false
   },
   "outputs": [
    {
     "name": "stdout",
     "output_type": "stream",
     "text": [
      "Predicted Path Image\n"
     ]
    },
    {
     "data": {
      "image/png": "[encoded data removed]",
      "text/plain": [
       "<Figure size 432x288 with 1 Axes>"
      ]
     },
     "metadata": {
      "needs_background": "light"
     },
     "output_type": "display_data"
    }
   ],
   "source": [
    "print(\"Predicted Path Image\")\n",
    "plot_image(y_pred[3])"
   ]
  },
  {
   "cell_type": "code",
   "execution_count": 15,
   "id": "8b873124",
   "metadata": {
    "scrolled": true
   },
   "outputs": [
    {
     "name": "stdout",
     "output_type": "stream",
     "text": [
      "Real Path Image\n"
     ]
    },
    {
     "data": {
      "image/png": "[encoded data removed]",
      "text/plain": [
       "<Figure size 432x288 with 1 Axes>"
      ]
     },
     "metadata": {
      "needs_background": "light"
     },
     "output_type": "display_data"
    }
   ],
   "source": [
    "print(\"Real Path Image\")\n",
    "plot_image(y_test[3])"
   ]
  },
  {
   "cell_type": "markdown",
   "id": "8c9de17a",
   "metadata": {},
   "source": [
    "# ---------------------------------------------------"
   ]
  },
  {
   "cell_type": "code",
   "execution_count": 57,
   "id": "56238f47",
   "metadata": {},
   "outputs": [
    {
     "name": "stdout",
     "output_type": "stream",
     "text": [
      "Image shape before reshaping:  (64, 64)\n",
      "Image shape after reshaping:  (64, 64, 3)\n"
     ]
    },
    {
     "data": {
      "image/png": "[encoded data removed]",
      "text/plain": [
       "<PIL.Image.Image image mode=RGB size=256x256 at 0x7FAF60120DF0>"
      ]
     },
     "execution_count": 57,
     "metadata": {},
     "output_type": "execute_result"
    }
   ],
   "source": [
    "test = output_images[0]\n",
    "print(\"Image shape before reshaping: \",test.shape)\n",
    "test_resized = np.stack((test,)*3, axis=2)\n",
    "#test_resized = np.reshape(test, (-1,64,64,3))\n",
    "print(\"Image shape after reshaping: \",test_resized.shape)\n",
    "tf.keras.utils.array_to_img(tf.image.resize(test_resized.astype('uint8'), (256, 256)))"
   ]
  },
  {
   "cell_type": "code",
   "execution_count": 74,
   "id": "b84c0230",
   "metadata": {
    "scrolled": true
   },
   "outputs": [
    {
     "name": "stdout",
     "output_type": "stream",
     "text": [
      "(64, 64, 3)\n",
      "(64, 64, 1)\n"
     ]
    },
    {
     "ename": "ValueError",
     "evalue": "'images' must have either 3 or 4 dimensions.",
     "output_type": "error",
     "traceback": [
      "\u001b[0;31m---------------------------------------------------------------------------\u001b[0m",
      "\u001b[0;31mValueError\u001b[0m                                Traceback (most recent call last)",
      "\u001b[0;32m/tmp/ipykernel_10/3616539754.py\u001b[0m in \u001b[0;36m<module>\u001b[0;34m\u001b[0m\n\u001b[1;32m      2\u001b[0m \u001b[0mtest_back\u001b[0m \u001b[0;34m=\u001b[0m \u001b[0mnp\u001b[0m\u001b[0;34m.\u001b[0m\u001b[0mreshape\u001b[0m\u001b[0;34m(\u001b[0m\u001b[0mtest\u001b[0m\u001b[0;34m,\u001b[0m \u001b[0;34m(\u001b[0m\u001b[0;36m64\u001b[0m\u001b[0;34m,\u001b[0m\u001b[0;36m64\u001b[0m\u001b[0;34m,\u001b[0m\u001b[0;36m1\u001b[0m\u001b[0;34m)\u001b[0m\u001b[0;34m)\u001b[0m\u001b[0;34m\u001b[0m\u001b[0;34m\u001b[0m\u001b[0m\n\u001b[1;32m      3\u001b[0m \u001b[0mprint\u001b[0m\u001b[0;34m(\u001b[0m\u001b[0mtest_back\u001b[0m\u001b[0;34m.\u001b[0m\u001b[0mshape\u001b[0m\u001b[0;34m)\u001b[0m\u001b[0;34m\u001b[0m\u001b[0;34m\u001b[0m\u001b[0m\n\u001b[0;32m----> 4\u001b[0;31m \u001b[0mtf\u001b[0m\u001b[0;34m.\u001b[0m\u001b[0mkeras\u001b[0m\u001b[0;34m.\u001b[0m\u001b[0mutils\u001b[0m\u001b[0;34m.\u001b[0m\u001b[0marray_to_img\u001b[0m\u001b[0;34m(\u001b[0m\u001b[0mtf\u001b[0m\u001b[0;34m.\u001b[0m\u001b[0mimage\u001b[0m\u001b[0;34m.\u001b[0m\u001b[0mresize\u001b[0m\u001b[0;34m(\u001b[0m\u001b[0mtest_resized\u001b[0m\u001b[0;34m[\u001b[0m\u001b[0;34m:\u001b[0m\u001b[0;34m,\u001b[0m\u001b[0;34m:\u001b[0m\u001b[0;34m,\u001b[0m\u001b[0;36m0\u001b[0m\u001b[0;34m]\u001b[0m\u001b[0;34m.\u001b[0m\u001b[0mastype\u001b[0m\u001b[0;34m(\u001b[0m\u001b[0;34m'uint8'\u001b[0m\u001b[0;34m)\u001b[0m\u001b[0;34m,\u001b[0m \u001b[0;34m(\u001b[0m\u001b[0;36m256\u001b[0m\u001b[0;34m,\u001b[0m \u001b[0;36m256\u001b[0m\u001b[0;34m)\u001b[0m\u001b[0;34m)\u001b[0m\u001b[0;34m)\u001b[0m\u001b[0;34m\u001b[0m\u001b[0;34m\u001b[0m\u001b[0m\n\u001b[0m",
      "\u001b[0;32m/usr/local/lib/python3.9/site-packages/tensorflow/python/util/traceback_utils.py\u001b[0m in \u001b[0;36merror_handler\u001b[0;34m(*args, **kwargs)\u001b[0m\n\u001b[1;32m    151\u001b[0m     \u001b[0;32mexcept\u001b[0m \u001b[0mException\u001b[0m \u001b[0;32mas\u001b[0m \u001b[0me\u001b[0m\u001b[0;34m:\u001b[0m\u001b[0;34m\u001b[0m\u001b[0;34m\u001b[0m\u001b[0m\n\u001b[1;32m    152\u001b[0m       \u001b[0mfiltered_tb\u001b[0m \u001b[0;34m=\u001b[0m \u001b[0m_process_traceback_frames\u001b[0m\u001b[0;34m(\u001b[0m\u001b[0me\u001b[0m\u001b[0;34m.\u001b[0m\u001b[0m__traceback__\u001b[0m\u001b[0;34m)\u001b[0m\u001b[0;34m\u001b[0m\u001b[0;34m\u001b[0m\u001b[0m\n\u001b[0;32m--> 153\u001b[0;31m       \u001b[0;32mraise\u001b[0m \u001b[0me\u001b[0m\u001b[0;34m.\u001b[0m\u001b[0mwith_traceback\u001b[0m\u001b[0;34m(\u001b[0m\u001b[0mfiltered_tb\u001b[0m\u001b[0;34m)\u001b[0m \u001b[0;32mfrom\u001b[0m \u001b[0;32mNone\u001b[0m\u001b[0;34m\u001b[0m\u001b[0;34m\u001b[0m\u001b[0m\n\u001b[0m\u001b[1;32m    154\u001b[0m     \u001b[0;32mfinally\u001b[0m\u001b[0;34m:\u001b[0m\u001b[0;34m\u001b[0m\u001b[0;34m\u001b[0m\u001b[0m\n\u001b[1;32m    155\u001b[0m       \u001b[0;32mdel\u001b[0m \u001b[0mfiltered_tb\u001b[0m\u001b[0;34m\u001b[0m\u001b[0;34m\u001b[0m\u001b[0m\n",
      "\u001b[0;32m/usr/local/lib/python3.9/site-packages/tensorflow/python/ops/image_ops_impl.py\u001b[0m in \u001b[0;36m_resize_images_common\u001b[0;34m(images, resizer_fn, size, preserve_aspect_ratio, name, skip_resize_if_same)\u001b[0m\n\u001b[1;32m   1394\u001b[0m       \u001b[0mimages\u001b[0m \u001b[0;34m=\u001b[0m \u001b[0marray_ops\u001b[0m\u001b[0;34m.\u001b[0m\u001b[0mexpand_dims\u001b[0m\u001b[0;34m(\u001b[0m\u001b[0mimages\u001b[0m\u001b[0;34m,\u001b[0m \u001b[0;36m0\u001b[0m\u001b[0;34m)\u001b[0m\u001b[0;34m\u001b[0m\u001b[0;34m\u001b[0m\u001b[0m\n\u001b[1;32m   1395\u001b[0m     \u001b[0;32melif\u001b[0m \u001b[0mimages\u001b[0m\u001b[0;34m.\u001b[0m\u001b[0mget_shape\u001b[0m\u001b[0;34m(\u001b[0m\u001b[0;34m)\u001b[0m\u001b[0;34m.\u001b[0m\u001b[0mndims\u001b[0m \u001b[0;34m!=\u001b[0m \u001b[0;36m4\u001b[0m\u001b[0;34m:\u001b[0m\u001b[0;34m\u001b[0m\u001b[0;34m\u001b[0m\u001b[0m\n\u001b[0;32m-> 1396\u001b[0;31m       \u001b[0;32mraise\u001b[0m \u001b[0mValueError\u001b[0m\u001b[0;34m(\u001b[0m\u001b[0;34m'\\'images\\' must have either 3 or 4 dimensions.'\u001b[0m\u001b[0;34m)\u001b[0m\u001b[0;34m\u001b[0m\u001b[0;34m\u001b[0m\u001b[0m\n\u001b[0m\u001b[1;32m   1397\u001b[0m \u001b[0;34m\u001b[0m\u001b[0m\n\u001b[1;32m   1398\u001b[0m     \u001b[0m_\u001b[0m\u001b[0;34m,\u001b[0m \u001b[0mheight\u001b[0m\u001b[0;34m,\u001b[0m \u001b[0mwidth\u001b[0m\u001b[0;34m,\u001b[0m \u001b[0m_\u001b[0m \u001b[0;34m=\u001b[0m \u001b[0mimages\u001b[0m\u001b[0;34m.\u001b[0m\u001b[0mget_shape\u001b[0m\u001b[0;34m(\u001b[0m\u001b[0;34m)\u001b[0m\u001b[0;34m.\u001b[0m\u001b[0mas_list\u001b[0m\u001b[0;34m(\u001b[0m\u001b[0;34m)\u001b[0m\u001b[0;34m\u001b[0m\u001b[0;34m\u001b[0m\u001b[0m\n",
      "\u001b[0;31mValueError\u001b[0m: 'images' must have either 3 or 4 dimensions."
     ]
    }
   ],
   "source": [
    "print(test_resized.shape)\n",
    "test_back = np.reshape(test, (64,64,1))\n",
    "print(test_back.shape)\n",
    "tf.keras.utils.array_to_img(tf.image.resize(test_resized[:,:,0].astype('uint8'), (256, 256)))"
   ]
  },
  {
   "cell_type": "code",
   "execution_count": 79,
   "id": "dcdcccd6",
   "metadata": {},
   "outputs": [
    {
     "data": {
      "image/png": "[encoded data removed]",
      "text/plain": [
       "<Figure size 432x288 with 1 Axes>"
      ]
     },
     "metadata": {
      "needs_background": "light"
     },
     "output_type": "display_data"
    }
   ],
   "source": [
    "plot_image(test_resized[:,:,2])"
   ]
  }
 ],
 "metadata": {
  "kernelspec": {
   "display_name": "Python 3 (ipykernel)",
   "language": "python",
   "name": "python3"
  },
  "language_info": {
   "codemirror_mode": {
    "name": "ipython",
    "version": 3
   },
   "file_extension": ".py",
   "mimetype": "text/x-python",
   "name": "python",
   "nbconvert_exporter": "python",
   "pygments_lexer": "ipython3",
   "version": "3.9.9"
  }
 },
 "nbformat": 4,
 "nbformat_minor": 5
}
