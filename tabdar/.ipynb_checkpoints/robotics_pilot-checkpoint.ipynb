{
 "cells": [
  {
   "cell_type": "markdown",
   "id": "6fdae782",
   "metadata": {},
   "source": [
    "### Utility Functions"
   ]
  },
  {
   "cell_type": "code",
   "execution_count": 1,
   "id": "68b3e1b7",
   "metadata": {},
   "outputs": [
    {
     "name": "stderr",
     "output_type": "stream",
     "text": [
      "2021-12-01 11:54:40.640024: W tensorflow/stream_executor/platform/default/dso_loader.cc:64] Could not load dynamic library 'libcudart.so.11.0'; dlerror: libcudart.so.11.0: cannot open shared object file: No such file or directory\n",
      "2021-12-01 11:54:40.640149: I tensorflow/stream_executor/cuda/cudart_stub.cc:29] Ignore above cudart dlerror if you do not have a GPU set up on your machine.\n"
     ]
    }
   ],
   "source": [
    "import tensorflow as tf\n",
    "from IPython.display import clear_output"
   ]
  },
  {
   "cell_type": "code",
   "execution_count": 2,
   "id": "730bd1cf",
   "metadata": {},
   "outputs": [],
   "source": [
    "import zlib\n",
    "import numpy as np\n",
    "import pandas as pd\n",
    "import sqlite3 as sql\n",
    "from contextlib import contextmanager\n",
    "\n",
    "\n",
    "_CMP = '_cmp'\n",
    "\n",
    "\n",
    "@contextmanager\n",
    "def open_db_connection(*, file, close=True,\n",
    "                       lock=None, check_same_thread=False):\n",
    "    \"\"\"\n",
    "    Safety wrapper for the database call.\n",
    "    \"\"\"\n",
    "\n",
    "    if lock is not None:\n",
    "        lock.acquire()\n",
    "\n",
    "    con = sql.connect(database=file, check_same_thread=check_same_thread)\n",
    "\n",
    "    try:\n",
    "        yield con\n",
    "\n",
    "    finally:\n",
    "        if close:\n",
    "            con.close()\n",
    "        if lock is not None:\n",
    "            lock.release()\n",
    "\n",
    "\n",
    "def get_table_name(file):\n",
    "    with open_db_connection(file=file, close=True) as con:\n",
    "        res = pd.read_sql_query(sql=\"SELECT name FROM sqlite_master WHERE type ='table' AND name NOT LIKE 'sqlite_%'\",\n",
    "                                con=con)\n",
    "        return res['name'].values\n",
    "\n",
    "\n",
    "def rename_table(file, tables):\n",
    "    old_names = get_table_name(file=file)\n",
    "\n",
    "    with open_db_connection(file=file, close=True) as con:\n",
    "        cur = con.cursor()\n",
    "        for old in old_names:\n",
    "            if old in tables:\n",
    "                new = tables['old']\n",
    "                cur.execute(f\"ALTER TABLE `{old}` RENAME TO `{new}`\")\n",
    "\n",
    "\n",
    "def get_values_sql(*, file, table='db', columns=None, rows=-1,\n",
    "                   values_only=False, squeeze_col=True, squeeze_row=True):\n",
    "    \"\"\"\n",
    "    'i_samples' == i_samples_global\n",
    "    \"\"\"\n",
    "\n",
    "    lock = None  # Lock is not necessary fo reading\n",
    "    if columns is None:\n",
    "        columns = '*'\n",
    "    if isinstance(columns, str):\n",
    "        columns = [columns]\n",
    "    columns_str = ', '.join(map(str, columns))\n",
    "\n",
    "    if isinstance(rows, int):\n",
    "        rows = [rows]\n",
    "    rows = np.array(rows)\n",
    "\n",
    "    if rows[0] == -1:  # All samples\n",
    "        with open_db_connection(file=file, close=True, lock=lock) as con:\n",
    "            df = pd.read_sql_query(con=con, sql=f\"SELECT {columns_str} FROM {table}\")  # path_db\n",
    "\n",
    "    else:\n",
    "        rows_str = rows + 1  # Attention! Unlike in Python, SQL indices start at 1\n",
    "        rows_str = ', '.join(map(str, rows_str))\n",
    "        with open_db_connection(file=file, close=True, lock=lock) as con:\n",
    "            df = pd.read_sql_query(sql=f\"SELECT {columns_str} FROM {table} WHERE ROWID in ({rows_str})\",\n",
    "                                   index_col=rows, con=con)\n",
    "\n",
    "    value_list = []\n",
    "    if np.any(columns == ['*']):\n",
    "        columns = df.columns.values\n",
    "\n",
    "    if values_only:\n",
    "        for col in columns:\n",
    "            value = __decompress_values(value=df.loc[:, col].values, col=col)\n",
    "            value_list.append(value)\n",
    "\n",
    "        if len(df) == 1 and squeeze_row:\n",
    "            for i in range(len(columns)):\n",
    "                value_list[i] = value_list[i][0]\n",
    "\n",
    "        if len(value_list) == 1 and squeeze_col:\n",
    "            value_list = value_list[0]\n",
    "\n",
    "        return value_list\n",
    "\n",
    "    # Return pandas.DataFrame\n",
    "    else:\n",
    "        for col in columns:\n",
    "            value = __decompress_values(value=df.loc[:, col].values, col=col)\n",
    "            df.loc[:, col] = numeric2object_array(value)\n",
    "\n",
    "        return df\n",
    "\n",
    "\n",
    "def set_values_sql(*, file, table='db',\n",
    "                   values, columns, rows=-1, lock=None):\n",
    "    \"\"\"\n",
    "    Note: multidimensional numpy arrays have to be saved as flat to SQL otherwise the order is messed up\n",
    "    values = ([...], [...], [...], ...)\n",
    "    \"\"\"\n",
    "\n",
    "    # Handle rows argument\n",
    "    if isinstance(rows, int):\n",
    "        if rows == -1:\n",
    "            rows = np.arange(len(values[0])).tolist()\n",
    "        else:\n",
    "            rows = [rows]\n",
    "\n",
    "    rows_sql = (np.array(rows) + 1).tolist()  # Attention! Unlike in Python, SQL indices start at 1\n",
    "\n",
    "    # Handle columns argument\n",
    "    if isinstance(columns, str):\n",
    "        columns = [columns]\n",
    "\n",
    "    columns_str = '=?, '.join(map(str, columns))\n",
    "    columns_str += '=?'\n",
    "\n",
    "    values_rows_sql = change_tuple_order(values + (rows_sql,))\n",
    "    values_rows_sql = list(values_rows_sql)\n",
    "    query = f\"UPDATE {table} SET {columns_str} WHERE ROWID=?\"\n",
    "\n",
    "    with open_db_connection(file=file, close=True, lock=lock) as con:\n",
    "        cur = con.cursor()\n",
    "        if len(values_rows_sql) == 1:\n",
    "            cur.execute(query, values_rows_sql[0])\n",
    "        else:\n",
    "            cur.executemany(query, values_rows_sql)\n",
    "\n",
    "        con.commit()\n",
    "\n",
    "\n",
    "def df2sql(df, file, table='db', if_exists='fail', lock=None):\n",
    "    \"\"\"\n",
    "    From DataFrame.to_sql():\n",
    "        if_exists : {'fail', 'replace', 'append'}, default 'fail'\n",
    "                   - fail: If table exists, do nothing.\n",
    "                   - replace: If table exists, drop it, recreate it, and insert Measurements.\n",
    "                   - append: If table exists, insert Measurements. Create if does not exist.\n",
    "    \"\"\"\n",
    "    with open_db_connection(file=file, close=True, lock=lock) as con:\n",
    "        df.to_sql(name=table, con=con, if_exists=if_exists, index=False)\n",
    "\n",
    "\n",
    "# Helper\n",
    "# Image Compression <-> Decompression\n",
    "def __decompress_values(value, col):\n",
    "    # SQL saves everything in binary form -> convert back to numeric, expect the columns which are marked as CMP\n",
    "    if isinstance(value[0], bytes) and col[-4:] != _CMP:\n",
    "        if col in ['i_world', 'i_sample', 'n_obstacles']:\n",
    "            value = np.array([np.frombuffer(v, dtype=int) for v in value], dtype=int)\n",
    "        elif col in ['rectangle_pos', 'rectangle_position', 'rectangle_size']:\n",
    "            value = np.array([np.frombuffer(v, dtype=int) for v in value], dtype=object)\n",
    "        else:\n",
    "            value = np.array([np.frombuffer(v, dtype=float) for v in value])\n",
    "        value = np.squeeze(value)\n",
    "\n",
    "    return value\n",
    "\n",
    "\n",
    "def change_tuple_order(tpl):\n",
    "    return tuple(map(lambda *tt: tuple(tt), *tpl))\n",
    "\n",
    "\n",
    "def numeric2object_array(arr):\n",
    "    n = arr.shape[0]\n",
    "    arr_obj = np.zeros(n, dtype=object)\n",
    "    for i in range(n):\n",
    "        arr_obj[i] = arr[i]\n",
    "\n",
    "    return arr_obj\n",
    "\n",
    "\n",
    "def object2numeric_array(arr):\n",
    "    s = np.shape(arr)\n",
    "    arr = np.array([v for v in np.ravel(arr)])\n",
    "    arr = np.reshape(arr, s + np.shape(arr)[1:])\n",
    "    return arr\n",
    "\n",
    "\n",
    "def initialize_array(shape, mode='zeros', dtype=None, order='c'):\n",
    "\n",
    "    if mode == 'zeros':\n",
    "        return np.zeros(shape, dtype=dtype, order=order)\n",
    "    elif mode == 'ones':\n",
    "        return np.ones(shape, dtype=dtype, order=order)\n",
    "    elif mode == 'empty':\n",
    "        return np.empty(shape, dtype=dtype, order=order)\n",
    "    elif mode == 'random':\n",
    "        return np.random.random(shape).astype(dtype=dtype, order=order)\n",
    "    else:\n",
    "        raise ValueError(f\"Unknown initialization method {mode}\")\n",
    "\n",
    "\n",
    "def __dim_voxels(n_voxels, n_dim=None):\n",
    "    if np.size(n_voxels) == 1:\n",
    "        try:\n",
    "            n_voxels = tuple(n_voxels)\n",
    "        except TypeError:\n",
    "            n_voxels = (n_voxels,)\n",
    "        n_voxels *= n_dim\n",
    "    else:\n",
    "        n_voxels = tuple(n_voxels)\n",
    "\n",
    "    return n_voxels\n",
    "\n",
    "\n",
    "def image_array_shape(n_voxels, n_samples=None, n_dim=None, n_channels=None):\n",
    "    \"\"\"\n",
    "    Helper to set the shape for an image array.\n",
    "    n_samples=100,  n_voxels=64,          n_dim=2,    n_channels=None  ->  (100, 64, 64)\n",
    "    n_samples=100,  n_voxels=64,          n_dim=3,    n_channels=2     ->  (100, 64, 64, 64, 2)\n",
    "    n_samples=None, n_voxel=(10, 11, 12), n_dim=None, n_channels=None  ->  (10, 11, 12)\n",
    "    \"\"\"\n",
    "\n",
    "    shape = __dim_voxels(n_voxels=n_voxels, n_dim=n_dim)\n",
    "\n",
    "    if n_samples is not None:\n",
    "        shape = (n_samples,) + shape\n",
    "    if n_channels is not None:\n",
    "        shape = shape + (n_channels,)\n",
    "\n",
    "    return shape\n",
    "\n",
    "\n",
    "def initialize_image_array(n_voxels, n_dim=None, n_samples=None, n_channels=None,\n",
    "                           dtype=bool, initialization='zeros'):\n",
    "    shape = image_array_shape(n_voxels=n_voxels, n_dim=n_dim, n_samples=n_samples, n_channels=n_channels)\n",
    "    return initialize_array(shape=shape, mode=initialization, dtype=dtype)\n",
    "\n",
    "\n",
    "# Image Compression <-> Decompression\n",
    "def img2compressed(img, n_dim=-1, level=9):\n",
    "    \"\"\"\n",
    "    Compress the given image with the zlib routine to a binary string.\n",
    "    Level of compression can be adjusted. A timing with respect to different compression levels for decompression showed\n",
    "    no difference, so the highest level is default, this corresponds to the largest compression.\n",
    "    For compression it is slightly slower but this happens just once and not during keras training, so the smaller\n",
    "    needed memory was favoured.\n",
    "    Alternative:\n",
    "    <-> use numpy sparse for the world images, especially in 3d  -> zlib is more effective and more general\n",
    "    \"\"\"\n",
    "\n",
    "    if n_dim == -1:\n",
    "        return zlib.compress(img.tobytes(), level=level)\n",
    "    else:\n",
    "        shape = img.shape[:-n_dim]\n",
    "        img_cmp = np.empty(shape, dtype=object)\n",
    "        for idx in np.ndindex(*shape):\n",
    "            img_cmp[idx] = zlib.compress(img[idx, ...].tobytes(), level=level)\n",
    "        return img_cmp\n",
    "\n",
    "\n",
    "def compressed2img(img_cmp, n_voxels, n_dim=None, n_channels=None, dtype=bool):\n",
    "    \"\"\"\n",
    "    Decompress the binary string back to an image of given shape\n",
    "    \"\"\"\n",
    "\n",
    "    shape = np.shape(img_cmp)\n",
    "\n",
    "    if shape:\n",
    "        n_samples = np.size(img_cmp)\n",
    "        img_arr = initialize_image_array(n_voxels=n_voxels, n_dim=n_dim, n_samples=n_samples, n_channels=n_channels,\n",
    "                                         dtype=dtype)\n",
    "        for i in range(n_samples):\n",
    "            img_arr[i, ...] = np.fromstring(zlib.decompress(img_cmp[i]), dtype=dtype).reshape(\n",
    "                image_array_shape(n_voxels=n_voxels, n_dim=n_dim, n_channels=n_channels))\n",
    "        return img_arr\n",
    "\n",
    "    else:\n",
    "        return np.fromstring(zlib.decompress(img_cmp), dtype=dtype).reshape(\n",
    "            image_array_shape(n_voxels=n_voxels, n_dim=n_dim, n_channels=n_channels))"
   ]
  },
  {
   "cell_type": "markdown",
   "id": "28a23508",
   "metadata": {},
   "source": [
    "### Main"
   ]
  },
  {
   "cell_type": "code",
   "execution_count": 3,
   "id": "fcfb5ed6",
   "metadata": {
    "scrolled": false
   },
   "outputs": [
    {
     "name": "stderr",
     "output_type": "stream",
     "text": [
      "/tmp/ipykernel_1763/1467519210.py:276: DeprecationWarning: The binary mode of fromstring is deprecated, as it behaves surprisingly on unicode inputs. Use frombuffer instead\n",
      "  img_arr[i, ...] = np.fromstring(zlib.decompress(img_cmp[i]), dtype=dtype).reshape(\n"
     ]
    },
    {
     "data": {
      "image/png": "[encoded data removed]",
      "text/plain": [
       "<Figure size 432x288 with 1 Axes>"
      ]
     },
     "metadata": {
      "needs_background": "light"
     },
     "output_type": "display_data"
    }
   ],
   "source": [
    "import numpy as np\n",
    "\n",
    "file = '../SingleSphere02.db'\n",
    "# TODO change to you own directory\n",
    "\n",
    "\n",
    "n_voxels = 64\n",
    "voxel_size = 10 / 64     # in m\n",
    "extent = [0, 10, 0, 10]  # in m\n",
    "n_waypoints = 22  # start + 20 inner points + end\n",
    "n_dim = 2\n",
    "n_paths_per_world = 1000\n",
    "n_worlds = 5000\n",
    "\n",
    "\n",
    "worlds = get_values_sql(file=file, table='worlds')\n",
    "obstacle_images = compressed2img(img_cmp=worlds.obst_img_cmp.values, n_voxels=n_voxels, n_dim=n_dim)\n",
    "\n",
    "# always 1000 paths belong to one world\n",
    "# 0...999     -> world 0\n",
    "# 1000...1999 -> world 1\n",
    "# 2000...2999 -> world 2\n",
    "paths = get_values_sql(file=file, table='paths', rows=[0, 1, 2, 1000, 2000])\n",
    "path_images = compressed2img(img_cmp=paths.path_img_cmp.values, n_voxels=n_voxels, n_dim=n_dim)\n",
    "start_images = compressed2img(img_cmp=paths.start_img_cmp.values, n_voxels=n_voxels, n_dim=n_dim)\n",
    "end_images = compressed2img(img_cmp=paths.end_img_cmp.values, n_voxels=n_voxels, n_dim=n_dim)\n",
    "\n",
    "q_paths = object2numeric_array(paths.q_path.values)\n",
    "q_paths = q_paths.reshape(-1, n_waypoints, n_dim)\n",
    "\n",
    "# Plot an example\n",
    "i = 0\n",
    "i_world = paths.i_world[i]\n",
    "\n",
    "import matplotlib.pyplot as plt\n",
    "fig, ax = plt.subplots()\n",
    "\n",
    "ax.imshow(obstacle_images[i_world].T, origin='lower', extent=extent, cmap='binary',)\n",
    "ax.imshow(start_images[i].T, origin='lower', extent=extent, cmap='Greens', alpha=0.4)\n",
    "ax.imshow(end_images[i].T, origin='lower', extent=extent, cmap='Reds', alpha=0.4)\n",
    "ax.imshow(path_images[i].T, origin='lower', extent=extent, cmap='Blues', alpha=0.2)\n",
    "ax.axis('off')\n",
    "ax.plot(*q_paths[i].T, color='k', marker='o')\n",
    "plt.show()"
   ]
  },
  {
   "cell_type": "markdown",
   "id": "22ea6a80",
   "metadata": {},
   "source": [
    "# Creating Image datasets"
   ]
  },
  {
   "cell_type": "code",
   "execution_count": 4,
   "id": "778997e6",
   "metadata": {},
   "outputs": [],
   "source": [
    "import io\n",
    "\n",
    "#file = '../SingleSphere02.db'\n",
    "\n",
    "def load_images_for_single_world(world_index, file='../SingleSphere02.db', paths_per_world=1000):\n",
    "    \n",
    "    \"\"\" Returns an array of tuples where each tuple contains:\n",
    "        1. Obstacle image of the desired world with different start & end points\n",
    "        2. Above image plus the path from start to end point\n",
    "    \"\"\"\n",
    "    \n",
    "    # Initial Parameters\n",
    "    n_voxels = 64\n",
    "    voxel_size = 10 / 64     # in m\n",
    "    extent = [0, 10, 0, 10]  # in m\n",
    "    n_waypoints = 22  # start + 20 inner points + end\n",
    "    n_dim = 2\n",
    "    n_paths_per_world = 1000\n",
    "    n_worlds = 5000\n",
    "\n",
    "    worlds = get_values_sql(file=file, table='worlds')\n",
    "    obstacle_image = compressed2img(img_cmp=worlds.obst_img_cmp.values, n_voxels=n_voxels, n_dim=n_dim)[world_index]\n",
    "    \n",
    "    # always 1000 paths belong to one world\n",
    "    # 0...999     -> world 0\n",
    "    # 1000...1999 -> world 1\n",
    "    # 2000...2999 -> world 2\n",
    "    path_range_start  = world_index * paths_per_world\n",
    "    path_range_end = world_index * paths_per_world + paths_per_world\n",
    "    n_world_all_paths = [x for x in range(path_range_start, path_range_end)]\n",
    "    \n",
    "    paths = get_values_sql(file=file, table='paths', rows=n_world_all_paths)\n",
    "    \n",
    "    # Decompressing objects to images\n",
    "    path_images = compressed2img(img_cmp=paths.path_img_cmp.values, n_voxels=n_voxels, n_dim=n_dim)\n",
    "    start_images = compressed2img(img_cmp=paths.start_img_cmp.values, n_voxels=n_voxels, n_dim=n_dim)\n",
    "    end_images = compressed2img(img_cmp=paths.end_img_cmp.values, n_voxels=n_voxels, n_dim=n_dim)\n",
    "\n",
    "    input_images = []\n",
    "    output_images = []\n",
    "    for i in n_world_all_paths:\n",
    "        fig, ax = plt.subplots()\n",
    "        ax.imshow(obstacle_image.T, origin='lower', extent=extent, cmap='binary',)\n",
    "        ax.imshow(start_images[i].T, origin='lower', extent=extent, cmap='Greens', alpha=0.4)\n",
    "        ax.imshow(end_images[i].T, origin='lower', extent=extent, cmap='Reds', alpha=0.4)\n",
    "        ax.axis('off')\n",
    "\n",
    "        # Input Image (Obstacle + start & end points)\n",
    "        with io.BytesIO() as buff:\n",
    "            fig.savefig(buff, format='png', bbox_inches='tight',pad_inches=0)\n",
    "            buff.seek(0)\n",
    "            im = plt.imread(buff)\n",
    "            input_images.append(im)\n",
    "\n",
    "        # Output image with path\n",
    "        ax.imshow(path_images[i].T, origin='lower', extent=extent, cmap='Blues', alpha=0.1)\n",
    "        with io.BytesIO() as buff:\n",
    "            fig.savefig(buff, format='png', bbox_inches='tight',pad_inches=0)\n",
    "            buff.seek(0)\n",
    "            im_path = plt.imread(buff)\n",
    "            output_images.append(im_path)\n",
    "        #obstacle_plus_path_tuples.append((im, im_path))\n",
    "        plt.close()\n",
    "    \n",
    "    \n",
    "    return input_images, output_images\n",
    "\n",
    "\n",
    "\n"
   ]
  },
  {
   "cell_type": "code",
   "execution_count": 5,
   "id": "f6432543",
   "metadata": {
    "scrolled": false
   },
   "outputs": [
    {
     "name": "stderr",
     "output_type": "stream",
     "text": [
      "/tmp/ipykernel_1763/1467519210.py:276: DeprecationWarning: The binary mode of fromstring is deprecated, as it behaves surprisingly on unicode inputs. Use frombuffer instead\n",
      "  img_arr[i, ...] = np.fromstring(zlib.decompress(img_cmp[i]), dtype=dtype).reshape(\n"
     ]
    }
   ],
   "source": [
    "input_images, output_images = load_images_for_single_world(0)"
   ]
  },
  {
   "cell_type": "markdown",
   "id": "33988bb3",
   "metadata": {},
   "source": [
    "# Creating tensorflow datasets from image datasets"
   ]
  },
  {
   "cell_type": "code",
   "execution_count": 52,
   "id": "69561f5c",
   "metadata": {},
   "outputs": [],
   "source": [
    "def resize(image, length=128, width=128):\n",
    "    \"\"\" Resize images to length and width specified\"\"\"\n",
    "    return tf.image.resize(image, (length, width))/255.0\n",
    "\n",
    "input_images = list(map(resize, input_images))\n",
    "output_images = list(map(resize, output_images))"
   ]
  },
  {
   "cell_type": "code",
   "execution_count": 7,
   "id": "41e8e5f4",
   "metadata": {},
   "outputs": [],
   "source": [
    "def rgba2rgb(image, color = (255,255,255)):\n",
    "    x = np.array(image)\n",
    "    r, g, b, a = np.rollaxis(x, axis=-1)\n",
    "    r[a == 0] = color[0]\n",
    "    g[a == 0] = color[1]\n",
    "    b[a == 0] = color[2] \n",
    "    return np.dstack([r, g, b])\n"
   ]
  },
  {
   "cell_type": "code",
   "execution_count": 8,
   "id": "affc44f7",
   "metadata": {},
   "outputs": [],
   "source": [
    "def list_to_np_arrays(list_of_images):\n",
    "    ''' Returns a singular numpy array from a list of images. \\\n",
    "        It is used to arrange images to be compatible while making tensorflow datasets\n",
    "    '''\n",
    "    \n",
    "    length = list_of_images[0].shape[0]\n",
    "    width  = list_of_images[0].shape[1]\n",
    "    \n",
    "    imgs   = np.empty((0, length, width, 3))\n",
    "    \n",
    "    for img in list_of_images:\n",
    "        img = rgba2rgb(img)\n",
    "        imgs = np.append(imgs, np.array(img).reshape((1, length, width, 3)), axis=0)\n",
    "        \n",
    "    return imgs"
   ]
  },
  {
   "cell_type": "code",
   "execution_count": 53,
   "id": "dd74f26e",
   "metadata": {},
   "outputs": [],
   "source": [
    "# Splitting the data into train and test sets\n",
    "X = list_to_np_arrays(input_images[:100])\n",
    "y = list_to_np_arrays(output_images[:100])\n",
    "\n",
    "from sklearn.model_selection import train_test_split\n",
    "data_train, data_test, labels_train, labels_test = train_test_split(X, y, test_size=0.20, random_state=42)"
   ]
  },
  {
   "cell_type": "code",
   "execution_count": 54,
   "id": "4ced65b0",
   "metadata": {},
   "outputs": [],
   "source": [
    "# Converting numpy arrays to tf Dataset\n",
    "train_images_ds = tf.data.Dataset.from_tensor_slices((\n",
    "            tf.cast(data_train, tf.float32),\n",
    "            tf.cast(labels_train, tf.float32)\n",
    "        ))\n",
    "\n",
    "test_images_ds = tf.data.Dataset.from_tensor_slices((\n",
    "            tf.cast(data_test, tf.float32),\n",
    "            tf.cast(labels_test, tf.float32)\n",
    "        ))"
   ]
  },
  {
   "cell_type": "code",
   "execution_count": 102,
   "id": "251be538",
   "metadata": {},
   "outputs": [
    {
     "name": "stdout",
     "output_type": "stream",
     "text": [
      "Input Image Sample\n"
     ]
    },
    {
     "name": "stderr",
     "output_type": "stream",
     "text": [
      "2021-12-01 13:13:49.361195: W tensorflow/core/data/root_dataset.cc:163] Optimization loop failed: CANCELLED: Operation was cancelled\n"
     ]
    },
    {
     "data": {
      "image/png": "[encoded data removed]",
      "text/plain": [
       "<PIL.Image.Image image mode=RGB size=128x128 at 0x7FDE801B1790>"
      ]
     },
     "execution_count": 102,
     "metadata": {},
     "output_type": "execute_result"
    }
   ],
   "source": [
    "a, b = train_images_ds.take(2)\n",
    "#tf.image.resize(output_images[0], (128, 128))\n",
    "print(\"Input Image Sample\")\n",
    "tf.keras.utils.array_to_img(a[0])\n",
    "#a[0].shape\n"
   ]
  },
  {
   "cell_type": "code",
   "execution_count": 103,
   "id": "0b509223",
   "metadata": {},
   "outputs": [
    {
     "name": "stdout",
     "output_type": "stream",
     "text": [
      "Output Image Sample\n"
     ]
    },
    {
     "data": {
      "image/png": "[encoded data removed]",
      "text/plain": [
       "<PIL.Image.Image image mode=RGB size=128x128 at 0x7FDEAC233970>"
      ]
     },
     "execution_count": 103,
     "metadata": {},
     "output_type": "execute_result"
    }
   ],
   "source": [
    "# Output Image\n",
    "print(\"Output Image Sample\")\n",
    "tf.keras.utils.array_to_img(a[1])"
   ]
  },
  {
   "cell_type": "code",
   "execution_count": 12,
   "id": "ff2c71be",
   "metadata": {},
   "outputs": [
    {
     "ename": "ValueError",
     "evalue": "not enough values to unpack (expected 4, got 3)",
     "output_type": "error",
     "traceback": [
      "\u001b[0;31m---------------------------------------------------------------------------\u001b[0m",
      "\u001b[0;31mValueError\u001b[0m                                Traceback (most recent call last)",
      "\u001b[0;32m/tmp/ipykernel_1763/1754662223.py\u001b[0m in \u001b[0;36m<module>\u001b[0;34m\u001b[0m\n\u001b[0;32m----> 1\u001b[0;31m \u001b[0mtf\u001b[0m\u001b[0;34m.\u001b[0m\u001b[0mkeras\u001b[0m\u001b[0;34m.\u001b[0m\u001b[0mutils\u001b[0m\u001b[0;34m.\u001b[0m\u001b[0marray_to_img\u001b[0m\u001b[0;34m(\u001b[0m\u001b[0mrgba2rgb\u001b[0m\u001b[0;34m(\u001b[0m\u001b[0mlabels_test\u001b[0m\u001b[0;34m[\u001b[0m\u001b[0;36m1\u001b[0m\u001b[0;34m]\u001b[0m\u001b[0;34m)\u001b[0m\u001b[0;34m)\u001b[0m\u001b[0;34m\u001b[0m\u001b[0;34m\u001b[0m\u001b[0m\n\u001b[0m\u001b[1;32m      2\u001b[0m \u001b[0;31m#input_images[0].shape\u001b[0m\u001b[0;34m\u001b[0m\u001b[0;34m\u001b[0m\u001b[0m\n",
      "\u001b[0;32m/tmp/ipykernel_1763/4272828325.py\u001b[0m in \u001b[0;36mrgba2rgb\u001b[0;34m(image, color)\u001b[0m\n\u001b[1;32m      1\u001b[0m \u001b[0;32mdef\u001b[0m \u001b[0mrgba2rgb\u001b[0m\u001b[0;34m(\u001b[0m\u001b[0mimage\u001b[0m\u001b[0;34m,\u001b[0m \u001b[0mcolor\u001b[0m \u001b[0;34m=\u001b[0m \u001b[0;34m(\u001b[0m\u001b[0;36m255\u001b[0m\u001b[0;34m,\u001b[0m\u001b[0;36m255\u001b[0m\u001b[0;34m,\u001b[0m\u001b[0;36m255\u001b[0m\u001b[0;34m)\u001b[0m\u001b[0;34m)\u001b[0m\u001b[0;34m:\u001b[0m\u001b[0;34m\u001b[0m\u001b[0;34m\u001b[0m\u001b[0m\n\u001b[1;32m      2\u001b[0m     \u001b[0mx\u001b[0m \u001b[0;34m=\u001b[0m \u001b[0mnp\u001b[0m\u001b[0;34m.\u001b[0m\u001b[0marray\u001b[0m\u001b[0;34m(\u001b[0m\u001b[0mimage\u001b[0m\u001b[0;34m)\u001b[0m\u001b[0;34m\u001b[0m\u001b[0;34m\u001b[0m\u001b[0m\n\u001b[0;32m----> 3\u001b[0;31m     \u001b[0mr\u001b[0m\u001b[0;34m,\u001b[0m \u001b[0mg\u001b[0m\u001b[0;34m,\u001b[0m \u001b[0mb\u001b[0m\u001b[0;34m,\u001b[0m \u001b[0ma\u001b[0m \u001b[0;34m=\u001b[0m \u001b[0mnp\u001b[0m\u001b[0;34m.\u001b[0m\u001b[0mrollaxis\u001b[0m\u001b[0;34m(\u001b[0m\u001b[0mx\u001b[0m\u001b[0;34m,\u001b[0m \u001b[0maxis\u001b[0m\u001b[0;34m=\u001b[0m\u001b[0;34m-\u001b[0m\u001b[0;36m1\u001b[0m\u001b[0;34m)\u001b[0m\u001b[0;34m\u001b[0m\u001b[0;34m\u001b[0m\u001b[0m\n\u001b[0m\u001b[1;32m      4\u001b[0m     \u001b[0mr\u001b[0m\u001b[0;34m[\u001b[0m\u001b[0ma\u001b[0m \u001b[0;34m==\u001b[0m \u001b[0;36m0\u001b[0m\u001b[0;34m]\u001b[0m \u001b[0;34m=\u001b[0m \u001b[0mcolor\u001b[0m\u001b[0;34m[\u001b[0m\u001b[0;36m0\u001b[0m\u001b[0;34m]\u001b[0m\u001b[0;34m\u001b[0m\u001b[0;34m\u001b[0m\u001b[0m\n\u001b[1;32m      5\u001b[0m     \u001b[0mg\u001b[0m\u001b[0;34m[\u001b[0m\u001b[0ma\u001b[0m \u001b[0;34m==\u001b[0m \u001b[0;36m0\u001b[0m\u001b[0;34m]\u001b[0m \u001b[0;34m=\u001b[0m \u001b[0mcolor\u001b[0m\u001b[0;34m[\u001b[0m\u001b[0;36m1\u001b[0m\u001b[0;34m]\u001b[0m\u001b[0;34m\u001b[0m\u001b[0;34m\u001b[0m\u001b[0m\n",
      "\u001b[0;31mValueError\u001b[0m: not enough values to unpack (expected 4, got 3)"
     ]
    }
   ],
   "source": [
    "\n",
    "tf.keras.utils.array_to_img(rgba2rgb(labels_test[1]))\n",
    "#input_images[0].shape"
   ]
  },
  {
   "cell_type": "code",
   "execution_count": 13,
   "id": "19a831fb",
   "metadata": {},
   "outputs": [
    {
     "ename": "NameError",
     "evalue": "name 'train_batches' is not defined",
     "output_type": "error",
     "traceback": [
      "\u001b[0;31m---------------------------------------------------------------------------\u001b[0m",
      "\u001b[0;31mNameError\u001b[0m                                 Traceback (most recent call last)",
      "\u001b[0;32m/tmp/ipykernel_1763/2927533787.py\u001b[0m in \u001b[0;36m<module>\u001b[0;34m\u001b[0m\n\u001b[0;32m----> 1\u001b[0;31m \u001b[0ma_ds\u001b[0m\u001b[0;34m,\u001b[0m \u001b[0mb_ds\u001b[0m \u001b[0;34m=\u001b[0m \u001b[0mtrain_batches\u001b[0m\u001b[0;34m.\u001b[0m\u001b[0mtake\u001b[0m\u001b[0;34m(\u001b[0m\u001b[0;36m2\u001b[0m\u001b[0;34m)\u001b[0m\u001b[0;34m\u001b[0m\u001b[0;34m\u001b[0m\u001b[0m\n\u001b[0m\u001b[1;32m      2\u001b[0m \u001b[0ma_ds\u001b[0m\u001b[0;34m[\u001b[0m\u001b[0;36m0\u001b[0m\u001b[0;34m]\u001b[0m\u001b[0;34m[\u001b[0m\u001b[0;36m0\u001b[0m\u001b[0;34m]\u001b[0m\u001b[0;34m.\u001b[0m\u001b[0mshape\u001b[0m\u001b[0;34m\u001b[0m\u001b[0;34m\u001b[0m\u001b[0m\n",
      "\u001b[0;31mNameError\u001b[0m: name 'train_batches' is not defined"
     ]
    }
   ],
   "source": [
    "a_ds, b_ds = train_batches.take(2)\n",
    "a_ds[0][0].shape"
   ]
  },
  {
   "cell_type": "code",
   "execution_count": 14,
   "id": "40a7d815",
   "metadata": {},
   "outputs": [
    {
     "name": "stdout",
     "output_type": "stream",
     "text": [
      "(128, 128, 4)\n"
     ]
    },
    {
     "data": {
      "image/png": "[encoded data removed]",
      "text/plain": [
       "<PIL.Image.Image image mode=RGBA size=128x128 at 0x7FDF34807EE0>"
      ]
     },
     "execution_count": 14,
     "metadata": {},
     "output_type": "execute_result"
    }
   ],
   "source": [
    "# for visualizing\n",
    "print(output_images[0].shape)\n",
    "tf.keras.utils.array_to_img(tf.image.resize(output_images[0], (128, 128)))\n"
   ]
  },
  {
   "cell_type": "markdown",
   "id": "6816a387",
   "metadata": {},
   "source": [
    "# ---------------------------------"
   ]
  },
  {
   "cell_type": "markdown",
   "id": "b795a84e",
   "metadata": {},
   "source": [
    "# Building the Input Pipeling"
   ]
  },
  {
   "cell_type": "code",
   "execution_count": null,
   "id": "68549a02",
   "metadata": {},
   "outputs": [],
   "source": [
    "# train_images = train_dataset.map(resize, num_parallel_calls=tf.data.AUTOTUNE)\n",
    "# train_images\n",
    "\n",
    "for features_tensor, target_tensor in training_dataset:\n",
    "    print(f'features:{features_tensor} target:{target_tensor}')"
   ]
  },
  {
   "cell_type": "code",
   "execution_count": 56,
   "id": "426f1383",
   "metadata": {},
   "outputs": [],
   "source": [
    "# Defining parameters for the loader\n",
    "TRAIN_LENGTH = data_train.shape[0]\n",
    "BATCH_SIZE = 64\n",
    "BUFFER_SIZE = 1000\n",
    "STEPS_PER_EPOCH = TRAIN_LENGTH // BATCH_SIZE\n",
    "\n",
    "#train_images_ds = train_images_ds.map(resize, num_parallel_calls=tf.data.AUTOTUNE)\n",
    "\n",
    "# Building input pipeline\n",
    "train_batches = (\n",
    "    train_images_ds\n",
    "    .cache()\n",
    "    .shuffle(BUFFER_SIZE)\n",
    "    .batch(BATCH_SIZE)\n",
    "    .repeat()\n",
    "    .prefetch(buffer_size=tf.data.AUTOTUNE))\n",
    "\n",
    "test_batches = test_images_ds.batch(BATCH_SIZE)"
   ]
  },
  {
   "cell_type": "markdown",
   "id": "3097e8ac",
   "metadata": {},
   "source": [
    "# Defining the model\n",
    "We are using U-net model"
   ]
  },
  {
   "cell_type": "code",
   "execution_count": 57,
   "id": "a87d5531",
   "metadata": {},
   "outputs": [],
   "source": [
    "def upsample(filters, size, apply_dropout=False):\n",
    "    \"\"\" Upsampler for U-net Model\"\"\"\n",
    "    initializer = tf.random_normal_initializer(0., 0.02)\n",
    "\n",
    "    result = tf.keras.Sequential()\n",
    "    result.add(\n",
    "    tf.keras.layers.Conv2DTranspose(filters, size, strides=2,\n",
    "                                    padding='same',\n",
    "                                    kernel_initializer=initializer,\n",
    "                                    use_bias=False))\n",
    "\n",
    "    result.add(tf.keras.layers.BatchNormalization())\n",
    "\n",
    "    if apply_dropout:\n",
    "        result.add(tf.keras.layers.Dropout(0.5))\n",
    "\n",
    "    result.add(tf.keras.layers.ReLU())\n",
    "\n",
    "    return result"
   ]
  },
  {
   "cell_type": "code",
   "execution_count": 58,
   "id": "69ce187a",
   "metadata": {},
   "outputs": [],
   "source": [
    "base_model = tf.keras.applications.MobileNetV2(input_shape=[128, 128, 3], include_top=False)\n",
    "\n",
    "# Use the activations of these layers\n",
    "layer_names = [\n",
    "    'block_1_expand_relu',   # 64x64\n",
    "    'block_3_expand_relu',   # 32x32\n",
    "    'block_6_expand_relu',   # 16x16\n",
    "    'block_13_expand_relu',  # 8x8\n",
    "    'block_16_project',      # 4x4\n",
    "]\n",
    "base_model_outputs = [base_model.get_layer(name).output for name in layer_names]\n",
    "\n",
    "# Create the feature extraction model\n",
    "down_stack = tf.keras.Model(inputs=base_model.input, outputs=base_model_outputs)\n",
    "\n",
    "down_stack.trainable = False\n",
    "up_stack = [\n",
    "    upsample(512, 3),  # 4x4 -> 8x8\n",
    "    upsample(256, 3),  # 8x8 -> 16x16\n",
    "    upsample(128, 3),  # 16x16 -> 32x32\n",
    "    upsample(64, 3),   # 32x32 -> 64x64\n",
    "]"
   ]
  },
  {
   "cell_type": "code",
   "execution_count": 59,
   "id": "58cdf99b",
   "metadata": {},
   "outputs": [],
   "source": [
    "def unet_model(output_channels:int):\n",
    "    inputs = tf.keras.layers.Input(shape=[128, 128, 3])\n",
    "\n",
    "    # Downsampling through the model\n",
    "    skips = down_stack(inputs)\n",
    "    x = skips[-1]\n",
    "    skips = reversed(skips[:-1])\n",
    "\n",
    "    # Upsampling and establishing the skip connections\n",
    "    for up, skip in zip(up_stack, skips):\n",
    "        x = up(x)\n",
    "        concat = tf.keras.layers.Concatenate()\n",
    "        x = concat([x, skip])\n",
    "\n",
    "    # This is the last layer of the model\n",
    "    last = tf.keras.layers.Conv2DTranspose(\n",
    "      filters=output_channels, kernel_size=3, strides=2,\n",
    "      padding='same')  #64x64 -> 128x128\n",
    "\n",
    "    x = last(x)\n",
    "\n",
    "    return tf.keras.Model(inputs=inputs, outputs=x)"
   ]
  },
  {
   "cell_type": "code",
   "execution_count": null,
   "id": "c8caf7b1",
   "metadata": {},
   "outputs": [],
   "source": []
  },
  {
   "cell_type": "code",
   "execution_count": 83,
   "id": "0b1cffb6",
   "metadata": {},
   "outputs": [],
   "source": [
    "# Custom Loss Function\n",
    "def DiceLoss(targets, inputs, smooth=1e-6):    \n",
    "    print(\"targets: \", targets.shape)\n",
    "    print(\"inputs: \", inputs.shape)\n",
    "    #flatten label and prediction tensors\n",
    "    inputs = tf.keras.backend.flatten(inputs)\n",
    "    targets = tf.keras.backend.flatten(targets)\n",
    "    \n",
    "    intersection = tf.keras.backend.sum(tf.keras.backend.dot(targets, inputs))\n",
    "    dice = (2*intersection + smooth) / (tf.keras.backend.sum(targets) + tf.keras.backend.sum(inputs) + smooth)\n",
    "    return 1 - dice"
   ]
  },
  {
   "cell_type": "code",
   "execution_count": 90,
   "id": "abc2a4dd",
   "metadata": {},
   "outputs": [],
   "source": [
    "OUTPUT_CLASSES = 3\n",
    "\n",
    "model = unet_model(output_channels=OUTPUT_CLASSES)\n",
    "model.compile(optimizer='adam',\n",
    "              #loss=DiceLoss,\n",
    "              loss=tf.keras.losses.BinaryCrossentropy(from_logits=True),\n",
    "              metrics=['accuracy'])"
   ]
  },
  {
   "cell_type": "code",
   "execution_count": 91,
   "id": "8bc7801e",
   "metadata": {
    "scrolled": false
   },
   "outputs": [
    {
     "name": "stdout",
     "output_type": "stream",
     "text": [
      "Epoch 1/60\n",
      "2/2 [==============================] - 9s 1s/step - loss: 0.8186 - accuracy: 0.2773\n",
      "Epoch 2/60\n",
      "2/2 [==============================] - 6s 2s/step - loss: 0.5481 - accuracy: 0.2603\n",
      "Epoch 3/60\n",
      "2/2 [==============================] - 7s 1s/step - loss: 0.3632 - accuracy: 0.2591\n",
      "Epoch 4/60\n",
      "2/2 [==============================] - 6s 1s/step - loss: 0.2452 - accuracy: 0.2611\n",
      "Epoch 5/60\n",
      "2/2 [==============================] - 5s 1s/step - loss: 0.1733 - accuracy: 0.2621\n",
      "Epoch 6/60\n",
      "2/2 [==============================] - 6s 1s/step - loss: 0.1288 - accuracy: 0.2619\n",
      "Epoch 7/60\n",
      "2/2 [==============================] - 6s 2s/step - loss: 0.1001 - accuracy: 0.2616\n",
      "Epoch 8/60\n",
      "2/2 [==============================] - 6s 1s/step - loss: 0.0808 - accuracy: 0.2612\n",
      "Epoch 9/60\n",
      "2/2 [==============================] - 7s 2s/step - loss: 0.0675 - accuracy: 0.2612\n",
      "Epoch 10/60\n",
      "2/2 [==============================] - 9s 2s/step - loss: 0.0579 - accuracy: 0.2612\n",
      "Epoch 11/60\n",
      "2/2 [==============================] - 6s 1s/step - loss: 0.0510 - accuracy: 0.2616\n",
      "Epoch 12/60\n",
      "2/2 [==============================] - 6s 1s/step - loss: 0.0459 - accuracy: 0.2628\n",
      "Epoch 13/60\n",
      "2/2 [==============================] - 5s 1s/step - loss: 0.0421 - accuracy: 0.2635\n",
      "Epoch 14/60\n",
      "2/2 [==============================] - 6s 1s/step - loss: 0.0392 - accuracy: 0.2649\n",
      "Epoch 15/60\n",
      "2/2 [==============================] - 6s 2s/step - loss: 0.0370 - accuracy: 0.2650\n",
      "Epoch 16/60\n",
      "2/2 [==============================] - 6s 1s/step - loss: 0.0352 - accuracy: 0.2650\n",
      "Epoch 17/60\n",
      "2/2 [==============================] - 6s 1s/step - loss: 0.0338 - accuracy: 0.2651\n",
      "Epoch 18/60\n",
      "2/2 [==============================] - 6s 1s/step - loss: 0.0327 - accuracy: 0.2652\n",
      "Epoch 19/60\n",
      "2/2 [==============================] - 6s 2s/step - loss: 0.0318 - accuracy: 0.2660\n",
      "Epoch 20/60\n",
      "2/2 [==============================] - 9s 2s/step - loss: 0.0310 - accuracy: 0.2664\n",
      "Epoch 21/60\n",
      "2/2 [==============================] - 7s 2s/step - loss: 0.0304 - accuracy: 0.2667\n",
      "Epoch 22/60\n",
      "2/2 [==============================] - 8s 2s/step - loss: 0.0298 - accuracy: 0.2666\n",
      "Epoch 23/60\n",
      "2/2 [==============================] - 9s 2s/step - loss: 0.0294 - accuracy: 0.2668\n",
      "Epoch 24/60\n",
      "2/2 [==============================] - 8s 1s/step - loss: 0.0290 - accuracy: 0.2667\n",
      "Epoch 25/60\n",
      "2/2 [==============================] - 7s 2s/step - loss: 0.0286 - accuracy: 0.2669\n",
      "Epoch 26/60\n",
      "2/2 [==============================] - 7s 2s/step - loss: 0.0284 - accuracy: 0.2670\n",
      "Epoch 27/60\n",
      "2/2 [==============================] - 7s 2s/step - loss: 0.0281 - accuracy: 0.2756\n",
      "Epoch 28/60\n",
      "2/2 [==============================] - 7s 2s/step - loss: 0.0279 - accuracy: 0.3027\n",
      "Epoch 29/60\n",
      "2/2 [==============================] - 7s 2s/step - loss: 0.0276 - accuracy: 0.3137\n",
      "Epoch 30/60\n",
      "2/2 [==============================] - 7s 2s/step - loss: 0.0275 - accuracy: 0.3165\n",
      "Epoch 31/60\n",
      "2/2 [==============================] - 7s 2s/step - loss: 0.0273 - accuracy: 0.3187\n",
      "Epoch 32/60\n",
      "2/2 [==============================] - 7s 2s/step - loss: 0.0271 - accuracy: 0.3190\n",
      "Epoch 33/60\n",
      "2/2 [==============================] - 7s 2s/step - loss: 0.0270 - accuracy: 0.3185\n",
      "Epoch 34/60\n",
      "2/2 [==============================] - 7s 2s/step - loss: 0.0268 - accuracy: 0.3162\n",
      "Epoch 35/60\n",
      "2/2 [==============================] - 6s 2s/step - loss: 0.0267 - accuracy: 0.2977\n",
      "Epoch 36/60\n",
      "2/2 [==============================] - 6s 1s/step - loss: 0.0266 - accuracy: 0.2862\n",
      "Epoch 37/60\n",
      "2/2 [==============================] - 6s 2s/step - loss: 0.0265 - accuracy: 0.2894\n",
      "Epoch 38/60\n",
      "2/2 [==============================] - 6s 2s/step - loss: 0.0264 - accuracy: 0.2847\n",
      "Epoch 39/60\n",
      "2/2 [==============================] - 7s 2s/step - loss: 0.0263 - accuracy: 0.2856\n",
      "Epoch 40/60\n",
      "2/2 [==============================] - 7s 2s/step - loss: 0.0262 - accuracy: 0.2865\n",
      "Epoch 41/60\n",
      "2/2 [==============================] - 6s 1s/step - loss: 0.0261 - accuracy: 0.2882\n",
      "Epoch 42/60\n",
      "2/2 [==============================] - 6s 2s/step - loss: 0.0260 - accuracy: 0.2907\n",
      "Epoch 43/60\n",
      "2/2 [==============================] - 7s 2s/step - loss: 0.0260 - accuracy: 0.2917\n",
      "Epoch 44/60\n",
      "2/2 [==============================] - 7s 2s/step - loss: 0.0259 - accuracy: 0.2960\n",
      "Epoch 45/60\n",
      "2/2 [==============================] - 7s 2s/step - loss: 0.0258 - accuracy: 0.3086\n",
      "Epoch 46/60\n",
      "2/2 [==============================] - 7s 2s/step - loss: 0.0257 - accuracy: 0.3165\n",
      "Epoch 47/60\n",
      "2/2 [==============================] - 7s 2s/step - loss: 0.0257 - accuracy: 0.3190\n",
      "Epoch 48/60\n",
      "2/2 [==============================] - 7s 2s/step - loss: 0.0256 - accuracy: 0.3200\n",
      "Epoch 49/60\n",
      "2/2 [==============================] - 7s 2s/step - loss: 0.0256 - accuracy: 0.3208\n",
      "Epoch 50/60\n",
      "2/2 [==============================] - 6s 1s/step - loss: 0.0255 - accuracy: 0.3212\n",
      "Epoch 51/60\n",
      "2/2 [==============================] - 6s 2s/step - loss: 0.0255 - accuracy: 0.3215\n",
      "Epoch 52/60\n",
      "2/2 [==============================] - 6s 2s/step - loss: 0.0254 - accuracy: 0.3217\n",
      "Epoch 53/60\n",
      "2/2 [==============================] - 7s 2s/step - loss: 0.0254 - accuracy: 0.3221\n",
      "Epoch 54/60\n",
      "2/2 [==============================] - 6s 2s/step - loss: 0.0253 - accuracy: 0.3230\n",
      "Epoch 55/60\n",
      "2/2 [==============================] - 8s 2s/step - loss: 0.0253 - accuracy: 0.3242\n",
      "Epoch 56/60\n",
      "2/2 [==============================] - 7s 2s/step - loss: 0.0252 - accuracy: 0.3249\n",
      "Epoch 57/60\n",
      "2/2 [==============================] - 7s 2s/step - loss: 0.0252 - accuracy: 0.3258\n",
      "Epoch 58/60\n",
      "2/2 [==============================] - 8s 2s/step - loss: 0.0252 - accuracy: 0.3258\n",
      "Epoch 59/60\n",
      "2/2 [==============================] - 7s 2s/step - loss: 0.0251 - accuracy: 0.3267\n",
      "Epoch 60/60\n",
      "2/2 [==============================] - 8s 2s/step - loss: 0.0251 - accuracy: 0.3285\n"
     ]
    }
   ],
   "source": [
    "EPOCHS = 60\n",
    "VAL_SUBSPLITS = 5\n",
    "VALIDATION_STEPS = data_test.shape[0]//BATCH_SIZE//VAL_SUBSPLITS\n",
    "\n",
    "model_history = model.fit(train_batches, epochs=EPOCHS,\n",
    "                          steps_per_epoch=2,\n",
    "                          #validation_steps=VALIDATION_STEPS,\n",
    "                          #validation_data=test_batches,\n",
    "                          )"
   ]
  },
  {
   "cell_type": "code",
   "execution_count": null,
   "id": "7791f7e2",
   "metadata": {},
   "outputs": [],
   "source": [
    "model.summary()"
   ]
  },
  {
   "cell_type": "code",
   "execution_count": null,
   "id": "e4011f09",
   "metadata": {},
   "outputs": [],
   "source": [
    "model_history.history.keys()"
   ]
  },
  {
   "cell_type": "code",
   "execution_count": null,
   "id": "1acdc31c",
   "metadata": {},
   "outputs": [],
   "source": []
  },
  {
   "cell_type": "code",
   "execution_count": 92,
   "id": "becf0b83",
   "metadata": {},
   "outputs": [],
   "source": [
    "a = model.predict(test_batches)"
   ]
  },
  {
   "cell_type": "code",
   "execution_count": 93,
   "id": "e1cfdf15",
   "metadata": {},
   "outputs": [
    {
     "data": {
      "image/png": "[encoded data removed]",
      "text/plain": [
       "<PIL.Image.Image image mode=RGB size=256x256 at 0x7FDE9B51A190>"
      ]
     },
     "execution_count": 93,
     "metadata": {},
     "output_type": "execute_result"
    }
   ],
   "source": [
    "a[1].shape\n",
    "tf.keras.utils.array_to_img(tf.image.resize(a[1], (256, 256)))"
   ]
  },
  {
   "cell_type": "code",
   "execution_count": null,
   "id": "dc85944c",
   "metadata": {},
   "outputs": [],
   "source": [
    "input_images[101].shape"
   ]
  },
  {
   "cell_type": "code",
   "execution_count": null,
   "id": "09ad3ab3",
   "metadata": {},
   "outputs": [],
   "source": [
    "a, b = test_images_ds.take(2)\n",
    "\n",
    "tf.keras.utils.array_to_img(tf.image.resize(b[1], (256, 256)))"
   ]
  },
  {
   "cell_type": "code",
   "execution_count": null,
   "id": "b64ba470",
   "metadata": {},
   "outputs": [],
   "source": []
  },
  {
   "cell_type": "code",
   "execution_count": null,
   "id": "24b39ec8",
   "metadata": {},
   "outputs": [],
   "source": [
    "\n",
    "rgba2rgb(input_images[101]).shape"
   ]
  },
  {
   "cell_type": "code",
   "execution_count": null,
   "id": "17f3e208",
   "metadata": {},
   "outputs": [],
   "source": [
    "model.predict(b[0])"
   ]
  },
  {
   "cell_type": "code",
   "execution_count": 69,
   "id": "fd43796d",
   "metadata": {},
   "outputs": [
    {
     "data": {
      "image/png": "[encoded data removed]",
      "text/plain": [
       "<Figure size 432x288 with 1 Axes>"
      ]
     },
     "metadata": {
      "needs_background": "light"
     },
     "output_type": "display_data"
    }
   ],
   "source": [
    "loss = model_history.history['loss']\n",
    "accuracy = model_history.history['accuracy']\n",
    "\n",
    "plt.figure()\n",
    "plt.plot(model_history.epoch, loss, 'r', label='Training loss')\n",
    "plt.plot(model_history.epoch, accuracy, 'bo', label='Accuracy')\n",
    "plt.title('Training Loss and Accuracy')\n",
    "plt.xlabel('Epoch')\n",
    "plt.ylabel('Accuracy')\n",
    "plt.ylim([0, 1])\n",
    "plt.legend()\n",
    "plt.show()"
   ]
  },
  {
   "cell_type": "code",
   "execution_count": null,
   "id": "54b9f3b9",
   "metadata": {},
   "outputs": [],
   "source": [
    "def show_predictions(dataset=None, num=1):\n",
    "    if dataset:\n",
    "        for image, mask in dataset.take(num):\n",
    "            pred_mask = model.predict(image)\n",
    "            display([image[0], mask[0], create_mask(pred_mask)])\n",
    "    else:\n",
    "        display([sample_image, sample_mask,\n",
    "                 create_mask(model.predict(sample_image[tf.newaxis, ...]))])"
   ]
  },
  {
   "cell_type": "code",
   "execution_count": null,
   "id": "1f20cb3a",
   "metadata": {
    "scrolled": true
   },
   "outputs": [],
   "source": [
    "show_predictions(test_batches, 3)"
   ]
  },
  {
   "cell_type": "markdown",
   "id": "dcc2af0d",
   "metadata": {},
   "source": [
    "# Simple Regression"
   ]
  },
  {
   "cell_type": "code",
   "execution_count": 70,
   "id": "c55f6cad",
   "metadata": {},
   "outputs": [],
   "source": [
    "def gen_model():\n",
    "    model = tf.keras.models.Sequential([\n",
    "    tf.keras.layers.Dense(256,  activation='relu'),\n",
    "    tf.keras.layers.Dense(256, activation='relu'),\n",
    "    tf.keras.layers.Dense(128, activation='relu'),\n",
    "    tf.keras.layers.Dense(1)\n",
    "    \n",
    "    ])\n",
    "\n",
    "    model.compile(optimizer=tf.keras.optimizers.Adam(),\n",
    "                  loss=tf.keras.losses.MeanSquaredError(),\n",
    "                  metrics=['accuracy'])\n",
    "\n",
    "    return model"
   ]
  },
  {
   "cell_type": "code",
   "execution_count": 72,
   "id": "c507074e",
   "metadata": {
    "scrolled": false
   },
   "outputs": [
    {
     "name": "stdout",
     "output_type": "stream",
     "text": [
      "Epoch 1/20\n",
      "10/10 [==============================] - 14s 1s/step - loss: 4.9044e-06 - accuracy: 0.0000e+00\n",
      "Epoch 2/20\n",
      "10/10 [==============================] - 15s 1s/step - loss: 4.1740e-07 - accuracy: 0.0000e+00\n",
      "Epoch 3/20\n",
      "10/10 [==============================] - 14s 1s/step - loss: 2.2006e-07 - accuracy: 0.0000e+00\n",
      "Epoch 4/20\n",
      "10/10 [==============================] - 15s 2s/step - loss: 1.7305e-07 - accuracy: 0.0000e+00\n",
      "Epoch 5/20\n",
      "10/10 [==============================] - 19s 2s/step - loss: 1.5235e-07 - accuracy: 0.0000e+00\n",
      "Epoch 6/20\n",
      "10/10 [==============================] - 14s 1s/step - loss: 1.4432e-07 - accuracy: 0.0000e+00\n",
      "Epoch 7/20\n",
      "10/10 [==============================] - 13s 1s/step - loss: 1.4119e-07 - accuracy: 0.0000e+00\n",
      "Epoch 8/20\n",
      "10/10 [==============================] - 13s 1s/step - loss: 1.3984e-07 - accuracy: 0.0000e+00\n",
      "Epoch 9/20\n",
      "10/10 [==============================] - 13s 1s/step - loss: 1.3926e-07 - accuracy: 0.0000e+00\n",
      "Epoch 10/20\n",
      "10/10 [==============================] - 16s 2s/step - loss: 1.3841e-07 - accuracy: 0.0000e+00\n",
      "Epoch 11/20\n",
      "10/10 [==============================] - 14s 1s/step - loss: 1.3743e-07 - accuracy: 0.0000e+00\n",
      "Epoch 12/20\n",
      "10/10 [==============================] - 13s 1s/step - loss: 1.3621e-07 - accuracy: 0.0000e+00\n",
      "Epoch 13/20\n",
      "10/10 [==============================] - 15s 1s/step - loss: 1.3522e-07 - accuracy: 0.0000e+00\n",
      "Epoch 14/20\n",
      "10/10 [==============================] - 15s 2s/step - loss: 1.3410e-07 - accuracy: 0.0000e+00\n",
      "Epoch 15/20\n",
      "10/10 [==============================] - 13s 1s/step - loss: 1.3315e-07 - accuracy: 0.0000e+00\n",
      "Epoch 16/20\n",
      "10/10 [==============================] - 14s 1s/step - loss: 1.3222e-07 - accuracy: 0.0000e+00\n",
      "Epoch 17/20\n",
      "10/10 [==============================] - 14s 1s/step - loss: 1.3086e-07 - accuracy: 0.0000e+00\n",
      "Epoch 18/20\n",
      "10/10 [==============================] - 14s 1s/step - loss: 1.2973e-07 - accuracy: 0.0000e+00\n",
      "Epoch 19/20\n",
      "10/10 [==============================] - 14s 1s/step - loss: 1.2869e-07 - accuracy: 0.0000e+00\n",
      "Epoch 20/20\n",
      "10/10 [==============================] - 13s 1s/step - loss: 1.2753e-07 - accuracy: 0.0000e+00\n"
     ]
    },
    {
     "data": {
      "text/plain": [
       "<keras.callbacks.History at 0x7fde81a35a30>"
      ]
     },
     "execution_count": 72,
     "metadata": {},
     "output_type": "execute_result"
    }
   ],
   "source": [
    "EPOCHS = 20\n",
    "model = gen_model()\n",
    "model.fit(data_train, labels_train, epochs=EPOCHS, steps_per_epoch=10)"
   ]
  },
  {
   "cell_type": "code",
   "execution_count": 73,
   "id": "2c161e9a",
   "metadata": {
    "scrolled": true
   },
   "outputs": [
    {
     "name": "stdout",
     "output_type": "stream",
     "text": [
      "Model: \"sequential_9\"\n",
      "_________________________________________________________________\n",
      " Layer (type)                Output Shape              Param #   \n",
      "=================================================================\n",
      " dense_4 (Dense)             (8, 128, 128, 256)        1024      \n",
      "                                                                 \n",
      " dense_5 (Dense)             (8, 128, 128, 256)        65792     \n",
      "                                                                 \n",
      " dense_6 (Dense)             (8, 128, 128, 128)        32896     \n",
      "                                                                 \n",
      " dense_7 (Dense)             (8, 128, 128, 1)          129       \n",
      "                                                                 \n",
      "=================================================================\n",
      "Total params: 99,841\n",
      "Trainable params: 99,841\n",
      "Non-trainable params: 0\n",
      "_________________________________________________________________\n"
     ]
    }
   ],
   "source": [
    "model.summary()"
   ]
  },
  {
   "cell_type": "code",
   "execution_count": 74,
   "id": "d1b264b0",
   "metadata": {},
   "outputs": [
    {
     "name": "stdout",
     "output_type": "stream",
     "text": [
      "WARNING:tensorflow:Model was constructed with shape (8, 128, 128, 3) for input KerasTensor(type_spec=TensorSpec(shape=(8, 128, 128, 3), dtype=tf.float32, name='dense_4_input'), name='dense_4_input', description=\"created by layer 'dense_4_input'\"), but it was called on an input with incompatible shape (32, 128, 3).\n"
     ]
    },
    {
     "data": {
      "image/png": "[encoded data removed]",
      "text/plain": [
       "<PIL.Image.Image image mode=L size=128x128 at 0x7FDE9A675400>"
      ]
     },
     "execution_count": 74,
     "metadata": {},
     "output_type": "execute_result"
    }
   ],
   "source": [
    "tf.keras.utils.array_to_img(model.predict(data_test[10]))"
   ]
  },
  {
   "cell_type": "code",
   "execution_count": 75,
   "id": "24f60240",
   "metadata": {},
   "outputs": [
    {
     "data": {
      "image/png": "[encoded data removed]",
      "text/plain": [
       "<PIL.Image.Image image mode=RGB size=128x128 at 0x7FDEABF032B0>"
      ]
     },
     "execution_count": 75,
     "metadata": {},
     "output_type": "execute_result"
    }
   ],
   "source": [
    "tf.keras.utils.array_to_img(labels_test[9])"
   ]
  },
  {
   "cell_type": "code",
   "execution_count": null,
   "id": "2d09955f",
   "metadata": {},
   "outputs": [],
   "source": []
  }
 ],
 "metadata": {
  "kernelspec": {
   "display_name": "Python 3 (ipykernel)",
   "language": "python",
   "name": "python3"
  },
  "language_info": {
   "codemirror_mode": {
    "name": "ipython",
    "version": 3
   },
   "file_extension": ".py",
   "mimetype": "text/x-python",
   "name": "python",
   "nbconvert_exporter": "python",
   "pygments_lexer": "ipython3",
   "version": "3.9.9"
  }
 },
 "nbformat": 4,
 "nbformat_minor": 5
}
